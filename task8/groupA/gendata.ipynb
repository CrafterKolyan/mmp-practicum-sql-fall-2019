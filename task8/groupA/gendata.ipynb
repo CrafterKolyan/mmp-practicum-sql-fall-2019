{
 "cells": [
  {
   "cell_type": "code",
   "execution_count": 1,
   "metadata": {},
   "outputs": [],
   "source": [
    "import numpy as np\n",
    "import pandas as pd\n",
    "import hashlib\n",
    "import random\n",
    "import base64\n",
    "import string\n",
    "import datetime\n",
    "import pytz\n",
    "from tqdm.notebook import tqdm"
   ]
  },
  {
   "cell_type": "code",
   "execution_count": 2,
   "metadata": {},
   "outputs": [],
   "source": [
    "alphanum = string.ascii_letters + '0123456789'"
   ]
  },
  {
   "cell_type": "code",
   "execution_count": 3,
   "metadata": {},
   "outputs": [],
   "source": [
    "total_users = 100000\n",
    "\n",
    "total_names = 100\n",
    "total_last_names = 100\n",
    "total_middle_names = 100\n",
    "\n",
    "total_groups = 3000\n",
    "\n",
    "min_tutors = 1\n",
    "max_tutors = 5\n",
    "\n",
    "min_students = 0\n",
    "max_students = 25\n",
    "\n",
    "min_assignments = 0\n",
    "max_assignments = 8\n",
    "\n",
    "min_tasks = 1\n",
    "max_tasks = 10\n",
    "\n",
    "min_text = 120\n",
    "max_text = 1000\n",
    "\n",
    "min_solution_text = 10\n",
    "max_solution_text = 200\n",
    "\n",
    "min_comment = 0\n",
    "max_comment = 100\n",
    "\n",
    "average_solved = 2/3.\n",
    "average_graded = 0.75\n",
    "\n",
    "average_active = 0.999\n",
    "average_super_user = 1e-3"
   ]
  },
  {
   "cell_type": "code",
   "execution_count": 4,
   "metadata": {},
   "outputs": [],
   "source": [
    "names = [\"William\", \"Liam \", \"Noah\", \"Lucas\", \"Oliver \", \"Oscar\", \"Elias\", \"Hugo\", \"Adam\", \"Alexander \", \"Walter\", \"Axel \", \"Leo\", \"Nils \", \"Alfred\", \"Vincent\", \"Leon \", \"Ludvig \", \"Charlie \", \"Theo \", \"Gabriel\", \"Filip\", \"Elliot\", \"Arvid \", \"Isak \", \"Harry\", \"Matteo\", \"Adrian\", \"Melvin\", \"Theodor\", \"Benjamin\", \"August\", \"Mohamed\", \"Viktor\", \"Josef \", \"Olle \", \"Ebbe\", \"Edvin \", \"Loui\", \"Sam\", \"Gustav \", \"Malte\", \"Sixten \", \"Frank\", \"Love\", \"Albin \", \"Frans\", \"Henry\", \"Erik \", \"Viggo \", \"Elton\", \"Emil\", \"Jack\", \"Noel \", \"Jacob\", \"Melker\", \"Vidar\", \"Milo\", \"Colin\", \"Casper \", \"Otto\", \"Carl\", \"Loke \", \"Tage\", \"Wilmer \", \"Max \", \"Sigge\", \"Wilhelm\", \"Aron\", \"Milton\", \"Felix\", \"Julian\", \"Alvin\", \"Anton\", \"Ivar\", \"Samuel \", \"Kevin\", \"Nicolas\", \"Kian\", \"John \", \"Elis \", \"Levi\", \"Hjalmar\", \"Elvin\", \"David \", \"Jonathan\", \"Joel\", \"Ville\", \"Vilgot\", \"Daniel \", \"Folke\", \"Ture\", \"Amir\", \"Ali\", \"Vide\", \"Milian\", \"Thor\", \"Omar\", \"Maximilian \", \"Lias\"]\n",
    "surnames = [\"SMITH\", \"JONES\", \"BROWN\", \"JOHNSON\", \"WILLIAMS\", \"MILLER\", \"TAYLOR\", \"WILSON\", \"DAVIS\", \"WHITE\", \"CLARK\", \"HALL\", \"THOMAS\", \"THOMPSON\", \"MOORE\", \"HILL\", \"WALKER\", \"ANDERSON\", \"WRIGHT\", \"MARTIN\", \"WOOD\", \"ALLEN\", \"ROBINSON\", \"LEWIS\", \"SCOTT\", \"YOUNG\", \"JACKSON\", \"ADAMS\", \"TRYNISKI\", \"GREEN\", \"EVANS\", \"KING\", \"BAKER\", \"JOHN\", \"HARRIS\", \"ROBERTS\", \"CAMPBELL\", \"JAMES\", \"STEWART\", \"LEE\", \"COUNTY\", \"TURNER\", \"PARKER\", \"COOK\", \"MC\", \"EDWARDS\", \"MORRIS\", \"MITCHELL\", \"BELL\", \"WARD\", \"WATSON\", \"MORGAN\", \"DAVIES\", \"COOPER\", \"PHILLIPS\", \"ROGERS\", \"GRAY\", \"HUGHES\", \"HARRISON\", \"CARTER\", \"MURPHY\", \"COLLINS\", \"HENRY\", \"FOSTER\", \"RICHARDSON\", \"RUSSELL\", \"HAMILTON\", \"SHAW\", \"BENNETT\", \"HOWARD\", \"REED\", \"FISHER\", \"MARSHALL\", \"MAY\", \"CHURCH\", \"WASHINGTON\", \"KELLY\", \"PRICE\", \"MURRAY\", \"WILLIAM\", \"PALMER\", \"STEVENS\", \"COX\", \"ROBERTSON\", \"MISS\", \"CLARKE\", \"BAILEY\", \"GEORGE\", \"NELSON\", \"MASON\", \"BUTLER\", \"MILLS\", \"HUNT\", \"ISLAND\", \"SIMPSON\", \"GRAHAM\", \"HENDERSON\", \"ROSS\", \"STONE\", \"PORTER\"]\n",
    "surnames = [p[0] + p[1:].lower() for p in surnames]"
   ]
  },
  {
   "cell_type": "code",
   "execution_count": 5,
   "metadata": {},
   "outputs": [
    {
     "data": {
      "application/vnd.jupyter.widget-view+json": {
       "model_id": "c2b8c57ef2f74fad95c66b2312ffb7dd",
       "version_major": 2,
       "version_minor": 0
      },
      "text/plain": [
       "HBox(children=(FloatProgress(value=0.0, max=100000.0), HTML(value='')))"
      ]
     },
     "metadata": {},
     "output_type": "display_data"
    },
    {
     "name": "stdout",
     "output_type": "stream",
     "text": [
      "\n"
     ]
    }
   ],
   "source": [
    "users_raw = [\n",
    "    [\n",
    "        ''.join([random.choice(string.ascii_letters)] + [random.choice(alphanum) for i in range(8)]),\n",
    "        names[min(np.random.zipf(1.4), total_names)-1],\n",
    "        surnames[min(np.random.zipf(1.4), total_last_names)-1],\n",
    "        names[min(np.random.zipf(1.4), total_middle_names)-1],\n",
    "        str(random.getrandbits(12*8)),\n",
    "        hex(random.getrandbits(12 * 4))[2:],\n",
    "        np.random.rand() < average_active,\n",
    "        np.random.rand() < average_super_user,\n",
    "    ] for i in tqdm(range(total_users))\n",
    "]"
   ]
  },
  {
   "cell_type": "code",
   "execution_count": 6,
   "metadata": {},
   "outputs": [],
   "source": [
    "users_raw = [\n",
    "    [u[0], u[1], u[2], u[3], hashlib.sha256((u[4] + u[5]).encode('utf-8')).hexdigest(), u[5], u[6], u[7]] for u in users_raw\n",
    "]"
   ]
  },
  {
   "cell_type": "code",
   "execution_count": 7,
   "metadata": {},
   "outputs": [],
   "source": [
    "users = pd.DataFrame(users_raw, columns = ['Login', 'Name', 'Last name', 'Middle name', 'Password hash', 'Salt', 'Active', 'SuperUser'])"
   ]
  },
  {
   "cell_type": "code",
   "execution_count": 8,
   "metadata": {},
   "outputs": [
    {
     "data": {
      "text/html": [
       "<div>\n",
       "<style scoped>\n",
       "    .dataframe tbody tr th:only-of-type {\n",
       "        vertical-align: middle;\n",
       "    }\n",
       "\n",
       "    .dataframe tbody tr th {\n",
       "        vertical-align: top;\n",
       "    }\n",
       "\n",
       "    .dataframe thead th {\n",
       "        text-align: right;\n",
       "    }\n",
       "</style>\n",
       "<table border=\"1\" class=\"dataframe\">\n",
       "  <thead>\n",
       "    <tr style=\"text-align: right;\">\n",
       "      <th></th>\n",
       "      <th>Login</th>\n",
       "      <th>Name</th>\n",
       "      <th>Last name</th>\n",
       "      <th>Middle name</th>\n",
       "      <th>Password hash</th>\n",
       "      <th>Salt</th>\n",
       "      <th>Active</th>\n",
       "      <th>SuperUser</th>\n",
       "    </tr>\n",
       "  </thead>\n",
       "  <tbody>\n",
       "    <tr>\n",
       "      <th>0</th>\n",
       "      <td>UaoAivM93</td>\n",
       "      <td>Lias</td>\n",
       "      <td>Porter</td>\n",
       "      <td>Theo</td>\n",
       "      <td>fcf6e8822621cf4de2f368a942de5199825d772adc3471...</td>\n",
       "      <td>b31a95fa3df3</td>\n",
       "      <td>True</td>\n",
       "      <td>False</td>\n",
       "    </tr>\n",
       "    <tr>\n",
       "      <th>1</th>\n",
       "      <td>yAoWLC5tt</td>\n",
       "      <td>Vincent</td>\n",
       "      <td>Miller</td>\n",
       "      <td>William</td>\n",
       "      <td>599f5ad2f21e02938652e8e9eb83eb5944ebc34b57c2d3...</td>\n",
       "      <td>daaed27d5a95</td>\n",
       "      <td>True</td>\n",
       "      <td>False</td>\n",
       "    </tr>\n",
       "    <tr>\n",
       "      <th>2</th>\n",
       "      <td>eVyZKqKY0</td>\n",
       "      <td>Gabriel</td>\n",
       "      <td>Smith</td>\n",
       "      <td>Noah</td>\n",
       "      <td>373276af7e2d3ed55925d1d900714cbe0ad5ee03c37eab...</td>\n",
       "      <td>e5972862ddf1</td>\n",
       "      <td>True</td>\n",
       "      <td>False</td>\n",
       "    </tr>\n",
       "    <tr>\n",
       "      <th>3</th>\n",
       "      <td>KMtxjYd0o</td>\n",
       "      <td>William</td>\n",
       "      <td>Porter</td>\n",
       "      <td>Lias</td>\n",
       "      <td>f804ecb1bcac4a4973da37f30191a9a948c85361812985...</td>\n",
       "      <td>6c28298fd60b</td>\n",
       "      <td>True</td>\n",
       "      <td>False</td>\n",
       "    </tr>\n",
       "    <tr>\n",
       "      <th>4</th>\n",
       "      <td>gPfh9dmJZ</td>\n",
       "      <td>William</td>\n",
       "      <td>Brown</td>\n",
       "      <td>William</td>\n",
       "      <td>e32273d5a3ce2361d4fbd9d118c3d0cab9e5ef894fc7f3...</td>\n",
       "      <td>6de45d94b22a</td>\n",
       "      <td>True</td>\n",
       "      <td>False</td>\n",
       "    </tr>\n",
       "    <tr>\n",
       "      <th>...</th>\n",
       "      <td>...</td>\n",
       "      <td>...</td>\n",
       "      <td>...</td>\n",
       "      <td>...</td>\n",
       "      <td>...</td>\n",
       "      <td>...</td>\n",
       "      <td>...</td>\n",
       "      <td>...</td>\n",
       "    </tr>\n",
       "    <tr>\n",
       "      <th>99995</th>\n",
       "      <td>eEtCXQXwE</td>\n",
       "      <td>Leo</td>\n",
       "      <td>Porter</td>\n",
       "      <td>Noah</td>\n",
       "      <td>69acdca193978a13638cf72ffa847c3811b0efcd5f2af8...</td>\n",
       "      <td>c8d130494745</td>\n",
       "      <td>True</td>\n",
       "      <td>False</td>\n",
       "    </tr>\n",
       "    <tr>\n",
       "      <th>99996</th>\n",
       "      <td>zBMpksKhZ</td>\n",
       "      <td>Oscar</td>\n",
       "      <td>Johnson</td>\n",
       "      <td>William</td>\n",
       "      <td>e34afd26ed514e80e9dff9b2405474d8fb5c1de862f1cc...</td>\n",
       "      <td>a12c6b5957b4</td>\n",
       "      <td>True</td>\n",
       "      <td>False</td>\n",
       "    </tr>\n",
       "    <tr>\n",
       "      <th>99997</th>\n",
       "      <td>RKvc3wPP7</td>\n",
       "      <td>Lias</td>\n",
       "      <td>Smith</td>\n",
       "      <td>William</td>\n",
       "      <td>1a2d9efe1b41a19946b6b2b5dddf9fa9b5fea7dbbd289b...</td>\n",
       "      <td>3b8bcb9b8740</td>\n",
       "      <td>True</td>\n",
       "      <td>False</td>\n",
       "    </tr>\n",
       "    <tr>\n",
       "      <th>99998</th>\n",
       "      <td>pNOieLMlo</td>\n",
       "      <td>William</td>\n",
       "      <td>Smith</td>\n",
       "      <td>Adam</td>\n",
       "      <td>73a42adf1694781b13e56c86e208637809652fc17360ec...</td>\n",
       "      <td>dec69d5e0a3f</td>\n",
       "      <td>True</td>\n",
       "      <td>False</td>\n",
       "    </tr>\n",
       "    <tr>\n",
       "      <th>99999</th>\n",
       "      <td>JYzKkd7q7</td>\n",
       "      <td>William</td>\n",
       "      <td>Davis</td>\n",
       "      <td>Elias</td>\n",
       "      <td>3becb164c0a44a3cf3376dbe3c4faf1fb4e57f3fea933d...</td>\n",
       "      <td>95803cba1119</td>\n",
       "      <td>True</td>\n",
       "      <td>False</td>\n",
       "    </tr>\n",
       "  </tbody>\n",
       "</table>\n",
       "<p>100000 rows × 8 columns</p>\n",
       "</div>"
      ],
      "text/plain": [
       "           Login     Name Last name Middle name  \\\n",
       "0      UaoAivM93     Lias    Porter       Theo    \n",
       "1      yAoWLC5tt  Vincent    Miller     William   \n",
       "2      eVyZKqKY0  Gabriel     Smith        Noah   \n",
       "3      KMtxjYd0o  William    Porter        Lias   \n",
       "4      gPfh9dmJZ  William     Brown     William   \n",
       "...          ...      ...       ...         ...   \n",
       "99995  eEtCXQXwE      Leo    Porter        Noah   \n",
       "99996  zBMpksKhZ    Oscar   Johnson     William   \n",
       "99997  RKvc3wPP7     Lias     Smith     William   \n",
       "99998  pNOieLMlo  William     Smith        Adam   \n",
       "99999  JYzKkd7q7  William     Davis       Elias   \n",
       "\n",
       "                                           Password hash          Salt  \\\n",
       "0      fcf6e8822621cf4de2f368a942de5199825d772adc3471...  b31a95fa3df3   \n",
       "1      599f5ad2f21e02938652e8e9eb83eb5944ebc34b57c2d3...  daaed27d5a95   \n",
       "2      373276af7e2d3ed55925d1d900714cbe0ad5ee03c37eab...  e5972862ddf1   \n",
       "3      f804ecb1bcac4a4973da37f30191a9a948c85361812985...  6c28298fd60b   \n",
       "4      e32273d5a3ce2361d4fbd9d118c3d0cab9e5ef894fc7f3...  6de45d94b22a   \n",
       "...                                                  ...           ...   \n",
       "99995  69acdca193978a13638cf72ffa847c3811b0efcd5f2af8...  c8d130494745   \n",
       "99996  e34afd26ed514e80e9dff9b2405474d8fb5c1de862f1cc...  a12c6b5957b4   \n",
       "99997  1a2d9efe1b41a19946b6b2b5dddf9fa9b5fea7dbbd289b...  3b8bcb9b8740   \n",
       "99998  73a42adf1694781b13e56c86e208637809652fc17360ec...  dec69d5e0a3f   \n",
       "99999  3becb164c0a44a3cf3376dbe3c4faf1fb4e57f3fea933d...  95803cba1119   \n",
       "\n",
       "       Active  SuperUser  \n",
       "0        True      False  \n",
       "1        True      False  \n",
       "2        True      False  \n",
       "3        True      False  \n",
       "4        True      False  \n",
       "...       ...        ...  \n",
       "99995    True      False  \n",
       "99996    True      False  \n",
       "99997    True      False  \n",
       "99998    True      False  \n",
       "99999    True      False  \n",
       "\n",
       "[100000 rows x 8 columns]"
      ]
     },
     "execution_count": 8,
     "metadata": {},
     "output_type": "execute_result"
    }
   ],
   "source": [
    "users"
   ]
  },
  {
   "cell_type": "code",
   "execution_count": null,
   "metadata": {},
   "outputs": [],
   "source": []
  },
  {
   "cell_type": "code",
   "execution_count": 9,
   "metadata": {},
   "outputs": [],
   "source": [
    "groups_raw = [\n",
    "    [\n",
    "        i,\n",
    "        ''.join([random.choice(string.ascii_letters)] + [random.choice(alphanum) for i in range(8)]),\n",
    "    ] for i in range(total_groups)\n",
    "]"
   ]
  },
  {
   "cell_type": "code",
   "execution_count": 10,
   "metadata": {},
   "outputs": [],
   "source": [
    "groups = pd.DataFrame(groups_raw, columns = ['No', 'Course'])"
   ]
  },
  {
   "cell_type": "code",
   "execution_count": 11,
   "metadata": {},
   "outputs": [
    {
     "data": {
      "text/html": [
       "<div>\n",
       "<style scoped>\n",
       "    .dataframe tbody tr th:only-of-type {\n",
       "        vertical-align: middle;\n",
       "    }\n",
       "\n",
       "    .dataframe tbody tr th {\n",
       "        vertical-align: top;\n",
       "    }\n",
       "\n",
       "    .dataframe thead th {\n",
       "        text-align: right;\n",
       "    }\n",
       "</style>\n",
       "<table border=\"1\" class=\"dataframe\">\n",
       "  <thead>\n",
       "    <tr style=\"text-align: right;\">\n",
       "      <th></th>\n",
       "      <th>No</th>\n",
       "      <th>Course</th>\n",
       "    </tr>\n",
       "  </thead>\n",
       "  <tbody>\n",
       "    <tr>\n",
       "      <th>0</th>\n",
       "      <td>0</td>\n",
       "      <td>sEjAS8o4B</td>\n",
       "    </tr>\n",
       "    <tr>\n",
       "      <th>1</th>\n",
       "      <td>1</td>\n",
       "      <td>zudwdAkgG</td>\n",
       "    </tr>\n",
       "    <tr>\n",
       "      <th>2</th>\n",
       "      <td>2</td>\n",
       "      <td>nek3HD0vx</td>\n",
       "    </tr>\n",
       "    <tr>\n",
       "      <th>3</th>\n",
       "      <td>3</td>\n",
       "      <td>K1NoUtPci</td>\n",
       "    </tr>\n",
       "    <tr>\n",
       "      <th>4</th>\n",
       "      <td>4</td>\n",
       "      <td>MpN2tK5eZ</td>\n",
       "    </tr>\n",
       "    <tr>\n",
       "      <th>...</th>\n",
       "      <td>...</td>\n",
       "      <td>...</td>\n",
       "    </tr>\n",
       "    <tr>\n",
       "      <th>2995</th>\n",
       "      <td>2995</td>\n",
       "      <td>b2stbNXFy</td>\n",
       "    </tr>\n",
       "    <tr>\n",
       "      <th>2996</th>\n",
       "      <td>2996</td>\n",
       "      <td>td8tM9ScO</td>\n",
       "    </tr>\n",
       "    <tr>\n",
       "      <th>2997</th>\n",
       "      <td>2997</td>\n",
       "      <td>TT5TWmwPZ</td>\n",
       "    </tr>\n",
       "    <tr>\n",
       "      <th>2998</th>\n",
       "      <td>2998</td>\n",
       "      <td>NRPZrfXUj</td>\n",
       "    </tr>\n",
       "    <tr>\n",
       "      <th>2999</th>\n",
       "      <td>2999</td>\n",
       "      <td>VfDxEaCrp</td>\n",
       "    </tr>\n",
       "  </tbody>\n",
       "</table>\n",
       "<p>3000 rows × 2 columns</p>\n",
       "</div>"
      ],
      "text/plain": [
       "        No     Course\n",
       "0        0  sEjAS8o4B\n",
       "1        1  zudwdAkgG\n",
       "2        2  nek3HD0vx\n",
       "3        3  K1NoUtPci\n",
       "4        4  MpN2tK5eZ\n",
       "...    ...        ...\n",
       "2995  2995  b2stbNXFy\n",
       "2996  2996  td8tM9ScO\n",
       "2997  2997  TT5TWmwPZ\n",
       "2998  2998  NRPZrfXUj\n",
       "2999  2999  VfDxEaCrp\n",
       "\n",
       "[3000 rows x 2 columns]"
      ]
     },
     "execution_count": 11,
     "metadata": {},
     "output_type": "execute_result"
    }
   ],
   "source": [
    "groups"
   ]
  },
  {
   "cell_type": "code",
   "execution_count": null,
   "metadata": {},
   "outputs": [],
   "source": []
  },
  {
   "cell_type": "code",
   "execution_count": 12,
   "metadata": {},
   "outputs": [],
   "source": [
    "group_user_rel = [\n",
    "    {\n",
    "        \"students\": list(set([users_raw[random.choice(range(total_users))][0] for i in range(random.choice(range(min_students, max_students + 1)))])),\n",
    "        \"tutors\": list(set([users_raw[random.choice(range(total_users))][0] for i in range(random.choice(range(min_tutors, max_tutors + 1)))]))\n",
    "    } for g_i in range(total_groups)\n",
    "]"
   ]
  },
  {
   "cell_type": "code",
   "execution_count": null,
   "metadata": {},
   "outputs": [],
   "source": []
  },
  {
   "cell_type": "code",
   "execution_count": 13,
   "metadata": {
    "scrolled": true
   },
   "outputs": [
    {
     "data": {
      "application/vnd.jupyter.widget-view+json": {
       "model_id": "0a55645972084b3aaf5109a6102d454d",
       "version_major": 2,
       "version_minor": 0
      },
      "text/plain": [
       "HBox(children=(FloatProgress(value=0.0, max=3000.0), HTML(value='')))"
      ]
     },
     "metadata": {},
     "output_type": "display_data"
    },
    {
     "name": "stdout",
     "output_type": "stream",
     "text": [
      "\n"
     ]
    }
   ],
   "source": [
    "assignments = [\n",
    "    {\n",
    "        \"author\": random.choice(group_user_rel[_][\"tutors\"]),\n",
    "        \"group\": group[0],\n",
    "        \"text\": ''.join([random.choice(alphanum + ' ,.!?()') for i in range(random.choice(range(min_text, max_text + 1)))]),\n",
    "        \"deadline\": np.random.randint(0, 2**31-1)\n",
    "    } for (_, group) in tqdm(groups.iterrows(), total=len(groups)) for i in range(random.choice(range(min_assignments, max_assignments + 1)))\n",
    "]\n",
    "for i,assignment in enumerate(assignments):\n",
    "    assignment['ID'] = i"
   ]
  },
  {
   "cell_type": "code",
   "execution_count": 14,
   "metadata": {},
   "outputs": [
    {
     "data": {
      "application/vnd.jupyter.widget-view+json": {
       "model_id": "ab99f9ebb34f43a7b45b304a5ed5e472",
       "version_major": 2,
       "version_minor": 0
      },
      "text/plain": [
       "HBox(children=(FloatProgress(value=0.0, max=12219.0), HTML(value='')))"
      ]
     },
     "metadata": {},
     "output_type": "display_data"
    },
    {
     "name": "stdout",
     "output_type": "stream",
     "text": [
      "\n"
     ]
    }
   ],
   "source": [
    "tasks = [\n",
    "    {\n",
    "        \"assignment ID\": _,\n",
    "        \"text\": ''.join([random.choice(alphanum + ' ,.!?()') for i in range(random.choice(range(min_text, max_text + 1)))])\n",
    "    } for (_, assignment) in enumerate(tqdm(assignments)) for i in range(random.choice(range(min_tasks, max_tasks + 1)))\n",
    "]\n",
    "for i,task in enumerate(tasks):\n",
    "    task['task ID'] = i"
   ]
  },
  {
   "cell_type": "code",
   "execution_count": 15,
   "metadata": {},
   "outputs": [
    {
     "data": {
      "application/vnd.jupyter.widget-view+json": {
       "model_id": "95b139ae3b8f4b0a9173b34377b0f077",
       "version_major": 2,
       "version_minor": 0
      },
      "text/plain": [
       "HBox(children=(FloatProgress(value=0.0, max=67452.0), HTML(value='')))"
      ]
     },
     "metadata": {},
     "output_type": "display_data"
    },
    {
     "name": "stdout",
     "output_type": "stream",
     "text": [
      "\n"
     ]
    }
   ],
   "source": [
    "solutions = [\n",
    "    {\n",
    "        \"assignment ID\" : task[\"assignment ID\"],\n",
    "        \"task ID\": task[\"task ID\"],\n",
    "        \"student\": student,\n",
    "        \"datetime\": np.random.randint(\n",
    "            assignments[task[\"assignment ID\"]][\"deadline\"],\n",
    "            2**31-1),\n",
    "        \"text\": ''.join([random.choice(alphanum + ' ,.!?()') for i in range(random.choice(range(min_solution_text, max_solution_text + 1)))])\n",
    "    } for task in tqdm(tasks) for student in random.sample(group_user_rel[assignments[task[\"assignment ID\"]][\"group\"]][\"students\"], int(len(group_user_rel[assignments[task[\"assignment ID\"]][\"group\"]][\"students\"]) * average_solved))\n",
    "]"
   ]
  },
  {
   "cell_type": "code",
   "execution_count": 25,
   "metadata": {},
   "outputs": [
    {
     "data": {
      "application/vnd.jupyter.widget-view+json": {
       "model_id": "24e144a2d0ff4f63b590b2a0350da493",
       "version_major": 2,
       "version_minor": 0
      },
      "text/plain": [
       "HBox(children=(FloatProgress(value=0.0, max=407591.0), HTML(value='')))"
      ]
     },
     "metadata": {},
     "output_type": "display_data"
    },
    {
     "name": "stdout",
     "output_type": "stream",
     "text": [
      "\n"
     ]
    }
   ],
   "source": [
    "grades = [\n",
    "    {\n",
    "        \"grader\": random.choice(group_user_rel[assignments[tasks[solution[\"task ID\"]][\"assignment ID\"]][\"group\"]][\"tutors\"]),\n",
    "        \"student\": solution[\"student\"],\n",
    "        \"task ID\": solution[\"task ID\"],\n",
    "        \"datetime\": np.random.randint(\n",
    "            solution[\"datetime\"],\n",
    "            2**31-1),\n",
    "        \"comment\": ''.join([random.choice(alphanum + ' ,.!?()') for i in range(random.choice(range(min_comment, max_comment + 1)))]),\n",
    "        \"grade\": np.random.randint(10)\n",
    "    } for solution in tqdm(np.random.choice(solutions, size=int(len(solutions) * average_graded), replace=True))\n",
    "]"
   ]
  },
  {
   "cell_type": "markdown",
   "metadata": {},
   "source": [
    "## Приведение всего к DataFrame"
   ]
  },
  {
   "cell_type": "code",
   "execution_count": 26,
   "metadata": {},
   "outputs": [],
   "source": [
    "group_user_rel = pd.DataFrame(group_user_rel)\n",
    "assignments = pd.DataFrame(assignments)\n",
    "tasks = pd.DataFrame(tasks)\n",
    "solutions = pd.DataFrame(solutions)\n",
    "grades = pd.DataFrame(grades)"
   ]
  },
  {
   "cell_type": "code",
   "execution_count": 27,
   "metadata": {},
   "outputs": [],
   "source": [
    "timezone = pytz.timezone('Europe/Moscow')\n",
    "assignments['deadline'] = assignments['deadline'].apply(lambda x: datetime.datetime.fromtimestamp(x, timezone))\n",
    "solutions['datetime'] = solutions['datetime'].apply(lambda x: datetime.datetime.fromtimestamp(x, timezone))\n",
    "grades['datetime'] = grades['datetime'].apply(lambda x: datetime.datetime.fromtimestamp(x, timezone))"
   ]
  },
  {
   "cell_type": "code",
   "execution_count": 28,
   "metadata": {},
   "outputs": [
    {
     "name": "stdout",
     "output_type": "stream",
     "text": [
      "Table shapes:\n",
      "\tUsers: (100000, 8)\n",
      "\tGroups: (3000, 2)\n",
      "\tGroup/user rel: (3000, 2)\n",
      "\tAssignments: (12219, 5)\n",
      "\tTasks: (67452, 3)\n",
      "\tSolutions: (543455, 5)\n",
      "\tGrades: (407591, 6)\n"
     ]
    }
   ],
   "source": [
    "print(\"Table shapes:\")\n",
    "print(f\"\\tUsers: {users.shape}\")\n",
    "print(f\"\\tGroups: {groups.shape}\")\n",
    "print(f\"\\tGroup/user rel: {group_user_rel.shape}\")\n",
    "print(f\"\\tAssignments: {assignments.shape}\")\n",
    "print(f\"\\tTasks: {tasks.shape}\")\n",
    "print(f\"\\tSolutions: {solutions.shape}\")\n",
    "print(f\"\\tGrades: {grades.shape}\")"
   ]
  },
  {
   "cell_type": "markdown",
   "metadata": {},
   "source": [
    "## Создание sql файлов для загрузки данных"
   ]
  },
  {
   "cell_type": "markdown",
   "metadata": {},
   "source": [
    "### Users"
   ]
  },
  {
   "cell_type": "code",
   "execution_count": 29,
   "metadata": {},
   "outputs": [],
   "source": [
    "def create_sql_insert(row):\n",
    "    res_values = []\n",
    "    for x in row:\n",
    "        if x == True:\n",
    "            x = 1\n",
    "        elif x == False:\n",
    "            x = 0\n",
    "        if isinstance(x, datetime.datetime):\n",
    "            x = str(x)[:-6]\n",
    "        res_values.append('\\'' + str(x) + '\\'')\n",
    "    return f'({\",\".join(res_values)})'\n",
    "\n",
    "all_sql_inserts = users.apply(create_sql_insert, axis=1)"
   ]
  },
  {
   "cell_type": "code",
   "execution_count": 30,
   "metadata": {},
   "outputs": [
    {
     "data": {
      "application/vnd.jupyter.widget-view+json": {
       "model_id": "5c1df4ad591c48b8b3b6565613ed4fec",
       "version_major": 2,
       "version_minor": 0
      },
      "text/plain": [
       "HBox(children=(FloatProgress(value=0.0, max=196.0), HTML(value='')))"
      ]
     },
     "metadata": {},
     "output_type": "display_data"
    },
    {
     "name": "stdout",
     "output_type": "stream",
     "text": [
      "\n"
     ]
    }
   ],
   "source": [
    "batch_size = 512\n",
    "table_name = 'junk_users'\n",
    "starting_code = f\"\"\"\n",
    "DROP TABLE IF EXISTS {table_name};\n",
    "\n",
    "CREATE TABLE IF NOT EXISTS {table_name}\n",
    "(\n",
    "    login VARCHAR(40) NOT NULL,\n",
    "    `name` VARCHAR(120),\n",
    "    last_name VARCHAR(120),\n",
    "    middle_name VARCHAR(120),\n",
    "    password_hash VARCHAR(120),\n",
    "    password_salt CHARACTER(12),\n",
    "    active TINYINT(1),\n",
    "    super_user TINYINT(1),\n",
    "    PRIMARY KEY(login)\n",
    ");\n",
    "\"\"\"\n",
    "\n",
    "with open(f'{table_name}.sql', 'w') as f:\n",
    "    f.write(starting_code)\n",
    "    for i in tqdm(range(0, len(all_sql_inserts), batch_size)):\n",
    "        values = \",\\n\".join(all_sql_inserts[i:i+batch_size])\n",
    "        insert_code = f\"\"\"INSERT INTO {table_name} VALUES \\n{values};\\n\"\"\"\n",
    "        f.write(insert_code)"
   ]
  },
  {
   "cell_type": "markdown",
   "metadata": {},
   "source": [
    "### Groups"
   ]
  },
  {
   "cell_type": "code",
   "execution_count": 31,
   "metadata": {},
   "outputs": [],
   "source": [
    "all_sql_inserts = groups.apply(create_sql_insert, axis=1)"
   ]
  },
  {
   "cell_type": "code",
   "execution_count": 32,
   "metadata": {},
   "outputs": [
    {
     "data": {
      "application/vnd.jupyter.widget-view+json": {
       "model_id": "09b7c19c7d79498faaee9b4d22b7c6ed",
       "version_major": 2,
       "version_minor": 0
      },
      "text/plain": [
       "HBox(children=(FloatProgress(value=0.0, max=6.0), HTML(value='')))"
      ]
     },
     "metadata": {},
     "output_type": "display_data"
    },
    {
     "name": "stdout",
     "output_type": "stream",
     "text": [
      "\n"
     ]
    }
   ],
   "source": [
    "table_name = 'junk_groups'\n",
    "starting_code = f\"\"\"\n",
    "DROP TABLE IF EXISTS {table_name};\n",
    "\n",
    "CREATE TABLE IF NOT EXISTS {table_name}\n",
    "(\n",
    "    group_key INTEGER NOT NULL,\n",
    "    discipline VARCHAR(120),\n",
    "    PRIMARY KEY(group_key)\n",
    ");\n",
    "\"\"\"\n",
    "\n",
    "with open(f'{table_name}.sql', 'w') as f:\n",
    "    f.write(starting_code)\n",
    "    for i in tqdm(range(0, len(all_sql_inserts), batch_size)):\n",
    "        values = \",\\n\".join(all_sql_inserts[i:i+batch_size])\n",
    "        insert_code = f\"\"\"INSERT INTO {table_name} VALUES \\n{values};\\n\"\"\"\n",
    "        f.write(insert_code)"
   ]
  },
  {
   "cell_type": "markdown",
   "metadata": {},
   "source": [
    "### Students"
   ]
  },
  {
   "cell_type": "code",
   "execution_count": 33,
   "metadata": {},
   "outputs": [],
   "source": [
    "all_sql_inserts = []\n",
    "for i, row in group_user_rel.iterrows():\n",
    "    for student in row['students']:\n",
    "        all_sql_inserts.append(f\"({i}, '{student}')\")"
   ]
  },
  {
   "cell_type": "code",
   "execution_count": 34,
   "metadata": {},
   "outputs": [
    {
     "data": {
      "application/vnd.jupyter.widget-view+json": {
       "model_id": "965f309242934f75a62a277cbf89f623",
       "version_major": 2,
       "version_minor": 0
      },
      "text/plain": [
       "HBox(children=(FloatProgress(value=0.0, max=74.0), HTML(value='')))"
      ]
     },
     "metadata": {},
     "output_type": "display_data"
    },
    {
     "name": "stdout",
     "output_type": "stream",
     "text": [
      "\n"
     ]
    }
   ],
   "source": [
    "table_name = 'junk_students'\n",
    "starting_code = f\"\"\"\n",
    "DROP TABLE IF EXISTS {table_name};\n",
    "\n",
    "CREATE TABLE IF NOT EXISTS {table_name}\n",
    "(\n",
    "    group_key INTEGER NOT NULL,\n",
    "    student_login VARCHAR(40) NOT NULL,\n",
    "    PRIMARY KEY(group_key, student_login)\n",
    ");\n",
    "\"\"\"\n",
    "\n",
    "with open(f'{table_name}.sql', 'w') as f:\n",
    "    f.write(starting_code)\n",
    "    for i in tqdm(range(0, len(all_sql_inserts), batch_size)):\n",
    "        values = \",\\n\".join(all_sql_inserts[i:i+batch_size])\n",
    "        insert_code = f\"\"\"INSERT INTO {table_name} VALUES \\n{values};\\n\"\"\"\n",
    "        f.write(insert_code)"
   ]
  },
  {
   "cell_type": "markdown",
   "metadata": {},
   "source": [
    "### Tutors"
   ]
  },
  {
   "cell_type": "code",
   "execution_count": 35,
   "metadata": {},
   "outputs": [],
   "source": [
    "all_sql_inserts = []\n",
    "for i, row in group_user_rel.iterrows():\n",
    "    for tutor in row['tutors']:\n",
    "        all_sql_inserts.append(f\"({i}, '{tutor}')\")"
   ]
  },
  {
   "cell_type": "code",
   "execution_count": 36,
   "metadata": {},
   "outputs": [
    {
     "data": {
      "application/vnd.jupyter.widget-view+json": {
       "model_id": "09eda70ced9949f79ec2d8716f91c531",
       "version_major": 2,
       "version_minor": 0
      },
      "text/plain": [
       "HBox(children=(FloatProgress(value=0.0, max=18.0), HTML(value='')))"
      ]
     },
     "metadata": {},
     "output_type": "display_data"
    },
    {
     "name": "stdout",
     "output_type": "stream",
     "text": [
      "\n"
     ]
    }
   ],
   "source": [
    "table_name = 'junk_tutors'\n",
    "starting_code = f\"\"\"\n",
    "DROP TABLE IF EXISTS {table_name};\n",
    "\n",
    "CREATE TABLE IF NOT EXISTS {table_name}\n",
    "(\n",
    "    group_key INTEGER NOT NULL,\n",
    "    tutor_login VARCHAR(40) NOT NULL,\n",
    "    PRIMARY KEY(group_key, tutor_login)\n",
    ");\n",
    "\"\"\"\n",
    "\n",
    "with open(f'{table_name}.sql', 'w') as f:\n",
    "    f.write(starting_code)\n",
    "    for i in tqdm(range(0, len(all_sql_inserts), batch_size)):\n",
    "        values = \",\\n\".join(all_sql_inserts[i:i+batch_size])\n",
    "        insert_code = f\"\"\"INSERT INTO {table_name} VALUES \\n{values};\\n\"\"\"\n",
    "        f.write(insert_code)"
   ]
  },
  {
   "cell_type": "markdown",
   "metadata": {},
   "source": [
    "### Assignments"
   ]
  },
  {
   "cell_type": "code",
   "execution_count": 37,
   "metadata": {},
   "outputs": [],
   "source": [
    "all_sql_inserts = assignments.apply(create_sql_insert, axis=1)"
   ]
  },
  {
   "cell_type": "code",
   "execution_count": 38,
   "metadata": {},
   "outputs": [
    {
     "data": {
      "application/vnd.jupyter.widget-view+json": {
       "model_id": "ce94b392dcae45518a0ece035103fc69",
       "version_major": 2,
       "version_minor": 0
      },
      "text/plain": [
       "HBox(children=(FloatProgress(value=0.0, max=24.0), HTML(value='')))"
      ]
     },
     "metadata": {},
     "output_type": "display_data"
    },
    {
     "name": "stdout",
     "output_type": "stream",
     "text": [
      "\n"
     ]
    }
   ],
   "source": [
    "table_name = 'junk_assignments'\n",
    "starting_code = f\"\"\"\n",
    "DROP TABLE IF EXISTS {table_name};\n",
    "\n",
    "CREATE TABLE IF NOT EXISTS {table_name}\n",
    "(\n",
    "    author VARCHAR(40) NOT NULL,\n",
    "    group_key INTEGER NOT NULL,\n",
    "    text VARCHAR(1000),\n",
    "    deadline TIMESTAMP,\n",
    "    assignment_id INTEGER,\n",
    "    PRIMARY KEY(assignment_id)\n",
    ");\n",
    "\"\"\"\n",
    "\n",
    "with open(f'{table_name}.sql', 'w') as f:\n",
    "    f.write(starting_code)\n",
    "    for i in tqdm(range(0, len(all_sql_inserts), batch_size)):\n",
    "        values = \",\\n\".join(all_sql_inserts[i:i+batch_size])\n",
    "        insert_code = f\"\"\"INSERT INTO {table_name} VALUES \\n{values};\\n\"\"\"\n",
    "        f.write(insert_code)"
   ]
  },
  {
   "cell_type": "markdown",
   "metadata": {},
   "source": [
    "### Tasks"
   ]
  },
  {
   "cell_type": "code",
   "execution_count": 39,
   "metadata": {},
   "outputs": [],
   "source": [
    "all_sql_inserts = tasks.apply(create_sql_insert, axis=1)"
   ]
  },
  {
   "cell_type": "code",
   "execution_count": 40,
   "metadata": {},
   "outputs": [
    {
     "data": {
      "application/vnd.jupyter.widget-view+json": {
       "model_id": "2392aba113844e5593d0854a02cdaff1",
       "version_major": 2,
       "version_minor": 0
      },
      "text/plain": [
       "HBox(children=(FloatProgress(value=0.0, max=132.0), HTML(value='')))"
      ]
     },
     "metadata": {},
     "output_type": "display_data"
    },
    {
     "name": "stdout",
     "output_type": "stream",
     "text": [
      "\n"
     ]
    }
   ],
   "source": [
    "table_name = 'junk_tasks'\n",
    "starting_code = f\"\"\"\n",
    "DROP TABLE IF EXISTS {table_name};\n",
    "\n",
    "CREATE TABLE IF NOT EXISTS {table_name}\n",
    "(\n",
    "    assignment_id INTEGER NOT NULL,\n",
    "    text VARCHAR(1000),\n",
    "    task_id INTEGER,\n",
    "    PRIMARY KEY(task_id)\n",
    ");\n",
    "\"\"\"\n",
    "\n",
    "with open(f'{table_name}.sql', 'w') as f:\n",
    "    f.write(starting_code)\n",
    "    for i in tqdm(range(0, len(all_sql_inserts), batch_size)):\n",
    "        values = \",\\n\".join(all_sql_inserts[i:i+batch_size])\n",
    "        insert_code = f\"\"\"INSERT INTO {table_name} VALUES \\n{values};\\n\"\"\"\n",
    "        f.write(insert_code)"
   ]
  },
  {
   "cell_type": "markdown",
   "metadata": {},
   "source": [
    "### Solutions"
   ]
  },
  {
   "cell_type": "code",
   "execution_count": 41,
   "metadata": {},
   "outputs": [],
   "source": [
    "all_sql_inserts = solutions.apply(create_sql_insert, axis=1)"
   ]
  },
  {
   "cell_type": "code",
   "execution_count": 42,
   "metadata": {},
   "outputs": [
    {
     "data": {
      "application/vnd.jupyter.widget-view+json": {
       "model_id": "8ba356fd52ab4be0968094ddfea23bcf",
       "version_major": 2,
       "version_minor": 0
      },
      "text/plain": [
       "HBox(children=(FloatProgress(value=0.0, max=1062.0), HTML(value='')))"
      ]
     },
     "metadata": {},
     "output_type": "display_data"
    },
    {
     "name": "stdout",
     "output_type": "stream",
     "text": [
      "\n"
     ]
    }
   ],
   "source": [
    "table_name = 'junk_solutions'\n",
    "starting_code = f\"\"\"\n",
    "DROP TABLE IF EXISTS {table_name};\n",
    "\n",
    "CREATE TABLE IF NOT EXISTS {table_name}\n",
    "(\n",
    "    assignment_id INTEGER NOT NULL,\n",
    "    task_id INTEGER,\n",
    "    student VARCHAR(40),\n",
    "    date TIMESTAMP,\n",
    "    text VARCHAR(500),\n",
    "    PRIMARY KEY(assignment_id, task_id, student)\n",
    ");\n",
    "\"\"\"\n",
    "\n",
    "with open(f'{table_name}.sql', 'w') as f:\n",
    "    f.write(starting_code)\n",
    "    for i in tqdm(range(0, len(all_sql_inserts), batch_size)):\n",
    "        values = \",\\n\".join(all_sql_inserts[i:i+batch_size])\n",
    "        insert_code = f\"\"\"INSERT INTO {table_name} VALUES \\n{values};\\n\"\"\"\n",
    "        f.write(insert_code)"
   ]
  },
  {
   "cell_type": "markdown",
   "metadata": {},
   "source": [
    "### Grades"
   ]
  },
  {
   "cell_type": "code",
   "execution_count": 43,
   "metadata": {},
   "outputs": [],
   "source": [
    "all_sql_inserts = grades.apply(create_sql_insert, axis=1)"
   ]
  },
  {
   "cell_type": "code",
   "execution_count": 46,
   "metadata": {},
   "outputs": [
    {
     "data": {
      "application/vnd.jupyter.widget-view+json": {
       "model_id": "50b29e43dd92480d8e5dc69a82a83b7b",
       "version_major": 2,
       "version_minor": 0
      },
      "text/plain": [
       "HBox(children=(FloatProgress(value=0.0, max=797.0), HTML(value='')))"
      ]
     },
     "metadata": {},
     "output_type": "display_data"
    },
    {
     "name": "stdout",
     "output_type": "stream",
     "text": [
      "\n"
     ]
    }
   ],
   "source": [
    "table_name = 'junk_grades'\n",
    "starting_code = f\"\"\"\n",
    "DROP TABLE IF EXISTS {table_name};\n",
    "\n",
    "CREATE TABLE IF NOT EXISTS {table_name}\n",
    "(\n",
    "    grader VARCHAR(40) NOT NULL,\n",
    "    student VARCHAR(40),\n",
    "    task_id INTEGER,\n",
    "    date TIMESTAMP,\n",
    "    comment VARCHAR(500),\n",
    "    grade INTEGER,\n",
    "    PRIMARY KEY(grader, student, task_id, date)\n",
    ");\n",
    "\"\"\"\n",
    "\n",
    "with open(f'{table_name}.sql', 'w') as f:\n",
    "    f.write(starting_code)\n",
    "    for i in tqdm(range(0, len(all_sql_inserts), batch_size)):\n",
    "        values = \",\\n\".join(all_sql_inserts[i:i+batch_size])\n",
    "        insert_code = f\"\"\"INSERT INTO {table_name} VALUES \\n{values};\\n\"\"\"\n",
    "        f.write(insert_code)"
   ]
  }
 ],
 "metadata": {
  "kernelspec": {
   "display_name": "Python 3",
   "language": "python",
   "name": "python3"
  },
  "language_info": {
   "codemirror_mode": {
    "name": "ipython",
    "version": 3
   },
   "file_extension": ".py",
   "mimetype": "text/x-python",
   "name": "python",
   "nbconvert_exporter": "python",
   "pygments_lexer": "ipython3",
   "version": "3.7.4"
  }
 },
 "nbformat": 4,
 "nbformat_minor": 2
}
