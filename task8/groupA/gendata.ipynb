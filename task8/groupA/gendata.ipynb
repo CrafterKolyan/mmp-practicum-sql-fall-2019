{
 "cells": [
  {
   "cell_type": "code",
   "execution_count": 1,
   "metadata": {},
   "outputs": [],
   "source": [
    "import numpy as np\n",
    "import pandas as pd\n",
    "import hashlib\n",
    "import random\n",
    "import base64\n",
    "import string\n",
    "import datetime"
   ]
  },
  {
   "cell_type": "code",
   "execution_count": 2,
   "metadata": {},
   "outputs": [],
   "source": [
    "alphanum = string.ascii_letters + '0123456789'"
   ]
  },
  {
   "cell_type": "code",
   "execution_count": 3,
   "metadata": {},
   "outputs": [],
   "source": [
    "total_users = 100000\n",
    "\n",
    "total_names = 100\n",
    "total_last_names = 100\n",
    "total_middle_names = 100\n",
    "\n",
    "total_groups = 3000\n",
    "\n",
    "min_tutors = 1\n",
    "max_tutors = 5\n",
    "\n",
    "min_students = 0\n",
    "max_students = 25\n",
    "\n",
    "min_assignments = 1\n",
    "max_assignments = 8\n",
    "\n",
    "min_tasks = 1\n",
    "max_tasks = 10\n",
    "\n",
    "min_text = 120\n",
    "max_text = 1000\n",
    "\n",
    "average_solved = 2/3.\n",
    "average_graded = 0.75\n",
    "\n",
    "average_active = 0.999\n",
    "average_super_user = 1e-3"
   ]
  },
  {
   "cell_type": "code",
   "execution_count": 4,
   "metadata": {},
   "outputs": [],
   "source": [
    "names = [\"William\", \"Liam \", \"Noah\", \"Lucas\", \"Oliver \", \"Oscar\", \"Elias\", \"Hugo\", \"Adam\", \"Alexander \", \"Walter\", \"Axel \", \"Leo\", \"Nils \", \"Alfred\", \"Vincent\", \"Leon \", \"Ludvig \", \"Charlie \", \"Theo \", \"Gabriel\", \"Filip\", \"Elliot\", \"Arvid \", \"Isak \", \"Harry\", \"Matteo\", \"Adrian\", \"Melvin\", \"Theodor\", \"Benjamin\", \"August\", \"Mohamed\", \"Viktor\", \"Josef \", \"Olle \", \"Ebbe\", \"Edvin \", \"Loui\", \"Sam\", \"Gustav \", \"Malte\", \"Sixten \", \"Frank\", \"Love\", \"Albin \", \"Frans\", \"Henry\", \"Erik \", \"Viggo \", \"Elton\", \"Emil\", \"Jack\", \"Noel \", \"Jacob\", \"Melker\", \"Vidar\", \"Milo\", \"Colin\", \"Casper \", \"Otto\", \"Carl\", \"Loke \", \"Tage\", \"Wilmer \", \"Max \", \"Sigge\", \"Wilhelm\", \"Aron\", \"Milton\", \"Felix\", \"Julian\", \"Alvin\", \"Anton\", \"Ivar\", \"Samuel \", \"Kevin\", \"Nicolas\", \"Kian\", \"John \", \"Elis \", \"Levi\", \"Hjalmar\", \"Elvin\", \"David \", \"Jonathan\", \"Joel\", \"Ville\", \"Vilgot\", \"Daniel \", \"Folke\", \"Ture\", \"Amir\", \"Ali\", \"Vide\", \"Milian\", \"Thor\", \"Omar\", \"Maximilian \", \"Lias\"]\n",
    "surnames = [\"SMITH\", \"JONES\", \"BROWN\", \"JOHNSON\", \"WILLIAMS\", \"MILLER\", \"TAYLOR\", \"WILSON\", \"DAVIS\", \"WHITE\", \"CLARK\", \"HALL\", \"THOMAS\", \"THOMPSON\", \"MOORE\", \"HILL\", \"WALKER\", \"ANDERSON\", \"WRIGHT\", \"MARTIN\", \"WOOD\", \"ALLEN\", \"ROBINSON\", \"LEWIS\", \"SCOTT\", \"YOUNG\", \"JACKSON\", \"ADAMS\", \"TRYNISKI\", \"GREEN\", \"EVANS\", \"KING\", \"BAKER\", \"JOHN\", \"HARRIS\", \"ROBERTS\", \"CAMPBELL\", \"JAMES\", \"STEWART\", \"LEE\", \"COUNTY\", \"TURNER\", \"PARKER\", \"COOK\", \"MC\", \"EDWARDS\", \"MORRIS\", \"MITCHELL\", \"BELL\", \"WARD\", \"WATSON\", \"MORGAN\", \"DAVIES\", \"COOPER\", \"PHILLIPS\", \"ROGERS\", \"GRAY\", \"HUGHES\", \"HARRISON\", \"CARTER\", \"MURPHY\", \"COLLINS\", \"HENRY\", \"FOSTER\", \"RICHARDSON\", \"RUSSELL\", \"HAMILTON\", \"SHAW\", \"BENNETT\", \"HOWARD\", \"REED\", \"FISHER\", \"MARSHALL\", \"MAY\", \"CHURCH\", \"WASHINGTON\", \"KELLY\", \"PRICE\", \"MURRAY\", \"WILLIAM\", \"PALMER\", \"STEVENS\", \"COX\", \"ROBERTSON\", \"MISS\", \"CLARKE\", \"BAILEY\", \"GEORGE\", \"NELSON\", \"MASON\", \"BUTLER\", \"MILLS\", \"HUNT\", \"ISLAND\", \"SIMPSON\", \"GRAHAM\", \"HENDERSON\", \"ROSS\", \"STONE\", \"PORTER\"]\n",
    "surnames = [p[0] + p[1:].lower() for p in surnames]"
   ]
  },
  {
   "cell_type": "code",
   "execution_count": 5,
   "metadata": {},
   "outputs": [],
   "source": [
    "users_raw = [\n",
    "    [\n",
    "        ''.join([random.choice(string.ascii_letters)] + [random.choice(alphanum) for i in range(8)]),\n",
    "        names[min(np.random.zipf(1.4), total_names)-1],\n",
    "        surnames[min(np.random.zipf(1.4), total_last_names)-1],\n",
    "        names[min(np.random.zipf(1.4), total_middle_names)-1],\n",
    "        str(random.getrandbits(12*8)),\n",
    "        hex(random.getrandbits(12 * 4))[2:],\n",
    "        np.random.rand() < average_active,\n",
    "        np.random.rand() < average_super_user,\n",
    "    ] for i in range(total_users)\n",
    "]"
   ]
  },
  {
   "cell_type": "code",
   "execution_count": 6,
   "metadata": {},
   "outputs": [],
   "source": [
    "users_raw = [\n",
    "    [u[0], u[1], u[2], u[3], hashlib.sha256((u[4] + u[5]).encode('utf-8')).hexdigest(), u[5], u[6], u[7]] for u in users_raw\n",
    "]"
   ]
  },
  {
   "cell_type": "code",
   "execution_count": 7,
   "metadata": {},
   "outputs": [],
   "source": [
    "users = pd.DataFrame(users_raw, columns = ['Login', 'Name', 'Last name', 'Middle name', 'Password hash', 'Salt', 'Active', 'SuperUser'])"
   ]
  },
  {
   "cell_type": "code",
   "execution_count": 8,
   "metadata": {},
   "outputs": [
    {
     "data": {
      "text/html": [
       "<div>\n",
       "<style scoped>\n",
       "    .dataframe tbody tr th:only-of-type {\n",
       "        vertical-align: middle;\n",
       "    }\n",
       "\n",
       "    .dataframe tbody tr th {\n",
       "        vertical-align: top;\n",
       "    }\n",
       "\n",
       "    .dataframe thead th {\n",
       "        text-align: right;\n",
       "    }\n",
       "</style>\n",
       "<table border=\"1\" class=\"dataframe\">\n",
       "  <thead>\n",
       "    <tr style=\"text-align: right;\">\n",
       "      <th></th>\n",
       "      <th>Login</th>\n",
       "      <th>Name</th>\n",
       "      <th>Last name</th>\n",
       "      <th>Middle name</th>\n",
       "      <th>Password hash</th>\n",
       "      <th>Salt</th>\n",
       "      <th>Active</th>\n",
       "      <th>SuperUser</th>\n",
       "    </tr>\n",
       "  </thead>\n",
       "  <tbody>\n",
       "    <tr>\n",
       "      <th>0</th>\n",
       "      <td>Gyadtphza</td>\n",
       "      <td>Liam</td>\n",
       "      <td>Jones</td>\n",
       "      <td>Axel</td>\n",
       "      <td>51e733ac5fb4b47074b1faa04247007854e16a77e5a9b5...</td>\n",
       "      <td>b9c82adfd123</td>\n",
       "      <td>True</td>\n",
       "      <td>False</td>\n",
       "    </tr>\n",
       "    <tr>\n",
       "      <th>1</th>\n",
       "      <td>BYwihZFjD</td>\n",
       "      <td>Charlie</td>\n",
       "      <td>Williams</td>\n",
       "      <td>Lias</td>\n",
       "      <td>5922a1e597ed9b5943f5ce30908f346126142763fb981e...</td>\n",
       "      <td>52a1865c9ca</td>\n",
       "      <td>True</td>\n",
       "      <td>False</td>\n",
       "    </tr>\n",
       "    <tr>\n",
       "      <th>2</th>\n",
       "      <td>JZtpObcwh</td>\n",
       "      <td>Lias</td>\n",
       "      <td>Smith</td>\n",
       "      <td>William</td>\n",
       "      <td>22572c4a01d5536de02bab3b3d1d322faa6ac4f1040726...</td>\n",
       "      <td>de346be6b68f</td>\n",
       "      <td>True</td>\n",
       "      <td>False</td>\n",
       "    </tr>\n",
       "    <tr>\n",
       "      <th>3</th>\n",
       "      <td>U2sRbC3Wb</td>\n",
       "      <td>Noah</td>\n",
       "      <td>Miller</td>\n",
       "      <td>William</td>\n",
       "      <td>d27a4d00874a110b157e8a2e900c58a3c80a9e707dd4f6...</td>\n",
       "      <td>494535c97624</td>\n",
       "      <td>True</td>\n",
       "      <td>False</td>\n",
       "    </tr>\n",
       "    <tr>\n",
       "      <th>4</th>\n",
       "      <td>yS66fj1V1</td>\n",
       "      <td>William</td>\n",
       "      <td>Smith</td>\n",
       "      <td>Olle</td>\n",
       "      <td>f584fbbcb4b2786c577303f72ad0da5e8c5cfc660a24a7...</td>\n",
       "      <td>66e2262b1450</td>\n",
       "      <td>True</td>\n",
       "      <td>False</td>\n",
       "    </tr>\n",
       "    <tr>\n",
       "      <th>...</th>\n",
       "      <td>...</td>\n",
       "      <td>...</td>\n",
       "      <td>...</td>\n",
       "      <td>...</td>\n",
       "      <td>...</td>\n",
       "      <td>...</td>\n",
       "      <td>...</td>\n",
       "      <td>...</td>\n",
       "    </tr>\n",
       "    <tr>\n",
       "      <th>99995</th>\n",
       "      <td>DW98Eu8VJ</td>\n",
       "      <td>William</td>\n",
       "      <td>Brown</td>\n",
       "      <td>Oscar</td>\n",
       "      <td>53c575ba763b40251c952cd8937256b495d7b8d01f0869...</td>\n",
       "      <td>6cfd75e84f44</td>\n",
       "      <td>True</td>\n",
       "      <td>False</td>\n",
       "    </tr>\n",
       "    <tr>\n",
       "      <th>99996</th>\n",
       "      <td>lcP3g6qbE</td>\n",
       "      <td>Elias</td>\n",
       "      <td>Smith</td>\n",
       "      <td>Lias</td>\n",
       "      <td>755325e1a8a8a6bc72bb5790a759d1b26095612b904f16...</td>\n",
       "      <td>6b2ce59f194b</td>\n",
       "      <td>True</td>\n",
       "      <td>False</td>\n",
       "    </tr>\n",
       "    <tr>\n",
       "      <th>99997</th>\n",
       "      <td>aQkp7zgmp</td>\n",
       "      <td>Liam</td>\n",
       "      <td>Morris</td>\n",
       "      <td>William</td>\n",
       "      <td>ebb71c87e28d1ae301eb233a9c317f2c852fe022be06cf...</td>\n",
       "      <td>f35f8df0ed75</td>\n",
       "      <td>True</td>\n",
       "      <td>False</td>\n",
       "    </tr>\n",
       "    <tr>\n",
       "      <th>99998</th>\n",
       "      <td>U95d5avu7</td>\n",
       "      <td>Alexander</td>\n",
       "      <td>Smith</td>\n",
       "      <td>John</td>\n",
       "      <td>8495ce0b9e22dcd9c02841ea0b6ae26c700826b0038034...</td>\n",
       "      <td>e50af73f6478</td>\n",
       "      <td>True</td>\n",
       "      <td>False</td>\n",
       "    </tr>\n",
       "    <tr>\n",
       "      <th>99999</th>\n",
       "      <td>dNujxwXLA</td>\n",
       "      <td>Ebbe</td>\n",
       "      <td>Smith</td>\n",
       "      <td>Noah</td>\n",
       "      <td>3df68b7b61417741cb24e71e497ee75380d468d6dee184...</td>\n",
       "      <td>6848b4d864e6</td>\n",
       "      <td>True</td>\n",
       "      <td>False</td>\n",
       "    </tr>\n",
       "  </tbody>\n",
       "</table>\n",
       "<p>100000 rows × 8 columns</p>\n",
       "</div>"
      ],
      "text/plain": [
       "           Login        Name Last name Middle name  \\\n",
       "0      Gyadtphza       Liam      Jones       Axel    \n",
       "1      BYwihZFjD    Charlie   Williams        Lias   \n",
       "2      JZtpObcwh        Lias     Smith     William   \n",
       "3      U2sRbC3Wb        Noah    Miller     William   \n",
       "4      yS66fj1V1     William     Smith       Olle    \n",
       "...          ...         ...       ...         ...   \n",
       "99995  DW98Eu8VJ     William     Brown       Oscar   \n",
       "99996  lcP3g6qbE       Elias     Smith        Lias   \n",
       "99997  aQkp7zgmp       Liam     Morris     William   \n",
       "99998  U95d5avu7  Alexander      Smith       John    \n",
       "99999  dNujxwXLA        Ebbe     Smith        Noah   \n",
       "\n",
       "                                           Password hash          Salt  \\\n",
       "0      51e733ac5fb4b47074b1faa04247007854e16a77e5a9b5...  b9c82adfd123   \n",
       "1      5922a1e597ed9b5943f5ce30908f346126142763fb981e...   52a1865c9ca   \n",
       "2      22572c4a01d5536de02bab3b3d1d322faa6ac4f1040726...  de346be6b68f   \n",
       "3      d27a4d00874a110b157e8a2e900c58a3c80a9e707dd4f6...  494535c97624   \n",
       "4      f584fbbcb4b2786c577303f72ad0da5e8c5cfc660a24a7...  66e2262b1450   \n",
       "...                                                  ...           ...   \n",
       "99995  53c575ba763b40251c952cd8937256b495d7b8d01f0869...  6cfd75e84f44   \n",
       "99996  755325e1a8a8a6bc72bb5790a759d1b26095612b904f16...  6b2ce59f194b   \n",
       "99997  ebb71c87e28d1ae301eb233a9c317f2c852fe022be06cf...  f35f8df0ed75   \n",
       "99998  8495ce0b9e22dcd9c02841ea0b6ae26c700826b0038034...  e50af73f6478   \n",
       "99999  3df68b7b61417741cb24e71e497ee75380d468d6dee184...  6848b4d864e6   \n",
       "\n",
       "       Active  SuperUser  \n",
       "0        True      False  \n",
       "1        True      False  \n",
       "2        True      False  \n",
       "3        True      False  \n",
       "4        True      False  \n",
       "...       ...        ...  \n",
       "99995    True      False  \n",
       "99996    True      False  \n",
       "99997    True      False  \n",
       "99998    True      False  \n",
       "99999    True      False  \n",
       "\n",
       "[100000 rows x 8 columns]"
      ]
     },
     "execution_count": 8,
     "metadata": {},
     "output_type": "execute_result"
    }
   ],
   "source": [
    "users"
   ]
  },
  {
   "cell_type": "code",
   "execution_count": null,
   "metadata": {},
   "outputs": [],
   "source": []
  },
  {
   "cell_type": "code",
   "execution_count": 9,
   "metadata": {},
   "outputs": [],
   "source": [
    "groups_raw = [\n",
    "    [\n",
    "        i,\n",
    "        ''.join([random.choice(string.ascii_letters)] + [random.choice(alphanum) for i in range(8)]),\n",
    "    ] for i in range(total_groups)\n",
    "]"
   ]
  },
  {
   "cell_type": "code",
   "execution_count": 10,
   "metadata": {},
   "outputs": [],
   "source": [
    "groups = pd.DataFrame(groups_raw, columns = ['No', 'Course'])"
   ]
  },
  {
   "cell_type": "code",
   "execution_count": 11,
   "metadata": {},
   "outputs": [
    {
     "data": {
      "text/html": [
       "<div>\n",
       "<style scoped>\n",
       "    .dataframe tbody tr th:only-of-type {\n",
       "        vertical-align: middle;\n",
       "    }\n",
       "\n",
       "    .dataframe tbody tr th {\n",
       "        vertical-align: top;\n",
       "    }\n",
       "\n",
       "    .dataframe thead th {\n",
       "        text-align: right;\n",
       "    }\n",
       "</style>\n",
       "<table border=\"1\" class=\"dataframe\">\n",
       "  <thead>\n",
       "    <tr style=\"text-align: right;\">\n",
       "      <th></th>\n",
       "      <th>No</th>\n",
       "      <th>Course</th>\n",
       "    </tr>\n",
       "  </thead>\n",
       "  <tbody>\n",
       "    <tr>\n",
       "      <th>0</th>\n",
       "      <td>0</td>\n",
       "      <td>VcuIGUDcd</td>\n",
       "    </tr>\n",
       "    <tr>\n",
       "      <th>1</th>\n",
       "      <td>1</td>\n",
       "      <td>VreCL9HFn</td>\n",
       "    </tr>\n",
       "    <tr>\n",
       "      <th>2</th>\n",
       "      <td>2</td>\n",
       "      <td>FxtDS6fum</td>\n",
       "    </tr>\n",
       "    <tr>\n",
       "      <th>3</th>\n",
       "      <td>3</td>\n",
       "      <td>Ah7gE1RaG</td>\n",
       "    </tr>\n",
       "    <tr>\n",
       "      <th>4</th>\n",
       "      <td>4</td>\n",
       "      <td>zQ0mqgYuj</td>\n",
       "    </tr>\n",
       "    <tr>\n",
       "      <th>...</th>\n",
       "      <td>...</td>\n",
       "      <td>...</td>\n",
       "    </tr>\n",
       "    <tr>\n",
       "      <th>2995</th>\n",
       "      <td>2995</td>\n",
       "      <td>PJMb0ZXgj</td>\n",
       "    </tr>\n",
       "    <tr>\n",
       "      <th>2996</th>\n",
       "      <td>2996</td>\n",
       "      <td>aKqC4qyG4</td>\n",
       "    </tr>\n",
       "    <tr>\n",
       "      <th>2997</th>\n",
       "      <td>2997</td>\n",
       "      <td>DfxjOnYRH</td>\n",
       "    </tr>\n",
       "    <tr>\n",
       "      <th>2998</th>\n",
       "      <td>2998</td>\n",
       "      <td>Rjhk2vzLm</td>\n",
       "    </tr>\n",
       "    <tr>\n",
       "      <th>2999</th>\n",
       "      <td>2999</td>\n",
       "      <td>nchRdm98C</td>\n",
       "    </tr>\n",
       "  </tbody>\n",
       "</table>\n",
       "<p>3000 rows × 2 columns</p>\n",
       "</div>"
      ],
      "text/plain": [
       "        No     Course\n",
       "0        0  VcuIGUDcd\n",
       "1        1  VreCL9HFn\n",
       "2        2  FxtDS6fum\n",
       "3        3  Ah7gE1RaG\n",
       "4        4  zQ0mqgYuj\n",
       "...    ...        ...\n",
       "2995  2995  PJMb0ZXgj\n",
       "2996  2996  aKqC4qyG4\n",
       "2997  2997  DfxjOnYRH\n",
       "2998  2998  Rjhk2vzLm\n",
       "2999  2999  nchRdm98C\n",
       "\n",
       "[3000 rows x 2 columns]"
      ]
     },
     "execution_count": 11,
     "metadata": {},
     "output_type": "execute_result"
    }
   ],
   "source": [
    "groups"
   ]
  },
  {
   "cell_type": "code",
   "execution_count": null,
   "metadata": {},
   "outputs": [],
   "source": []
  },
  {
   "cell_type": "code",
   "execution_count": 12,
   "metadata": {},
   "outputs": [],
   "source": [
    "group_user_rel = [\n",
    "    {\n",
    "        \"students\": list(set([users_raw[random.choice(range(total_users))][0] for i in range(random.choice(range(min_students, max_students + 1)))])),\n",
    "        \"tutors\": list(set([users_raw[random.choice(range(total_users))][0] for i in range(random.choice(range(min_tutors, max_tutors + 1)))]))\n",
    "    } for g_i in range(total_groups)\n",
    "]"
   ]
  },
  {
   "cell_type": "code",
   "execution_count": null,
   "metadata": {},
   "outputs": [],
   "source": []
  },
  {
   "cell_type": "code",
   "execution_count": 13,
   "metadata": {
    "scrolled": true
   },
   "outputs": [],
   "source": [
    "assignments = [\n",
    "    {\n",
    "        \"author\": random.choice(group_user_rel[_][\"tutors\"]),\n",
    "        \"group\": group[0],\n",
    "        \"text\": ''.join([random.choice(alphanum + ' ,.!?()') for i in range(random.choice(range(min_text, max_text + 1)))]),\n",
    "        \"deadline\": datetime.datetime.fromtimestamp(np.random.randint(0, 2**31-1))\n",
    "    } for (_, group) in groups.iterrows() for i in range(random.choice(range(min_assignments, max_assignments + 1)))\n",
    "]\n",
    "for i,assignment in enumerate(assignments):\n",
    "    assignment['ID'] = i"
   ]
  },
  {
   "cell_type": "code",
   "execution_count": null,
   "metadata": {},
   "outputs": [],
   "source": [
    "tasks = [\n",
    "    {\n",
    "        \"assignment ID\": _,\n",
    "        \"text\": ''.join([random.choice(alphanum + ' ,.!?()') for i in range(random.choice(range(min_text, max_text + 1)))])\n",
    "    } for (_, assignment) in enumerate(assignments) for i in range(random.choice(range(min_tasks, max_tasks + 1)))\n",
    "]\n",
    "for i,task in enumerate(tasks):\n",
    "    task['task ID'] = i"
   ]
  },
  {
   "cell_type": "code",
   "execution_count": null,
   "metadata": {},
   "outputs": [],
   "source": [
    "solutions = [\n",
    "    {\n",
    "        \"assignment ID\" : task[\"assignment ID\"],\n",
    "        \"task ID\": task[\"task ID\"],\n",
    "        \"student\": student,\n",
    "        \"datetime\": datetime.datetime.fromtimestamp(np.random.randint(0, 2**31-1))\n",
    "    } for task in tasks for student in random.sample(group_user_rel[assignments[task[\"assignment ID\"]][\"group\"]][\"students\"], int(len(group_user_rel[assignments[task[\"assignment ID\"]][\"group\"]][\"students\"]) * average_solved))\n",
    "]"
   ]
  },
  {
   "cell_type": "code",
   "execution_count": null,
   "metadata": {},
   "outputs": [],
   "source": [
    "grades = [\n",
    "    {\n",
    "        \"grader\": random.choice(group_user_rel[assignments[tasks[solution[\"task ID\"]][\"assignment ID\"]][\"group\"]][\"tutors\"]),\n",
    "        \"student\": solution[\"student\"],\n",
    "        \"task ID\": solution[\"task ID\"],\n",
    "        \"datetime\": datetime.datetime.fromtimestamp(np.random.randint(0, 2**31-1)),\n",
    "        \n",
    "    } for solution in random.sample(solutions, int(len(solutions) * average_graded))\n",
    "]"
   ]
  },
  {
   "cell_type": "markdown",
   "metadata": {},
   "source": [
    "## Приведение всего к DataFrame"
   ]
  },
  {
   "cell_type": "code",
   "execution_count": null,
   "metadata": {},
   "outputs": [],
   "source": [
    "group_user_rel = pd.DataFrame(group_user_rel)\n",
    "assignments = pd.DataFrame(assignments)\n",
    "tasks = pd.DataFrame(tasks)\n",
    "solutions = pd.DataFrame(solutions)\n",
    "grades = pd.DataFrame(grades)"
   ]
  },
  {
   "cell_type": "code",
   "execution_count": null,
   "metadata": {},
   "outputs": [],
   "source": [
    "print(\"Table shapes:\")\n",
    "print(f\"\\tUsers: {users.shape}\")\n",
    "print(f\"\\tGroups: {groups.shape}\")\n",
    "print(f\"\\tGroup/user rel: {group_user_rel.shape}\")\n",
    "print(f\"\\tAssignments: {assignments.shape}\")\n",
    "print(f\"\\tTasks: {tasks.shape}\")\n",
    "print(f\"\\tSolutions: {solutions.shape}\")\n",
    "print(f\"\\tGrades: {grades.shape}\")"
   ]
  },
  {
   "cell_type": "markdown",
   "metadata": {},
   "source": [
    "## Создание sql файлов для загрузки данных"
   ]
  },
  {
   "cell_type": "markdown",
   "metadata": {},
   "source": [
    "### Users"
   ]
  },
  {
   "cell_type": "code",
   "execution_count": null,
   "metadata": {},
   "outputs": [],
   "source": [
    "def create_sql_insert(row):\n",
    "    res_values = []\n",
    "    for x in row:\n",
    "        if x == True:\n",
    "            x = 1\n",
    "        elif x == False:\n",
    "            x = 0\n",
    "        res_values.append('\\'' + str(x) + '\\'')\n",
    "    return f'({\",\".join(res_values)})'\n",
    "\n",
    "all_sql_inserts = users.apply(create_sql_insert, axis=1)"
   ]
  },
  {
   "cell_type": "code",
   "execution_count": null,
   "metadata": {},
   "outputs": [],
   "source": [
    "batch_size = 128\n",
    "table_name = 'junk_users'\n",
    "starting_code = f\"\"\"\n",
    "DROP TABLE IF EXISTS {table_name};\n",
    "\n",
    "CREATE TABLE IF NOT EXISTS {table_name}\n",
    "(\n",
    "    login VARCHAR(40) NOT NULL,\n",
    "    `name` VARCHAR(120),\n",
    "    last_name VARCHAR(120),\n",
    "    middle_name VARCHAR(120),\n",
    "    password_hash VARCHAR(120),\n",
    "    password_salt CHARACTER(12),\n",
    "    active TINYINT(1),\n",
    "    super_user TINYINT(1),\n",
    "    PRIMARY KEY(login)\n",
    ");\n",
    "\"\"\"\n",
    "\n",
    "with open(f'{table_name}.sql', 'w') as f:\n",
    "    f.write(starting_code)\n",
    "    for i in range(0, len(all_sql_inserts), batch_size):\n",
    "        values = \",\\n\".join(all_sql_inserts[i:i+batch_size])\n",
    "        insert_code = f\"\"\"INSERT INTO {table_name} VALUES \\n{values};\\n\"\"\"\n",
    "        f.write(insert_code)"
   ]
  },
  {
   "cell_type": "markdown",
   "metadata": {},
   "source": [
    "### Groups"
   ]
  },
  {
   "cell_type": "code",
   "execution_count": null,
   "metadata": {},
   "outputs": [],
   "source": [
    "def create_sql_insert(row):\n",
    "    res_values = []\n",
    "    for x in row:\n",
    "        if x == True:\n",
    "            x = 1\n",
    "        elif x == False:\n",
    "            x = 0\n",
    "        res_values.append('\\'' + str(x) + '\\'')\n",
    "    return f'({\",\".join(res_values)})'\n",
    "\n",
    "all_sql_inserts = groups.apply(create_sql_insert, axis=1)"
   ]
  },
  {
   "cell_type": "code",
   "execution_count": null,
   "metadata": {},
   "outputs": [],
   "source": [
    "batch_size = 128\n",
    "table_name = 'junk_groups'\n",
    "starting_code = f\"\"\"\n",
    "DROP TABLE IF EXISTS {table_name};\n",
    "\n",
    "CREATE TABLE IF NOT EXISTS {table_name}\n",
    "(\n",
    "    group_key INTEGER NOT NULL,\n",
    "    discipline VARCHAR(120),\n",
    "    PRIMARY KEY(group_key)\n",
    ");\n",
    "\"\"\"\n",
    "\n",
    "with open(f'{table_name}.sql', 'w') as f:\n",
    "    f.write(starting_code)\n",
    "    for i in range(0, len(all_sql_inserts), batch_size):\n",
    "        values = \",\\n\".join(all_sql_inserts[i:i+batch_size])\n",
    "        insert_code = f\"\"\"INSERT INTO {table_name} VALUES \\n{values};\\n\"\"\"\n",
    "        f.write(insert_code)"
   ]
  },
  {
   "cell_type": "markdown",
   "metadata": {},
   "source": [
    "### Students"
   ]
  },
  {
   "cell_type": "code",
   "execution_count": null,
   "metadata": {},
   "outputs": [],
   "source": [
    "all_sql_inserts = []\n",
    "for i, row in group_user_rel.iterrows():\n",
    "    for student in row['students']:\n",
    "        all_sql_inserts.append(f\"({i}, '{student}')\")"
   ]
  },
  {
   "cell_type": "code",
   "execution_count": null,
   "metadata": {},
   "outputs": [],
   "source": [
    "batch_size = 128\n",
    "table_name = 'junk_students'\n",
    "starting_code = f\"\"\"\n",
    "DROP TABLE IF EXISTS {table_name};\n",
    "\n",
    "CREATE TABLE IF NOT EXISTS {table_name}\n",
    "(\n",
    "    group_key INTEGER NOT NULL,\n",
    "    student_login VARCHAR(40) NOT NULL,\n",
    "    PRIMARY KEY(group_key, student_login)\n",
    ");\n",
    "\"\"\"\n",
    "\n",
    "with open(f'{table_name}.sql', 'w') as f:\n",
    "    f.write(starting_code)\n",
    "    for i in range(0, len(all_sql_inserts), batch_size):\n",
    "        values = \",\\n\".join(all_sql_inserts[i:i+batch_size])\n",
    "        insert_code = f\"\"\"INSERT INTO {table_name} VALUES \\n{values};\\n\"\"\"\n",
    "        f.write(insert_code)"
   ]
  },
  {
   "cell_type": "markdown",
   "metadata": {},
   "source": [
    "### Tutors"
   ]
  },
  {
   "cell_type": "code",
   "execution_count": null,
   "metadata": {},
   "outputs": [],
   "source": [
    "all_sql_inserts = []\n",
    "for i, row in group_user_rel.iterrows():\n",
    "    for tutor in row['tutors']:\n",
    "        all_sql_inserts.append(f\"({i}, '{tutor}')\")"
   ]
  },
  {
   "cell_type": "code",
   "execution_count": null,
   "metadata": {},
   "outputs": [],
   "source": [
    "batch_size = 128\n",
    "table_name = 'junk_tutors'\n",
    "starting_code = f\"\"\"\n",
    "DROP TABLE IF EXISTS {table_name};\n",
    "\n",
    "CREATE TABLE IF NOT EXISTS {table_name}\n",
    "(\n",
    "    group_key INTEGER NOT NULL,\n",
    "    tutor_login VARCHAR(40) NOT NULL,\n",
    "    PRIMARY KEY(group_key, tutor_login)\n",
    ");\n",
    "\"\"\"\n",
    "\n",
    "with open(f'{table_name}.sql', 'w') as f:\n",
    "    f.write(starting_code)\n",
    "    for i in range(0, len(all_sql_inserts), batch_size):\n",
    "        values = \",\\n\".join(all_sql_inserts[i:i+batch_size])\n",
    "        insert_code = f\"\"\"INSERT INTO {table_name} VALUES \\n{values};\\n\"\"\"\n",
    "        f.write(insert_code)"
   ]
  },
  {
   "cell_type": "markdown",
   "metadata": {},
   "source": [
    "### Assignments"
   ]
  },
  {
   "cell_type": "code",
   "execution_count": null,
   "metadata": {},
   "outputs": [],
   "source": [
    "def create_sql_insert(row):\n",
    "    res_values = []\n",
    "    for x in row:\n",
    "        if x == True:\n",
    "            x = 1\n",
    "        elif x == False:\n",
    "            x = 0\n",
    "        res_values.append('\\'' + str(x) + '\\'')\n",
    "    return f'({\",\".join(res_values)})'\n",
    "\n",
    "all_sql_inserts = assignments.apply(create_sql_insert, axis=1)"
   ]
  },
  {
   "cell_type": "code",
   "execution_count": null,
   "metadata": {},
   "outputs": [],
   "source": [
    "batch_size = 128\n",
    "table_name = 'junk_assignments'\n",
    "starting_code = f\"\"\"\n",
    "DROP TABLE IF EXISTS {table_name};\n",
    "\n",
    "CREATE TABLE IF NOT EXISTS {table_name}\n",
    "(\n",
    "    author VARCHAR(40) NOT NULL,\n",
    "    group_key INTEGER NOT NULL,\n",
    "    text VARCHAR(1000),\n",
    "    deadline TIMESTAMP,\n",
    "    assignment_id INTEGER,\n",
    "    PRIMARY KEY(assignment_id)\n",
    ");\n",
    "\"\"\"\n",
    "\n",
    "with open(f'{table_name}.sql', 'w') as f:\n",
    "    f.write(starting_code)\n",
    "    for i in range(0, len(all_sql_inserts), batch_size):\n",
    "        values = \",\\n\".join(all_sql_inserts[i:i+batch_size])\n",
    "        insert_code = f\"\"\"INSERT INTO {table_name} VALUES \\n{values};\\n\"\"\"\n",
    "        f.write(insert_code)"
   ]
  },
  {
   "cell_type": "markdown",
   "metadata": {},
   "source": [
    "### Tasks"
   ]
  },
  {
   "cell_type": "code",
   "execution_count": null,
   "metadata": {},
   "outputs": [],
   "source": [
    "def create_sql_insert(row):\n",
    "    res_values = []\n",
    "    for x in row:\n",
    "        if x == True:\n",
    "            x = 1\n",
    "        elif x == False:\n",
    "            x = 0\n",
    "        res_values.append('\\'' + str(x) + '\\'')\n",
    "    return f'({\",\".join(res_values)})'\n",
    "\n",
    "all_sql_inserts = tasks.apply(create_sql_insert, axis=1)"
   ]
  },
  {
   "cell_type": "code",
   "execution_count": null,
   "metadata": {},
   "outputs": [],
   "source": [
    "batch_size = 128\n",
    "table_name = 'junk_tasks'\n",
    "starting_code = f\"\"\"\n",
    "DROP TABLE IF EXISTS {table_name};\n",
    "\n",
    "CREATE TABLE IF NOT EXISTS {table_name}\n",
    "(\n",
    "    assignment_id INTEGER NOT NULL,\n",
    "    text VARCHAR(1000),\n",
    "    task_id INTEGER,\n",
    "    PRIMARY KEY(task_id)\n",
    ");\n",
    "\"\"\"\n",
    "\n",
    "with open(f'{table_name}.sql', 'w') as f:\n",
    "    f.write(starting_code)\n",
    "    for i in range(0, len(all_sql_inserts), batch_size):\n",
    "        values = \",\\n\".join(all_sql_inserts[i:i+batch_size])\n",
    "        insert_code = f\"\"\"INSERT INTO {table_name} VALUES \\n{values};\\n\"\"\"\n",
    "        f.write(insert_code)"
   ]
  },
  {
   "cell_type": "markdown",
   "metadata": {},
   "source": [
    "### Solutions"
   ]
  },
  {
   "cell_type": "code",
   "execution_count": null,
   "metadata": {},
   "outputs": [],
   "source": [
    "def create_sql_insert(row):\n",
    "    res_values = []\n",
    "    for x in row:\n",
    "        if x == True:\n",
    "            x = 1\n",
    "        elif x == False:\n",
    "            x = 0\n",
    "        res_values.append('\\'' + str(x) + '\\'')\n",
    "    return f'({\",\".join(res_values)})'\n",
    "\n",
    "all_sql_inserts = solutions.apply(create_sql_insert, axis=1)"
   ]
  },
  {
   "cell_type": "code",
   "execution_count": null,
   "metadata": {},
   "outputs": [],
   "source": [
    "batch_size = 128\n",
    "table_name = 'junk_solutions'\n",
    "starting_code = f\"\"\"\n",
    "DROP TABLE IF EXISTS {table_name};\n",
    "\n",
    "CREATE TABLE IF NOT EXISTS {table_name}\n",
    "(\n",
    "    assignment_id INTEGER NOT NULL,\n",
    "    task_id INTEGER,\n",
    "    student VARCHAR(40),\n",
    "    date TIMESTAMP,\n",
    "    PRIMARY KEY(assignment_id, task_id, student)\n",
    ");\n",
    "\"\"\"\n",
    "\n",
    "with open(f'{table_name}.sql', 'w') as f:\n",
    "    f.write(starting_code)\n",
    "    for i in range(0, len(all_sql_inserts), batch_size):\n",
    "        values = \",\\n\".join(all_sql_inserts[i:i+batch_size])\n",
    "        insert_code = f\"\"\"INSERT INTO {table_name} VALUES \\n{values};\\n\"\"\"\n",
    "        f.write(insert_code)"
   ]
  },
  {
   "cell_type": "markdown",
   "metadata": {},
   "source": [
    "### Grades"
   ]
  },
  {
   "cell_type": "code",
   "execution_count": null,
   "metadata": {},
   "outputs": [],
   "source": [
    "def create_sql_insert(row):\n",
    "    res_values = []\n",
    "    for x in row:\n",
    "        if x == True:\n",
    "            x = 1\n",
    "        elif x == False:\n",
    "            x = 0\n",
    "        res_values.append('\\'' + str(x) + '\\'')\n",
    "    return f'({\",\".join(res_values)})'\n",
    "\n",
    "all_sql_inserts = grades.apply(create_sql_insert, axis=1)"
   ]
  },
  {
   "cell_type": "code",
   "execution_count": null,
   "metadata": {},
   "outputs": [],
   "source": [
    "batch_size = 128\n",
    "table_name = 'junk_grades'\n",
    "starting_code = f\"\"\"\n",
    "DROP TABLE IF EXISTS {table_name};\n",
    "\n",
    "CREATE TABLE IF NOT EXISTS {table_name}\n",
    "(\n",
    "    grader VARCHAR(40) NOT NULL,\n",
    "    student VARCHAR(40),\n",
    "    task_id INTEGER,\n",
    "    date TIMESTAMP,\n",
    "    PRIMARY KEY(grader, task_id, date)\n",
    ");\n",
    "\"\"\"\n",
    "\n",
    "with open(f'{table_name}.sql', 'w') as f:\n",
    "    f.write(starting_code)\n",
    "    for i in range(0, len(all_sql_inserts), batch_size):\n",
    "        values = \",\\n\".join(all_sql_inserts[i:i+batch_size])\n",
    "        insert_code = f\"\"\"INSERT INTO {table_name} VALUES \\n{values};\\n\"\"\"\n",
    "        f.write(insert_code)"
   ]
  },
  {
   "cell_type": "code",
   "execution_count": null,
   "metadata": {},
   "outputs": [],
   "source": []
  }
 ],
 "metadata": {
  "kernelspec": {
   "display_name": "Python 3",
   "language": "python",
   "name": "python3"
  },
  "language_info": {
   "codemirror_mode": {
    "name": "ipython",
    "version": 3
   },
   "file_extension": ".py",
   "mimetype": "text/x-python",
   "name": "python",
   "nbconvert_exporter": "python",
   "pygments_lexer": "ipython3",
   "version": "3.7.4"
  }
 },
 "nbformat": 4,
 "nbformat_minor": 2
}
