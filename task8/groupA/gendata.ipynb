{
 "cells": [
  {
   "cell_type": "code",
   "execution_count": 1,
   "metadata": {},
   "outputs": [],
   "source": [
    "import numpy as np\n",
    "import pandas as pd\n",
    "import hashlib\n",
    "import random\n",
    "import base64\n",
    "import string\n",
    "import datetime\n",
    "import pytz\n",
    "from tqdm.notebook import tqdm"
   ]
  },
  {
   "cell_type": "code",
   "execution_count": 2,
   "metadata": {},
   "outputs": [],
   "source": [
    "alphanum = string.ascii_letters + '0123456789'"
   ]
  },
  {
   "cell_type": "code",
   "execution_count": 3,
   "metadata": {},
   "outputs": [],
   "source": [
    "total_users = 100000\n",
    "\n",
    "total_names = 100\n",
    "total_last_names = 100\n",
    "total_middle_names = 100\n",
    "\n",
    "total_groups = 3000\n",
    "\n",
    "min_tutors = 1\n",
    "max_tutors = 5\n",
    "\n",
    "min_students = 0\n",
    "max_students = 25\n",
    "\n",
    "min_assignments = 0\n",
    "max_assignments = 8\n",
    "\n",
    "min_tasks = 1\n",
    "max_tasks = 10\n",
    "\n",
    "min_text = 120\n",
    "max_text = 1000\n",
    "\n",
    "min_solution_text = 10\n",
    "max_solution_text = 200\n",
    "\n",
    "min_comment = 0\n",
    "max_comment = 100\n",
    "\n",
    "average_solved = 2/3.\n",
    "average_graded = 0.75\n",
    "\n",
    "average_active = 0.999\n",
    "average_super_user = 1e-3\n",
    "\n",
    "offset = 1000 * 24 * 3600\n",
    "max_timestamp = 1577836800"
   ]
  },
  {
   "cell_type": "code",
   "execution_count": 4,
   "metadata": {},
   "outputs": [],
   "source": [
    "names = [\"William\", \"Liam \", \"Noah\", \"Lucas\", \"Oliver \", \"Oscar\", \"Elias\", \"Hugo\", \"Adam\", \"Alexander \", \"Walter\", \"Axel \", \"Leo\", \"Nils \", \"Alfred\", \"Vincent\", \"Leon \", \"Ludvig \", \"Charlie \", \"Theo \", \"Gabriel\", \"Filip\", \"Elliot\", \"Arvid \", \"Isak \", \"Harry\", \"Matteo\", \"Adrian\", \"Melvin\", \"Theodor\", \"Benjamin\", \"August\", \"Mohamed\", \"Viktor\", \"Josef \", \"Olle \", \"Ebbe\", \"Edvin \", \"Loui\", \"Sam\", \"Gustav \", \"Malte\", \"Sixten \", \"Frank\", \"Love\", \"Albin \", \"Frans\", \"Henry\", \"Erik \", \"Viggo \", \"Elton\", \"Emil\", \"Jack\", \"Noel \", \"Jacob\", \"Melker\", \"Vidar\", \"Milo\", \"Colin\", \"Casper \", \"Otto\", \"Carl\", \"Loke \", \"Tage\", \"Wilmer \", \"Max \", \"Sigge\", \"Wilhelm\", \"Aron\", \"Milton\", \"Felix\", \"Julian\", \"Alvin\", \"Anton\", \"Ivar\", \"Samuel \", \"Kevin\", \"Nicolas\", \"Kian\", \"John \", \"Elis \", \"Levi\", \"Hjalmar\", \"Elvin\", \"David \", \"Jonathan\", \"Joel\", \"Ville\", \"Vilgot\", \"Daniel \", \"Folke\", \"Ture\", \"Amir\", \"Ali\", \"Vide\", \"Milian\", \"Thor\", \"Omar\", \"Maximilian \", \"Lias\"]\n",
    "surnames = [\"SMITH\", \"JONES\", \"BROWN\", \"JOHNSON\", \"WILLIAMS\", \"MILLER\", \"TAYLOR\", \"WILSON\", \"DAVIS\", \"WHITE\", \"CLARK\", \"HALL\", \"THOMAS\", \"THOMPSON\", \"MOORE\", \"HILL\", \"WALKER\", \"ANDERSON\", \"WRIGHT\", \"MARTIN\", \"WOOD\", \"ALLEN\", \"ROBINSON\", \"LEWIS\", \"SCOTT\", \"YOUNG\", \"JACKSON\", \"ADAMS\", \"TRYNISKI\", \"GREEN\", \"EVANS\", \"KING\", \"BAKER\", \"JOHN\", \"HARRIS\", \"ROBERTS\", \"CAMPBELL\", \"JAMES\", \"STEWART\", \"LEE\", \"COUNTY\", \"TURNER\", \"PARKER\", \"COOK\", \"MC\", \"EDWARDS\", \"MORRIS\", \"MITCHELL\", \"BELL\", \"WARD\", \"WATSON\", \"MORGAN\", \"DAVIES\", \"COOPER\", \"PHILLIPS\", \"ROGERS\", \"GRAY\", \"HUGHES\", \"HARRISON\", \"CARTER\", \"MURPHY\", \"COLLINS\", \"HENRY\", \"FOSTER\", \"RICHARDSON\", \"RUSSELL\", \"HAMILTON\", \"SHAW\", \"BENNETT\", \"HOWARD\", \"REED\", \"FISHER\", \"MARSHALL\", \"MAY\", \"CHURCH\", \"WASHINGTON\", \"KELLY\", \"PRICE\", \"MURRAY\", \"WILLIAM\", \"PALMER\", \"STEVENS\", \"COX\", \"ROBERTSON\", \"MISS\", \"CLARKE\", \"BAILEY\", \"GEORGE\", \"NELSON\", \"MASON\", \"BUTLER\", \"MILLS\", \"HUNT\", \"ISLAND\", \"SIMPSON\", \"GRAHAM\", \"HENDERSON\", \"ROSS\", \"STONE\", \"PORTER\"]\n",
    "surnames = [p[0] + p[1:].lower() for p in surnames]"
   ]
  },
  {
   "cell_type": "code",
   "execution_count": 5,
   "metadata": {},
   "outputs": [
    {
     "data": {
      "application/vnd.jupyter.widget-view+json": {
       "model_id": "d146ac8ae81b40aa81bea56abe1c740c",
       "version_major": 2,
       "version_minor": 0
      },
      "text/plain": [
       "HBox(children=(FloatProgress(value=0.0, max=100000.0), HTML(value='')))"
      ]
     },
     "metadata": {},
     "output_type": "display_data"
    },
    {
     "name": "stdout",
     "output_type": "stream",
     "text": [
      "\n"
     ]
    }
   ],
   "source": [
    "users_raw = [\n",
    "    [\n",
    "        ''.join([random.choice(string.ascii_letters)] + [random.choice(alphanum) for i in range(8)]),\n",
    "        names[min(np.random.zipf(1.4), total_names)-1],\n",
    "        surnames[min(np.random.zipf(1.4), total_last_names)-1],\n",
    "        names[min(np.random.zipf(1.4), total_middle_names)-1],\n",
    "        str(random.getrandbits(12*8)),\n",
    "        hex(random.getrandbits(12 * 4))[2:],\n",
    "        np.random.rand() < average_active,\n",
    "        np.random.rand() < average_super_user,\n",
    "    ] for i in tqdm(range(total_users))\n",
    "]"
   ]
  },
  {
   "cell_type": "code",
   "execution_count": 6,
   "metadata": {},
   "outputs": [],
   "source": [
    "users_raw = [\n",
    "    [u[0], u[1], u[2], u[3], hashlib.sha256((u[4] + u[5]).encode('utf-8')).hexdigest(), u[5], u[6], u[7]] for u in users_raw\n",
    "]"
   ]
  },
  {
   "cell_type": "code",
   "execution_count": 7,
   "metadata": {},
   "outputs": [],
   "source": [
    "users = pd.DataFrame(users_raw, columns = ['Login', 'Name', 'Last name', 'Middle name', 'Password hash', 'Salt', 'Active', 'SuperUser'])"
   ]
  },
  {
   "cell_type": "code",
   "execution_count": 8,
   "metadata": {},
   "outputs": [
    {
     "data": {
      "text/html": [
       "<div>\n",
       "<style scoped>\n",
       "    .dataframe tbody tr th:only-of-type {\n",
       "        vertical-align: middle;\n",
       "    }\n",
       "\n",
       "    .dataframe tbody tr th {\n",
       "        vertical-align: top;\n",
       "    }\n",
       "\n",
       "    .dataframe thead th {\n",
       "        text-align: right;\n",
       "    }\n",
       "</style>\n",
       "<table border=\"1\" class=\"dataframe\">\n",
       "  <thead>\n",
       "    <tr style=\"text-align: right;\">\n",
       "      <th></th>\n",
       "      <th>Login</th>\n",
       "      <th>Name</th>\n",
       "      <th>Last name</th>\n",
       "      <th>Middle name</th>\n",
       "      <th>Password hash</th>\n",
       "      <th>Salt</th>\n",
       "      <th>Active</th>\n",
       "      <th>SuperUser</th>\n",
       "    </tr>\n",
       "  </thead>\n",
       "  <tbody>\n",
       "    <tr>\n",
       "      <th>0</th>\n",
       "      <td>CLz9GJ6Zp</td>\n",
       "      <td>William</td>\n",
       "      <td>Smith</td>\n",
       "      <td>William</td>\n",
       "      <td>7043d8c6c9165c65472af269dde75b6c224d2a849d5cee...</td>\n",
       "      <td>38092c1cc913</td>\n",
       "      <td>True</td>\n",
       "      <td>False</td>\n",
       "    </tr>\n",
       "    <tr>\n",
       "      <th>1</th>\n",
       "      <td>ll3bwXp2x</td>\n",
       "      <td>Arvid</td>\n",
       "      <td>Jones</td>\n",
       "      <td>Benjamin</td>\n",
       "      <td>d3a27c310fbabd76ef8492bbddd1020cd43b5d7f1388f3...</td>\n",
       "      <td>3abfa9ff3cb5</td>\n",
       "      <td>True</td>\n",
       "      <td>False</td>\n",
       "    </tr>\n",
       "    <tr>\n",
       "      <th>2</th>\n",
       "      <td>qUqe1jWHL</td>\n",
       "      <td>William</td>\n",
       "      <td>Jones</td>\n",
       "      <td>Lias</td>\n",
       "      <td>dddb2b8ff285f3d4977f864aa74f3e673d86a67ae59ea4...</td>\n",
       "      <td>255bbb75f62f</td>\n",
       "      <td>True</td>\n",
       "      <td>False</td>\n",
       "    </tr>\n",
       "    <tr>\n",
       "      <th>3</th>\n",
       "      <td>fJzTXgHFR</td>\n",
       "      <td>Liam</td>\n",
       "      <td>Brown</td>\n",
       "      <td>Liam</td>\n",
       "      <td>420b9f7f30b02325be4b08fd1857a173bfa353f8fe213c...</td>\n",
       "      <td>c1d0fbe8dc1f</td>\n",
       "      <td>True</td>\n",
       "      <td>False</td>\n",
       "    </tr>\n",
       "    <tr>\n",
       "      <th>4</th>\n",
       "      <td>pQxyaHoUk</td>\n",
       "      <td>William</td>\n",
       "      <td>Brown</td>\n",
       "      <td>Liam</td>\n",
       "      <td>5f82a04a424aea05d3e7b98c711bf5f48a9f29f1192ef3...</td>\n",
       "      <td>d9c9bea8a67a</td>\n",
       "      <td>True</td>\n",
       "      <td>False</td>\n",
       "    </tr>\n",
       "    <tr>\n",
       "      <th>...</th>\n",
       "      <td>...</td>\n",
       "      <td>...</td>\n",
       "      <td>...</td>\n",
       "      <td>...</td>\n",
       "      <td>...</td>\n",
       "      <td>...</td>\n",
       "      <td>...</td>\n",
       "      <td>...</td>\n",
       "    </tr>\n",
       "    <tr>\n",
       "      <th>99995</th>\n",
       "      <td>Xfz3GEJxU</td>\n",
       "      <td>William</td>\n",
       "      <td>Porter</td>\n",
       "      <td>Lias</td>\n",
       "      <td>159c8114342555b0f72a10c284c64052685472a0bfdd91...</td>\n",
       "      <td>8c4f8a856e7f</td>\n",
       "      <td>True</td>\n",
       "      <td>False</td>\n",
       "    </tr>\n",
       "    <tr>\n",
       "      <th>99996</th>\n",
       "      <td>LypxIZ939</td>\n",
       "      <td>William</td>\n",
       "      <td>Smith</td>\n",
       "      <td>Lias</td>\n",
       "      <td>4a287217cb76da8f99e79f0e4767947406fc99c1bbcaf2...</td>\n",
       "      <td>cea0ea8618b6</td>\n",
       "      <td>True</td>\n",
       "      <td>False</td>\n",
       "    </tr>\n",
       "    <tr>\n",
       "      <th>99997</th>\n",
       "      <td>XC52uQ4tM</td>\n",
       "      <td>William</td>\n",
       "      <td>Jones</td>\n",
       "      <td>William</td>\n",
       "      <td>3da30f9f7e6216a798aa44539da8521c3b53107989e3b0...</td>\n",
       "      <td>48dfd3e873dd</td>\n",
       "      <td>True</td>\n",
       "      <td>False</td>\n",
       "    </tr>\n",
       "    <tr>\n",
       "      <th>99998</th>\n",
       "      <td>YAxlgBWWb</td>\n",
       "      <td>William</td>\n",
       "      <td>Porter</td>\n",
       "      <td>William</td>\n",
       "      <td>257887b22f04aabc8d4abc0a25474d9294af5466150128...</td>\n",
       "      <td>7c8163bc0d5e</td>\n",
       "      <td>True</td>\n",
       "      <td>False</td>\n",
       "    </tr>\n",
       "    <tr>\n",
       "      <th>99999</th>\n",
       "      <td>RcgzlMIg8</td>\n",
       "      <td>William</td>\n",
       "      <td>Williams</td>\n",
       "      <td>Jacob</td>\n",
       "      <td>c542dadf545f67ad162fffd6a505ebe10c393d2ab57d35...</td>\n",
       "      <td>9cb6a14e3a97</td>\n",
       "      <td>True</td>\n",
       "      <td>False</td>\n",
       "    </tr>\n",
       "  </tbody>\n",
       "</table>\n",
       "<p>100000 rows × 8 columns</p>\n",
       "</div>"
      ],
      "text/plain": [
       "           Login     Name Last name Middle name  \\\n",
       "0      CLz9GJ6Zp  William     Smith     William   \n",
       "1      ll3bwXp2x   Arvid      Jones    Benjamin   \n",
       "2      qUqe1jWHL  William     Jones        Lias   \n",
       "3      fJzTXgHFR    Liam      Brown       Liam    \n",
       "4      pQxyaHoUk  William     Brown       Liam    \n",
       "...          ...      ...       ...         ...   \n",
       "99995  Xfz3GEJxU  William    Porter        Lias   \n",
       "99996  LypxIZ939  William     Smith        Lias   \n",
       "99997  XC52uQ4tM  William     Jones     William   \n",
       "99998  YAxlgBWWb  William    Porter     William   \n",
       "99999  RcgzlMIg8  William  Williams       Jacob   \n",
       "\n",
       "                                           Password hash          Salt  \\\n",
       "0      7043d8c6c9165c65472af269dde75b6c224d2a849d5cee...  38092c1cc913   \n",
       "1      d3a27c310fbabd76ef8492bbddd1020cd43b5d7f1388f3...  3abfa9ff3cb5   \n",
       "2      dddb2b8ff285f3d4977f864aa74f3e673d86a67ae59ea4...  255bbb75f62f   \n",
       "3      420b9f7f30b02325be4b08fd1857a173bfa353f8fe213c...  c1d0fbe8dc1f   \n",
       "4      5f82a04a424aea05d3e7b98c711bf5f48a9f29f1192ef3...  d9c9bea8a67a   \n",
       "...                                                  ...           ...   \n",
       "99995  159c8114342555b0f72a10c284c64052685472a0bfdd91...  8c4f8a856e7f   \n",
       "99996  4a287217cb76da8f99e79f0e4767947406fc99c1bbcaf2...  cea0ea8618b6   \n",
       "99997  3da30f9f7e6216a798aa44539da8521c3b53107989e3b0...  48dfd3e873dd   \n",
       "99998  257887b22f04aabc8d4abc0a25474d9294af5466150128...  7c8163bc0d5e   \n",
       "99999  c542dadf545f67ad162fffd6a505ebe10c393d2ab57d35...  9cb6a14e3a97   \n",
       "\n",
       "       Active  SuperUser  \n",
       "0        True      False  \n",
       "1        True      False  \n",
       "2        True      False  \n",
       "3        True      False  \n",
       "4        True      False  \n",
       "...       ...        ...  \n",
       "99995    True      False  \n",
       "99996    True      False  \n",
       "99997    True      False  \n",
       "99998    True      False  \n",
       "99999    True      False  \n",
       "\n",
       "[100000 rows x 8 columns]"
      ]
     },
     "execution_count": 8,
     "metadata": {},
     "output_type": "execute_result"
    }
   ],
   "source": [
    "users"
   ]
  },
  {
   "cell_type": "code",
   "execution_count": null,
   "metadata": {},
   "outputs": [],
   "source": []
  },
  {
   "cell_type": "code",
   "execution_count": 9,
   "metadata": {},
   "outputs": [],
   "source": [
    "groups_raw = [\n",
    "    [\n",
    "        i,\n",
    "        ''.join([random.choice(string.ascii_letters)] + [random.choice(alphanum) for i in range(8)]),\n",
    "    ] for i in range(total_groups)\n",
    "]"
   ]
  },
  {
   "cell_type": "code",
   "execution_count": 10,
   "metadata": {},
   "outputs": [],
   "source": [
    "groups = pd.DataFrame(groups_raw, columns = ['No', 'Course'])"
   ]
  },
  {
   "cell_type": "code",
   "execution_count": 11,
   "metadata": {},
   "outputs": [
    {
     "data": {
      "text/html": [
       "<div>\n",
       "<style scoped>\n",
       "    .dataframe tbody tr th:only-of-type {\n",
       "        vertical-align: middle;\n",
       "    }\n",
       "\n",
       "    .dataframe tbody tr th {\n",
       "        vertical-align: top;\n",
       "    }\n",
       "\n",
       "    .dataframe thead th {\n",
       "        text-align: right;\n",
       "    }\n",
       "</style>\n",
       "<table border=\"1\" class=\"dataframe\">\n",
       "  <thead>\n",
       "    <tr style=\"text-align: right;\">\n",
       "      <th></th>\n",
       "      <th>No</th>\n",
       "      <th>Course</th>\n",
       "    </tr>\n",
       "  </thead>\n",
       "  <tbody>\n",
       "    <tr>\n",
       "      <th>0</th>\n",
       "      <td>0</td>\n",
       "      <td>KnUCjr0J2</td>\n",
       "    </tr>\n",
       "    <tr>\n",
       "      <th>1</th>\n",
       "      <td>1</td>\n",
       "      <td>R0G5ycs2Z</td>\n",
       "    </tr>\n",
       "    <tr>\n",
       "      <th>2</th>\n",
       "      <td>2</td>\n",
       "      <td>R5axg6I5h</td>\n",
       "    </tr>\n",
       "    <tr>\n",
       "      <th>3</th>\n",
       "      <td>3</td>\n",
       "      <td>qUEqOzCQ4</td>\n",
       "    </tr>\n",
       "    <tr>\n",
       "      <th>4</th>\n",
       "      <td>4</td>\n",
       "      <td>ODpB3zEXE</td>\n",
       "    </tr>\n",
       "    <tr>\n",
       "      <th>...</th>\n",
       "      <td>...</td>\n",
       "      <td>...</td>\n",
       "    </tr>\n",
       "    <tr>\n",
       "      <th>2995</th>\n",
       "      <td>2995</td>\n",
       "      <td>WAai3oNUh</td>\n",
       "    </tr>\n",
       "    <tr>\n",
       "      <th>2996</th>\n",
       "      <td>2996</td>\n",
       "      <td>nzeEEBxZo</td>\n",
       "    </tr>\n",
       "    <tr>\n",
       "      <th>2997</th>\n",
       "      <td>2997</td>\n",
       "      <td>b0Mnj2oAd</td>\n",
       "    </tr>\n",
       "    <tr>\n",
       "      <th>2998</th>\n",
       "      <td>2998</td>\n",
       "      <td>lHt5KTIal</td>\n",
       "    </tr>\n",
       "    <tr>\n",
       "      <th>2999</th>\n",
       "      <td>2999</td>\n",
       "      <td>pJagF3V68</td>\n",
       "    </tr>\n",
       "  </tbody>\n",
       "</table>\n",
       "<p>3000 rows × 2 columns</p>\n",
       "</div>"
      ],
      "text/plain": [
       "        No     Course\n",
       "0        0  KnUCjr0J2\n",
       "1        1  R0G5ycs2Z\n",
       "2        2  R5axg6I5h\n",
       "3        3  qUEqOzCQ4\n",
       "4        4  ODpB3zEXE\n",
       "...    ...        ...\n",
       "2995  2995  WAai3oNUh\n",
       "2996  2996  nzeEEBxZo\n",
       "2997  2997  b0Mnj2oAd\n",
       "2998  2998  lHt5KTIal\n",
       "2999  2999  pJagF3V68\n",
       "\n",
       "[3000 rows x 2 columns]"
      ]
     },
     "execution_count": 11,
     "metadata": {},
     "output_type": "execute_result"
    }
   ],
   "source": [
    "groups"
   ]
  },
  {
   "cell_type": "code",
   "execution_count": null,
   "metadata": {},
   "outputs": [],
   "source": []
  },
  {
   "cell_type": "code",
   "execution_count": 12,
   "metadata": {},
   "outputs": [],
   "source": [
    "group_user_rel = [\n",
    "    {\n",
    "        \"students\": list(set([users_raw[random.choice(range(total_users))][0] for i in range(random.choice(range(min_students, max_students + 1)))])),\n",
    "        \"tutors\": list(set([users_raw[random.choice(range(total_users))][0] for i in range(random.choice(range(min_tutors, max_tutors + 1)))]))\n",
    "    } for g_i in range(total_groups)\n",
    "]"
   ]
  },
  {
   "cell_type": "code",
   "execution_count": null,
   "metadata": {},
   "outputs": [],
   "source": []
  },
  {
   "cell_type": "code",
   "execution_count": 13,
   "metadata": {
    "scrolled": true
   },
   "outputs": [
    {
     "data": {
      "application/vnd.jupyter.widget-view+json": {
       "model_id": "733574a93c3b40a7b665d5398dad5c40",
       "version_major": 2,
       "version_minor": 0
      },
      "text/plain": [
       "HBox(children=(FloatProgress(value=0.0, max=3000.0), HTML(value='')))"
      ]
     },
     "metadata": {},
     "output_type": "display_data"
    },
    {
     "name": "stdout",
     "output_type": "stream",
     "text": [
      "\n"
     ]
    }
   ],
   "source": [
    "assignments = [\n",
    "    {\n",
    "        \"author\": random.choice(group_user_rel[_][\"tutors\"]),\n",
    "        \"group\": group[0],\n",
    "        \"text\": ''.join([random.choice(alphanum + ' ,.!?()') for i in range(random.choice(range(min_text, max_text + 1)))]),\n",
    "        \"deadline\": np.random.randint(max_timestamp - offset, max_timestamp)\n",
    "    } for (_, group) in tqdm(groups.iterrows(), total=len(groups)) for i in range(random.choice(range(min_assignments, max_assignments + 1)))\n",
    "]\n",
    "for i,assignment in enumerate(assignments):\n",
    "    assignment['ID'] = i"
   ]
  },
  {
   "cell_type": "code",
   "execution_count": 14,
   "metadata": {},
   "outputs": [
    {
     "data": {
      "application/vnd.jupyter.widget-view+json": {
       "model_id": "175067bba08e461c8c7cbcfaac165605",
       "version_major": 2,
       "version_minor": 0
      },
      "text/plain": [
       "HBox(children=(FloatProgress(value=0.0, max=12179.0), HTML(value='')))"
      ]
     },
     "metadata": {},
     "output_type": "display_data"
    },
    {
     "name": "stdout",
     "output_type": "stream",
     "text": [
      "\n"
     ]
    }
   ],
   "source": [
    "tasks = [\n",
    "    {\n",
    "        \"assignment ID\": _,\n",
    "        \"text\": ''.join([random.choice(alphanum + ' ,.!?()') for i in range(random.choice(range(min_text, max_text + 1)))])\n",
    "    } for (_, assignment) in enumerate(tqdm(assignments)) for i in range(random.choice(range(min_tasks, max_tasks + 1)))\n",
    "]\n",
    "for i,task in enumerate(tasks):\n",
    "    task['task ID'] = i"
   ]
  },
  {
   "cell_type": "code",
   "execution_count": 16,
   "metadata": {},
   "outputs": [
    {
     "data": {
      "application/vnd.jupyter.widget-view+json": {
       "model_id": "f03be0d7a3e34b52a5bba08c2aa9c124",
       "version_major": 2,
       "version_minor": 0
      },
      "text/plain": [
       "HBox(children=(FloatProgress(value=0.0, max=67342.0), HTML(value='')))"
      ]
     },
     "metadata": {},
     "output_type": "display_data"
    },
    {
     "name": "stdout",
     "output_type": "stream",
     "text": [
      "\n"
     ]
    }
   ],
   "source": [
    "solutions = [\n",
    "    {\n",
    "        \"assignment ID\" : task[\"assignment ID\"],\n",
    "        \"task ID\": task[\"task ID\"],\n",
    "        \"student\": student,\n",
    "        \"datetime\": np.random.randint(\n",
    "            assignments[task[\"assignment ID\"]][\"deadline\"] - offset,\n",
    "            assignments[task[\"assignment ID\"]][\"deadline\"]),\n",
    "        \"text\": ''.join([random.choice(alphanum + ' ,.!?()') for i in range(random.choice(range(min_solution_text, max_solution_text + 1)))])\n",
    "    } for task in tqdm(tasks) for student in random.sample(group_user_rel[assignments[task[\"assignment ID\"]][\"group\"]][\"students\"], int(len(group_user_rel[assignments[task[\"assignment ID\"]][\"group\"]][\"students\"]) * average_solved))\n",
    "]\n",
    "for i, solution in enumerate(solutions):\n",
    "    solution['solution ID'] = i"
   ]
  },
  {
   "cell_type": "code",
   "execution_count": 18,
   "metadata": {},
   "outputs": [
    {
     "data": {
      "application/vnd.jupyter.widget-view+json": {
       "model_id": "c66142d41a7e4cafa6038b256eaad50f",
       "version_major": 2,
       "version_minor": 0
      },
      "text/plain": [
       "HBox(children=(FloatProgress(value=0.0, max=406069.0), HTML(value='')))"
      ]
     },
     "metadata": {},
     "output_type": "display_data"
    },
    {
     "name": "stdout",
     "output_type": "stream",
     "text": [
      "\n"
     ]
    }
   ],
   "source": [
    "grades = [\n",
    "    {\n",
    "        \"grader\": random.choice(group_user_rel[assignments[tasks[solution[\"task ID\"]][\"assignment ID\"]][\"group\"]][\"tutors\"]),\n",
    "        \"student\": solution[\"student\"],\n",
    "        \"task ID\": solution[\"task ID\"],\n",
    "        \"datetime\": np.random.randint(\n",
    "            solution[\"datetime\"],\n",
    "            max_timestamp),\n",
    "        \"comment\": ''.join([random.choice(alphanum + ' ,.!?()') for i in range(random.choice(range(min_comment, max_comment + 1)))]),\n",
    "        \"grade\": np.random.randint(10)\n",
    "    } for solution in tqdm(np.random.choice(solutions, size=int(len(solutions) * average_graded), replace=True))\n",
    "]\n",
    "for i, grade in enumerate(grades):\n",
    "    grade['grade ID'] = i"
   ]
  },
  {
   "cell_type": "markdown",
   "metadata": {},
   "source": [
    "## Приведение всего к DataFrame"
   ]
  },
  {
   "cell_type": "code",
   "execution_count": 19,
   "metadata": {},
   "outputs": [],
   "source": [
    "group_user_rel = pd.DataFrame(group_user_rel)\n",
    "assignments = pd.DataFrame(assignments)\n",
    "tasks = pd.DataFrame(tasks)\n",
    "solutions = pd.DataFrame(solutions)\n",
    "grades = pd.DataFrame(grades)"
   ]
  },
  {
   "cell_type": "code",
   "execution_count": 20,
   "metadata": {},
   "outputs": [],
   "source": [
    "timezone = pytz.timezone('Europe/Moscow')\n",
    "assignments['deadline'] = assignments['deadline'].apply(lambda x: datetime.datetime.fromtimestamp(x, timezone))\n",
    "solutions['datetime'] = solutions['datetime'].apply(lambda x: datetime.datetime.fromtimestamp(x, timezone))\n",
    "grades['datetime'] = grades['datetime'].apply(lambda x: datetime.datetime.fromtimestamp(x, timezone))"
   ]
  },
  {
   "cell_type": "code",
   "execution_count": 21,
   "metadata": {},
   "outputs": [
    {
     "name": "stdout",
     "output_type": "stream",
     "text": [
      "Table shapes:\n",
      "\tUsers: (100000, 8)\n",
      "\tGroups: (3000, 2)\n",
      "\tGroup/user rel: (3000, 2)\n",
      "\tAssignments: (12179, 5)\n",
      "\tTasks: (67342, 3)\n",
      "\tSolutions: (541426, 6)\n",
      "\tGrades: (406069, 7)\n"
     ]
    }
   ],
   "source": [
    "print(\"Table shapes:\")\n",
    "print(f\"\\tUsers: {users.shape}\")\n",
    "print(f\"\\tGroups: {groups.shape}\")\n",
    "print(f\"\\tGroup/user rel: {group_user_rel.shape}\")\n",
    "print(f\"\\tAssignments: {assignments.shape}\")\n",
    "print(f\"\\tTasks: {tasks.shape}\")\n",
    "print(f\"\\tSolutions: {solutions.shape}\")\n",
    "print(f\"\\tGrades: {grades.shape}\")"
   ]
  },
  {
   "cell_type": "markdown",
   "metadata": {},
   "source": [
    "## Создание sql файлов для загрузки данных"
   ]
  },
  {
   "cell_type": "markdown",
   "metadata": {},
   "source": [
    "### Users"
   ]
  },
  {
   "cell_type": "code",
   "execution_count": 25,
   "metadata": {},
   "outputs": [],
   "source": [
    "def create_sql_insert(row):\n",
    "    res_values = []\n",
    "    for x in row:\n",
    "        if x == True:\n",
    "            x = 1\n",
    "        elif x == False:\n",
    "            x = 0\n",
    "        if isinstance(x, datetime.datetime):\n",
    "            x = str(x)[:-6]\n",
    "        res_values.append('\\'' + str(x) + '\\'')\n",
    "    return f'({\",\".join(res_values)})'\n",
    "\n",
    "all_sql_inserts = users.apply(create_sql_insert, axis=1)"
   ]
  },
  {
   "cell_type": "code",
   "execution_count": 26,
   "metadata": {},
   "outputs": [
    {
     "data": {
      "application/vnd.jupyter.widget-view+json": {
       "model_id": "fe1df7d069bf4a9c82b5717472fb2072",
       "version_major": 2,
       "version_minor": 0
      },
      "text/plain": [
       "HBox(children=(FloatProgress(value=0.0, max=196.0), HTML(value='')))"
      ]
     },
     "metadata": {},
     "output_type": "display_data"
    },
    {
     "name": "stdout",
     "output_type": "stream",
     "text": [
      "\n"
     ]
    }
   ],
   "source": [
    "batch_size = 512\n",
    "table_name = 'junk_users'\n",
    "starting_code = f\"\"\"\n",
    "DROP TABLE IF EXISTS {table_name};\n",
    "\n",
    "CREATE TABLE IF NOT EXISTS {table_name}\n",
    "(\n",
    "    login VARCHAR(40) NOT NULL,\n",
    "    `name` VARCHAR(120),\n",
    "    last_name VARCHAR(120),\n",
    "    middle_name VARCHAR(120),\n",
    "    password_hash VARCHAR(120),\n",
    "    password_salt CHARACTER(12),\n",
    "    active TINYINT(1),\n",
    "    super_user TINYINT(1),\n",
    "    PRIMARY KEY(login)\n",
    ");\n",
    "\"\"\"\n",
    "\n",
    "with open(f'{table_name}.sql', 'w') as f:\n",
    "    f.write(starting_code)\n",
    "    for i in tqdm(range(0, len(all_sql_inserts), batch_size)):\n",
    "        values = \",\\n\".join(all_sql_inserts[i:i+batch_size])\n",
    "        insert_code = f\"\"\"INSERT INTO {table_name} VALUES \\n{values};\\n\"\"\"\n",
    "        f.write(insert_code)"
   ]
  },
  {
   "cell_type": "markdown",
   "metadata": {},
   "source": [
    "### Groups"
   ]
  },
  {
   "cell_type": "code",
   "execution_count": 27,
   "metadata": {},
   "outputs": [],
   "source": [
    "all_sql_inserts = groups.apply(create_sql_insert, axis=1)"
   ]
  },
  {
   "cell_type": "code",
   "execution_count": 28,
   "metadata": {},
   "outputs": [
    {
     "data": {
      "application/vnd.jupyter.widget-view+json": {
       "model_id": "19a6fa7f56834eb8a221d31b071254a5",
       "version_major": 2,
       "version_minor": 0
      },
      "text/plain": [
       "HBox(children=(FloatProgress(value=0.0, max=6.0), HTML(value='')))"
      ]
     },
     "metadata": {},
     "output_type": "display_data"
    },
    {
     "name": "stdout",
     "output_type": "stream",
     "text": [
      "\n"
     ]
    }
   ],
   "source": [
    "table_name = 'junk_groups'\n",
    "starting_code = f\"\"\"\n",
    "DROP TABLE IF EXISTS {table_name};\n",
    "\n",
    "CREATE TABLE IF NOT EXISTS {table_name}\n",
    "(\n",
    "    group_key INTEGER NOT NULL,\n",
    "    discipline VARCHAR(120),\n",
    "    PRIMARY KEY(group_key)\n",
    ");\n",
    "\"\"\"\n",
    "\n",
    "with open(f'{table_name}.sql', 'w') as f:\n",
    "    f.write(starting_code)\n",
    "    for i in tqdm(range(0, len(all_sql_inserts), batch_size)):\n",
    "        values = \",\\n\".join(all_sql_inserts[i:i+batch_size])\n",
    "        insert_code = f\"\"\"INSERT INTO {table_name} VALUES \\n{values};\\n\"\"\"\n",
    "        f.write(insert_code)"
   ]
  },
  {
   "cell_type": "markdown",
   "metadata": {},
   "source": [
    "### Students"
   ]
  },
  {
   "cell_type": "code",
   "execution_count": 29,
   "metadata": {},
   "outputs": [],
   "source": [
    "all_sql_inserts = []\n",
    "for i, row in group_user_rel.iterrows():\n",
    "    for student in row['students']:\n",
    "        all_sql_inserts.append(f\"({i}, '{student}')\")"
   ]
  },
  {
   "cell_type": "code",
   "execution_count": 30,
   "metadata": {},
   "outputs": [
    {
     "data": {
      "application/vnd.jupyter.widget-view+json": {
       "model_id": "ca4471200fb346d8a113f45bfa13ac37",
       "version_major": 2,
       "version_minor": 0
      },
      "text/plain": [
       "HBox(children=(FloatProgress(value=0.0, max=74.0), HTML(value='')))"
      ]
     },
     "metadata": {},
     "output_type": "display_data"
    },
    {
     "name": "stdout",
     "output_type": "stream",
     "text": [
      "\n"
     ]
    }
   ],
   "source": [
    "table_name = 'junk_students'\n",
    "starting_code = f\"\"\"\n",
    "DROP TABLE IF EXISTS {table_name};\n",
    "\n",
    "CREATE TABLE IF NOT EXISTS {table_name}\n",
    "(\n",
    "    group_key INTEGER NOT NULL,\n",
    "    student_login VARCHAR(40) NOT NULL,\n",
    "    PRIMARY KEY(group_key, student_login)\n",
    ");\n",
    "\"\"\"\n",
    "\n",
    "with open(f'{table_name}.sql', 'w') as f:\n",
    "    f.write(starting_code)\n",
    "    for i in tqdm(range(0, len(all_sql_inserts), batch_size)):\n",
    "        values = \",\\n\".join(all_sql_inserts[i:i+batch_size])\n",
    "        insert_code = f\"\"\"INSERT INTO {table_name} VALUES \\n{values};\\n\"\"\"\n",
    "        f.write(insert_code)"
   ]
  },
  {
   "cell_type": "markdown",
   "metadata": {},
   "source": [
    "### Tutors"
   ]
  },
  {
   "cell_type": "code",
   "execution_count": 31,
   "metadata": {},
   "outputs": [],
   "source": [
    "all_sql_inserts = []\n",
    "for i, row in group_user_rel.iterrows():\n",
    "    for tutor in row['tutors']:\n",
    "        all_sql_inserts.append(f\"({i}, '{tutor}')\")"
   ]
  },
  {
   "cell_type": "code",
   "execution_count": 32,
   "metadata": {},
   "outputs": [
    {
     "data": {
      "application/vnd.jupyter.widget-view+json": {
       "model_id": "e021be9b5aeb4e9fb0dcde2320f0e10b",
       "version_major": 2,
       "version_minor": 0
      },
      "text/plain": [
       "HBox(children=(FloatProgress(value=0.0, max=18.0), HTML(value='')))"
      ]
     },
     "metadata": {},
     "output_type": "display_data"
    },
    {
     "name": "stdout",
     "output_type": "stream",
     "text": [
      "\n"
     ]
    }
   ],
   "source": [
    "table_name = 'junk_tutors'\n",
    "starting_code = f\"\"\"\n",
    "DROP TABLE IF EXISTS {table_name};\n",
    "\n",
    "CREATE TABLE IF NOT EXISTS {table_name}\n",
    "(\n",
    "    group_key INTEGER NOT NULL,\n",
    "    tutor_login VARCHAR(40) NOT NULL,\n",
    "    PRIMARY KEY(group_key, tutor_login)\n",
    ");\n",
    "\"\"\"\n",
    "\n",
    "with open(f'{table_name}.sql', 'w') as f:\n",
    "    f.write(starting_code)\n",
    "    for i in tqdm(range(0, len(all_sql_inserts), batch_size)):\n",
    "        values = \",\\n\".join(all_sql_inserts[i:i+batch_size])\n",
    "        insert_code = f\"\"\"INSERT INTO {table_name} VALUES \\n{values};\\n\"\"\"\n",
    "        f.write(insert_code)"
   ]
  },
  {
   "cell_type": "markdown",
   "metadata": {},
   "source": [
    "### Assignments"
   ]
  },
  {
   "cell_type": "code",
   "execution_count": 33,
   "metadata": {},
   "outputs": [],
   "source": [
    "all_sql_inserts = assignments.apply(create_sql_insert, axis=1)"
   ]
  },
  {
   "cell_type": "code",
   "execution_count": 34,
   "metadata": {},
   "outputs": [
    {
     "data": {
      "application/vnd.jupyter.widget-view+json": {
       "model_id": "33b68230676d41ffa4a475434264f7d2",
       "version_major": 2,
       "version_minor": 0
      },
      "text/plain": [
       "HBox(children=(FloatProgress(value=0.0, max=24.0), HTML(value='')))"
      ]
     },
     "metadata": {},
     "output_type": "display_data"
    },
    {
     "name": "stdout",
     "output_type": "stream",
     "text": [
      "\n"
     ]
    }
   ],
   "source": [
    "table_name = 'junk_assignments'\n",
    "starting_code = f\"\"\"\n",
    "DROP TABLE IF EXISTS {table_name};\n",
    "\n",
    "CREATE TABLE IF NOT EXISTS {table_name}\n",
    "(\n",
    "    author VARCHAR(40) NOT NULL,\n",
    "    group_key INTEGER NOT NULL,\n",
    "    text VARCHAR(1000),\n",
    "    deadline TIMESTAMP,\n",
    "    assignment_id INTEGER,\n",
    "    PRIMARY KEY(assignment_id)\n",
    ");\n",
    "\"\"\"\n",
    "\n",
    "with open(f'{table_name}.sql', 'w') as f:\n",
    "    f.write(starting_code)\n",
    "    for i in tqdm(range(0, len(all_sql_inserts), batch_size)):\n",
    "        values = \",\\n\".join(all_sql_inserts[i:i+batch_size])\n",
    "        insert_code = f\"\"\"INSERT INTO {table_name} VALUES \\n{values};\\n\"\"\"\n",
    "        f.write(insert_code)"
   ]
  },
  {
   "cell_type": "markdown",
   "metadata": {},
   "source": [
    "### Tasks"
   ]
  },
  {
   "cell_type": "code",
   "execution_count": 35,
   "metadata": {},
   "outputs": [],
   "source": [
    "all_sql_inserts = tasks.apply(create_sql_insert, axis=1)"
   ]
  },
  {
   "cell_type": "code",
   "execution_count": 36,
   "metadata": {},
   "outputs": [
    {
     "data": {
      "application/vnd.jupyter.widget-view+json": {
       "model_id": "28355427c69b49dfa0da30dc6b061660",
       "version_major": 2,
       "version_minor": 0
      },
      "text/plain": [
       "HBox(children=(FloatProgress(value=0.0, max=132.0), HTML(value='')))"
      ]
     },
     "metadata": {},
     "output_type": "display_data"
    },
    {
     "name": "stdout",
     "output_type": "stream",
     "text": [
      "\n"
     ]
    }
   ],
   "source": [
    "table_name = 'junk_tasks'\n",
    "starting_code = f\"\"\"\n",
    "DROP TABLE IF EXISTS {table_name};\n",
    "\n",
    "CREATE TABLE IF NOT EXISTS {table_name}\n",
    "(\n",
    "    assignment_id INTEGER NOT NULL,\n",
    "    text VARCHAR(1000),\n",
    "    task_id INTEGER,\n",
    "    PRIMARY KEY(task_id)\n",
    ");\n",
    "\"\"\"\n",
    "\n",
    "with open(f'{table_name}.sql', 'w') as f:\n",
    "    f.write(starting_code)\n",
    "    for i in tqdm(range(0, len(all_sql_inserts), batch_size)):\n",
    "        values = \",\\n\".join(all_sql_inserts[i:i+batch_size])\n",
    "        insert_code = f\"\"\"INSERT INTO {table_name} VALUES \\n{values};\\n\"\"\"\n",
    "        f.write(insert_code)"
   ]
  },
  {
   "cell_type": "markdown",
   "metadata": {},
   "source": [
    "### Solutions"
   ]
  },
  {
   "cell_type": "code",
   "execution_count": 37,
   "metadata": {},
   "outputs": [],
   "source": [
    "all_sql_inserts = solutions.apply(create_sql_insert, axis=1)"
   ]
  },
  {
   "cell_type": "code",
   "execution_count": 38,
   "metadata": {},
   "outputs": [
    {
     "data": {
      "application/vnd.jupyter.widget-view+json": {
       "model_id": "dd00ba1ad88f4ce8800b74e4da3b2842",
       "version_major": 2,
       "version_minor": 0
      },
      "text/plain": [
       "HBox(children=(FloatProgress(value=0.0, max=1058.0), HTML(value='')))"
      ]
     },
     "metadata": {},
     "output_type": "display_data"
    },
    {
     "name": "stdout",
     "output_type": "stream",
     "text": [
      "\n"
     ]
    }
   ],
   "source": [
    "table_name = 'junk_solutions'\n",
    "starting_code = f\"\"\"\n",
    "DROP TABLE IF EXISTS {table_name};\n",
    "\n",
    "CREATE TABLE IF NOT EXISTS {table_name}\n",
    "(\n",
    "    assignment_id INTEGER NOT NULL,\n",
    "    task_id INTEGER,\n",
    "    student VARCHAR(40),\n",
    "    date TIMESTAMP,\n",
    "    text VARCHAR(500),\n",
    "    solution_id INTEGER,\n",
    "    PRIMARY KEY(assignment_id, task_id, student)\n",
    ");\n",
    "\"\"\"\n",
    "\n",
    "with open(f'{table_name}.sql', 'w') as f:\n",
    "    f.write(starting_code)\n",
    "    for i in tqdm(range(0, len(all_sql_inserts), batch_size)):\n",
    "        values = \",\\n\".join(all_sql_inserts[i:i+batch_size])\n",
    "        insert_code = f\"\"\"INSERT INTO {table_name} VALUES \\n{values};\\n\"\"\"\n",
    "        f.write(insert_code)"
   ]
  },
  {
   "cell_type": "markdown",
   "metadata": {},
   "source": [
    "### Grades"
   ]
  },
  {
   "cell_type": "code",
   "execution_count": 39,
   "metadata": {},
   "outputs": [],
   "source": [
    "all_sql_inserts = grades.apply(create_sql_insert, axis=1)"
   ]
  },
  {
   "cell_type": "code",
   "execution_count": 40,
   "metadata": {},
   "outputs": [
    {
     "data": {
      "application/vnd.jupyter.widget-view+json": {
       "model_id": "dcf267db2b954b08b22022e2f7842334",
       "version_major": 2,
       "version_minor": 0
      },
      "text/plain": [
       "HBox(children=(FloatProgress(value=0.0, max=794.0), HTML(value='')))"
      ]
     },
     "metadata": {},
     "output_type": "display_data"
    },
    {
     "name": "stdout",
     "output_type": "stream",
     "text": [
      "\n"
     ]
    }
   ],
   "source": [
    "table_name = 'junk_grades'\n",
    "starting_code = f\"\"\"\n",
    "DROP TABLE IF EXISTS {table_name};\n",
    "\n",
    "CREATE TABLE IF NOT EXISTS {table_name}\n",
    "(\n",
    "    grader VARCHAR(40) NOT NULL,\n",
    "    student VARCHAR(40),\n",
    "    task_id INTEGER,\n",
    "    date TIMESTAMP,\n",
    "    comment VARCHAR(500),\n",
    "    grade INTEGER,\n",
    "    grade_id INTEGER,\n",
    "    PRIMARY KEY(grader, student, task_id, date)\n",
    ");\n",
    "\"\"\"\n",
    "\n",
    "with open(f'{table_name}.sql', 'w') as f:\n",
    "    f.write(starting_code)\n",
    "    for i in tqdm(range(0, len(all_sql_inserts), batch_size)):\n",
    "        values = \",\\n\".join(all_sql_inserts[i:i+batch_size])\n",
    "        insert_code = f\"\"\"INSERT INTO {table_name} VALUES \\n{values};\\n\"\"\"\n",
    "        f.write(insert_code)"
   ]
  }
 ],
 "metadata": {
  "kernelspec": {
   "display_name": "Python 3",
   "language": "python",
   "name": "python3"
  },
  "language_info": {
   "codemirror_mode": {
    "name": "ipython",
    "version": 3
   },
   "file_extension": ".py",
   "mimetype": "text/x-python",
   "name": "python",
   "nbconvert_exporter": "python",
   "pygments_lexer": "ipython3",
   "version": "3.7.4"
  }
 },
 "nbformat": 4,
 "nbformat_minor": 2
}
