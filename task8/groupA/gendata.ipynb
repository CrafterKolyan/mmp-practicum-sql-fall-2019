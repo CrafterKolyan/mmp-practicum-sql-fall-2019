{
 "cells": [
  {
   "cell_type": "code",
   "execution_count": 1,
   "metadata": {},
   "outputs": [],
   "source": [
    "import numpy as np\n",
    "import pandas as pd\n",
    "import hashlib\n",
    "import random\n",
    "import base64\n",
    "import string\n",
    "import datetime\n",
    "import pytz\n",
    "from tqdm.notebook import tqdm"
   ]
  },
  {
   "cell_type": "code",
   "execution_count": 2,
   "metadata": {},
   "outputs": [],
   "source": [
    "alphanum = string.ascii_letters + '0123456789'"
   ]
  },
  {
   "cell_type": "code",
   "execution_count": 3,
   "metadata": {},
   "outputs": [],
   "source": [
    "total_users = 100000\n",
    "\n",
    "total_names = 100\n",
    "total_last_names = 100\n",
    "total_middle_names = 100\n",
    "\n",
    "total_groups = 3000\n",
    "\n",
    "min_tutors = 1\n",
    "max_tutors = 5\n",
    "\n",
    "min_students = 0\n",
    "max_students = 12\n",
    "\n",
    "min_assignments = 0\n",
    "max_assignments = 4\n",
    "\n",
    "min_tasks = 1\n",
    "max_tasks = 5\n",
    "\n",
    "min_text = 120\n",
    "max_text = 700\n",
    "\n",
    "min_solution_text = 10\n",
    "max_solution_text = 200\n",
    "\n",
    "min_comment = 0\n",
    "max_comment = 100\n",
    "\n",
    "average_solved = 2/3.\n",
    "average_graded = 0.25\n",
    "\n",
    "average_active = 0.999\n",
    "average_super_user = 1e-3\n",
    "\n",
    "offset = 1000 * 24 * 3600\n",
    "max_timestamp = 1577836800"
   ]
  },
  {
   "cell_type": "code",
   "execution_count": 4,
   "metadata": {},
   "outputs": [],
   "source": [
    "names = [\"William\", \"Liam \", \"Noah\", \"Lucas\", \"Oliver \", \"Oscar\", \"Elias\", \"Hugo\", \"Adam\", \"Alexander \", \"Walter\", \"Axel \", \"Leo\", \"Nils \", \"Alfred\", \"Vincent\", \"Leon \", \"Ludvig \", \"Charlie \", \"Theo \", \"Gabriel\", \"Filip\", \"Elliot\", \"Arvid \", \"Isak \", \"Harry\", \"Matteo\", \"Adrian\", \"Melvin\", \"Theodor\", \"Benjamin\", \"August\", \"Mohamed\", \"Viktor\", \"Josef \", \"Olle \", \"Ebbe\", \"Edvin \", \"Loui\", \"Sam\", \"Gustav \", \"Malte\", \"Sixten \", \"Frank\", \"Love\", \"Albin \", \"Frans\", \"Henry\", \"Erik \", \"Viggo \", \"Elton\", \"Emil\", \"Jack\", \"Noel \", \"Jacob\", \"Melker\", \"Vidar\", \"Milo\", \"Colin\", \"Casper \", \"Otto\", \"Carl\", \"Loke \", \"Tage\", \"Wilmer \", \"Max \", \"Sigge\", \"Wilhelm\", \"Aron\", \"Milton\", \"Felix\", \"Julian\", \"Alvin\", \"Anton\", \"Ivar\", \"Samuel \", \"Kevin\", \"Nicolas\", \"Kian\", \"John \", \"Elis \", \"Levi\", \"Hjalmar\", \"Elvin\", \"David \", \"Jonathan\", \"Joel\", \"Ville\", \"Vilgot\", \"Daniel \", \"Folke\", \"Ture\", \"Amir\", \"Ali\", \"Vide\", \"Milian\", \"Thor\", \"Omar\", \"Maximilian \", \"Lias\"]\n",
    "surnames = [\"SMITH\", \"JONES\", \"BROWN\", \"JOHNSON\", \"WILLIAMS\", \"MILLER\", \"TAYLOR\", \"WILSON\", \"DAVIS\", \"WHITE\", \"CLARK\", \"HALL\", \"THOMAS\", \"THOMPSON\", \"MOORE\", \"HILL\", \"WALKER\", \"ANDERSON\", \"WRIGHT\", \"MARTIN\", \"WOOD\", \"ALLEN\", \"ROBINSON\", \"LEWIS\", \"SCOTT\", \"YOUNG\", \"JACKSON\", \"ADAMS\", \"TRYNISKI\", \"GREEN\", \"EVANS\", \"KING\", \"BAKER\", \"JOHN\", \"HARRIS\", \"ROBERTS\", \"CAMPBELL\", \"JAMES\", \"STEWART\", \"LEE\", \"COUNTY\", \"TURNER\", \"PARKER\", \"COOK\", \"MC\", \"EDWARDS\", \"MORRIS\", \"MITCHELL\", \"BELL\", \"WARD\", \"WATSON\", \"MORGAN\", \"DAVIES\", \"COOPER\", \"PHILLIPS\", \"ROGERS\", \"GRAY\", \"HUGHES\", \"HARRISON\", \"CARTER\", \"MURPHY\", \"COLLINS\", \"HENRY\", \"FOSTER\", \"RICHARDSON\", \"RUSSELL\", \"HAMILTON\", \"SHAW\", \"BENNETT\", \"HOWARD\", \"REED\", \"FISHER\", \"MARSHALL\", \"MAY\", \"CHURCH\", \"WASHINGTON\", \"KELLY\", \"PRICE\", \"MURRAY\", \"WILLIAM\", \"PALMER\", \"STEVENS\", \"COX\", \"ROBERTSON\", \"MISS\", \"CLARKE\", \"BAILEY\", \"GEORGE\", \"NELSON\", \"MASON\", \"BUTLER\", \"MILLS\", \"HUNT\", \"ISLAND\", \"SIMPSON\", \"GRAHAM\", \"HENDERSON\", \"ROSS\", \"STONE\", \"PORTER\"]\n",
    "surnames = [p[0] + p[1:].lower() for p in surnames]"
   ]
  },
  {
   "cell_type": "code",
   "execution_count": 5,
   "metadata": {},
   "outputs": [
    {
     "data": {
      "application/vnd.jupyter.widget-view+json": {
       "model_id": "ba579c929d0842808849587ba930bc50",
       "version_major": 2,
       "version_minor": 0
      },
      "text/plain": [
       "HBox(children=(FloatProgress(value=0.0, max=100000.0), HTML(value='')))"
      ]
     },
     "metadata": {},
     "output_type": "display_data"
    },
    {
     "name": "stdout",
     "output_type": "stream",
     "text": [
      "\n"
     ]
    }
   ],
   "source": [
    "users_raw = [\n",
    "    [\n",
    "        ''.join([random.choice(string.ascii_letters)] + [random.choice(alphanum) for i in range(8)]),\n",
    "        names[min(np.random.zipf(1.4), total_names)-1],\n",
    "        surnames[min(np.random.zipf(1.4), total_last_names)-1],\n",
    "        names[min(np.random.zipf(1.4), total_middle_names)-1],\n",
    "        str(random.getrandbits(12*8)),\n",
    "        hex(random.getrandbits(12 * 4))[2:],\n",
    "        np.random.rand() < average_active,\n",
    "        np.random.rand() < average_super_user,\n",
    "    ] for i in tqdm(range(total_users))\n",
    "]"
   ]
  },
  {
   "cell_type": "code",
   "execution_count": 6,
   "metadata": {},
   "outputs": [],
   "source": [
    "users_raw = [\n",
    "    [u[0], u[1], u[2], u[3], hashlib.sha256((u[4] + u[5]).encode('utf-8')).hexdigest(), u[5], u[6], u[7]] for u in users_raw\n",
    "]"
   ]
  },
  {
   "cell_type": "code",
   "execution_count": 7,
   "metadata": {},
   "outputs": [],
   "source": [
    "users = pd.DataFrame(users_raw, columns = ['Login', 'Name', 'Last name', 'Middle name', 'Password hash', 'Salt', 'Active', 'SuperUser'])"
   ]
  },
  {
   "cell_type": "code",
   "execution_count": 8,
   "metadata": {},
   "outputs": [
    {
     "data": {
      "text/html": [
       "<div>\n",
       "<style scoped>\n",
       "    .dataframe tbody tr th:only-of-type {\n",
       "        vertical-align: middle;\n",
       "    }\n",
       "\n",
       "    .dataframe tbody tr th {\n",
       "        vertical-align: top;\n",
       "    }\n",
       "\n",
       "    .dataframe thead th {\n",
       "        text-align: right;\n",
       "    }\n",
       "</style>\n",
       "<table border=\"1\" class=\"dataframe\">\n",
       "  <thead>\n",
       "    <tr style=\"text-align: right;\">\n",
       "      <th></th>\n",
       "      <th>Login</th>\n",
       "      <th>Name</th>\n",
       "      <th>Last name</th>\n",
       "      <th>Middle name</th>\n",
       "      <th>Password hash</th>\n",
       "      <th>Salt</th>\n",
       "      <th>Active</th>\n",
       "      <th>SuperUser</th>\n",
       "    </tr>\n",
       "  </thead>\n",
       "  <tbody>\n",
       "    <tr>\n",
       "      <th>0</th>\n",
       "      <td>bQNfizWA4</td>\n",
       "      <td>William</td>\n",
       "      <td>Jones</td>\n",
       "      <td>Benjamin</td>\n",
       "      <td>3ceb61c320d8dd0af8b09ad894a08839619fc03139dcfe...</td>\n",
       "      <td>3b0145308764</td>\n",
       "      <td>True</td>\n",
       "      <td>False</td>\n",
       "    </tr>\n",
       "    <tr>\n",
       "      <th>1</th>\n",
       "      <td>FonkJOQBb</td>\n",
       "      <td>Adam</td>\n",
       "      <td>Hall</td>\n",
       "      <td>Axel</td>\n",
       "      <td>235608dad1ddb8448d1a28c625cf460eff3b885baa47bf...</td>\n",
       "      <td>4924ee5c2b4c</td>\n",
       "      <td>True</td>\n",
       "      <td>False</td>\n",
       "    </tr>\n",
       "    <tr>\n",
       "      <th>2</th>\n",
       "      <td>KR58FBZ9l</td>\n",
       "      <td>Lucas</td>\n",
       "      <td>Morris</td>\n",
       "      <td>Oliver</td>\n",
       "      <td>b18f4508611e886c6ed88b5c73c35bcea162dc53fb4176...</td>\n",
       "      <td>f39c626898ac</td>\n",
       "      <td>True</td>\n",
       "      <td>False</td>\n",
       "    </tr>\n",
       "    <tr>\n",
       "      <th>3</th>\n",
       "      <td>OdbUNntZA</td>\n",
       "      <td>William</td>\n",
       "      <td>Williams</td>\n",
       "      <td>William</td>\n",
       "      <td>4045bb6bb64cf51f0616477d0bb49a0f1abdc70ef0315c...</td>\n",
       "      <td>750aaf890aaa</td>\n",
       "      <td>True</td>\n",
       "      <td>False</td>\n",
       "    </tr>\n",
       "    <tr>\n",
       "      <th>4</th>\n",
       "      <td>J8iWVFppO</td>\n",
       "      <td>Liam</td>\n",
       "      <td>Smith</td>\n",
       "      <td>William</td>\n",
       "      <td>3664da7af3d7407e33597565655826f9bdc5d8aeefc360...</td>\n",
       "      <td>5a6fcc2b7b16</td>\n",
       "      <td>True</td>\n",
       "      <td>False</td>\n",
       "    </tr>\n",
       "    <tr>\n",
       "      <th>...</th>\n",
       "      <td>...</td>\n",
       "      <td>...</td>\n",
       "      <td>...</td>\n",
       "      <td>...</td>\n",
       "      <td>...</td>\n",
       "      <td>...</td>\n",
       "      <td>...</td>\n",
       "      <td>...</td>\n",
       "    </tr>\n",
       "    <tr>\n",
       "      <th>99995</th>\n",
       "      <td>Qi8mbCnsW</td>\n",
       "      <td>Elias</td>\n",
       "      <td>Clark</td>\n",
       "      <td>Elliot</td>\n",
       "      <td>938fdfa73e29cf517b507b27adf9407cea53099495e8a0...</td>\n",
       "      <td>69182376db15</td>\n",
       "      <td>True</td>\n",
       "      <td>False</td>\n",
       "    </tr>\n",
       "    <tr>\n",
       "      <th>99996</th>\n",
       "      <td>UErOSBHO7</td>\n",
       "      <td>Axel</td>\n",
       "      <td>Brown</td>\n",
       "      <td>Lucas</td>\n",
       "      <td>f5f5b6d5f8e9f25d2dcfbf91fc776ff3e513018951e22c...</td>\n",
       "      <td>8f6b155e2647</td>\n",
       "      <td>True</td>\n",
       "      <td>False</td>\n",
       "    </tr>\n",
       "    <tr>\n",
       "      <th>99997</th>\n",
       "      <td>iQeDHmhxg</td>\n",
       "      <td>Elliot</td>\n",
       "      <td>Johnson</td>\n",
       "      <td>Oscar</td>\n",
       "      <td>bcb352a29da1e95173693feb1772537262a3016042ba66...</td>\n",
       "      <td>a42a0386c34c</td>\n",
       "      <td>True</td>\n",
       "      <td>False</td>\n",
       "    </tr>\n",
       "    <tr>\n",
       "      <th>99998</th>\n",
       "      <td>rEeJpsAQD</td>\n",
       "      <td>Oscar</td>\n",
       "      <td>Smith</td>\n",
       "      <td>Lias</td>\n",
       "      <td>a28b8db13ed10034960d5a1c38dc0af96e5b8fb448c7d8...</td>\n",
       "      <td>7623179eb47e</td>\n",
       "      <td>True</td>\n",
       "      <td>False</td>\n",
       "    </tr>\n",
       "    <tr>\n",
       "      <th>99999</th>\n",
       "      <td>RjMlWfbOj</td>\n",
       "      <td>William</td>\n",
       "      <td>Jones</td>\n",
       "      <td>Liam</td>\n",
       "      <td>6f1acd35281657c91afb9bb45df7e2a99fb3d80f2bdb47...</td>\n",
       "      <td>acb9a8dbfa33</td>\n",
       "      <td>True</td>\n",
       "      <td>False</td>\n",
       "    </tr>\n",
       "  </tbody>\n",
       "</table>\n",
       "<p>100000 rows × 8 columns</p>\n",
       "</div>"
      ],
      "text/plain": [
       "           Login     Name Last name Middle name  \\\n",
       "0      bQNfizWA4  William     Jones    Benjamin   \n",
       "1      FonkJOQBb     Adam      Hall       Axel    \n",
       "2      KR58FBZ9l    Lucas    Morris     Oliver    \n",
       "3      OdbUNntZA  William  Williams     William   \n",
       "4      J8iWVFppO    Liam      Smith     William   \n",
       "...          ...      ...       ...         ...   \n",
       "99995  Qi8mbCnsW    Elias     Clark      Elliot   \n",
       "99996  UErOSBHO7    Axel      Brown       Lucas   \n",
       "99997  iQeDHmhxg   Elliot   Johnson       Oscar   \n",
       "99998  rEeJpsAQD    Oscar     Smith        Lias   \n",
       "99999  RjMlWfbOj  William     Jones       Liam    \n",
       "\n",
       "                                           Password hash          Salt  \\\n",
       "0      3ceb61c320d8dd0af8b09ad894a08839619fc03139dcfe...  3b0145308764   \n",
       "1      235608dad1ddb8448d1a28c625cf460eff3b885baa47bf...  4924ee5c2b4c   \n",
       "2      b18f4508611e886c6ed88b5c73c35bcea162dc53fb4176...  f39c626898ac   \n",
       "3      4045bb6bb64cf51f0616477d0bb49a0f1abdc70ef0315c...  750aaf890aaa   \n",
       "4      3664da7af3d7407e33597565655826f9bdc5d8aeefc360...  5a6fcc2b7b16   \n",
       "...                                                  ...           ...   \n",
       "99995  938fdfa73e29cf517b507b27adf9407cea53099495e8a0...  69182376db15   \n",
       "99996  f5f5b6d5f8e9f25d2dcfbf91fc776ff3e513018951e22c...  8f6b155e2647   \n",
       "99997  bcb352a29da1e95173693feb1772537262a3016042ba66...  a42a0386c34c   \n",
       "99998  a28b8db13ed10034960d5a1c38dc0af96e5b8fb448c7d8...  7623179eb47e   \n",
       "99999  6f1acd35281657c91afb9bb45df7e2a99fb3d80f2bdb47...  acb9a8dbfa33   \n",
       "\n",
       "       Active  SuperUser  \n",
       "0        True      False  \n",
       "1        True      False  \n",
       "2        True      False  \n",
       "3        True      False  \n",
       "4        True      False  \n",
       "...       ...        ...  \n",
       "99995    True      False  \n",
       "99996    True      False  \n",
       "99997    True      False  \n",
       "99998    True      False  \n",
       "99999    True      False  \n",
       "\n",
       "[100000 rows x 8 columns]"
      ]
     },
     "execution_count": 8,
     "metadata": {},
     "output_type": "execute_result"
    }
   ],
   "source": [
    "users"
   ]
  },
  {
   "cell_type": "code",
   "execution_count": null,
   "metadata": {},
   "outputs": [],
   "source": []
  },
  {
   "cell_type": "code",
   "execution_count": 9,
   "metadata": {},
   "outputs": [],
   "source": [
    "groups_raw = [\n",
    "    [\n",
    "        i,\n",
    "        ''.join([random.choice(string.ascii_letters)] + [random.choice(alphanum) for i in range(8)]),\n",
    "    ] for i in range(total_groups)\n",
    "]"
   ]
  },
  {
   "cell_type": "code",
   "execution_count": 10,
   "metadata": {},
   "outputs": [],
   "source": [
    "groups = pd.DataFrame(groups_raw, columns = ['No', 'Course'])"
   ]
  },
  {
   "cell_type": "code",
   "execution_count": 11,
   "metadata": {},
   "outputs": [
    {
     "data": {
      "text/html": [
       "<div>\n",
       "<style scoped>\n",
       "    .dataframe tbody tr th:only-of-type {\n",
       "        vertical-align: middle;\n",
       "    }\n",
       "\n",
       "    .dataframe tbody tr th {\n",
       "        vertical-align: top;\n",
       "    }\n",
       "\n",
       "    .dataframe thead th {\n",
       "        text-align: right;\n",
       "    }\n",
       "</style>\n",
       "<table border=\"1\" class=\"dataframe\">\n",
       "  <thead>\n",
       "    <tr style=\"text-align: right;\">\n",
       "      <th></th>\n",
       "      <th>No</th>\n",
       "      <th>Course</th>\n",
       "    </tr>\n",
       "  </thead>\n",
       "  <tbody>\n",
       "    <tr>\n",
       "      <th>0</th>\n",
       "      <td>0</td>\n",
       "      <td>lzaECNUZk</td>\n",
       "    </tr>\n",
       "    <tr>\n",
       "      <th>1</th>\n",
       "      <td>1</td>\n",
       "      <td>O5v1XGTCa</td>\n",
       "    </tr>\n",
       "    <tr>\n",
       "      <th>2</th>\n",
       "      <td>2</td>\n",
       "      <td>rM7R2PYOB</td>\n",
       "    </tr>\n",
       "    <tr>\n",
       "      <th>3</th>\n",
       "      <td>3</td>\n",
       "      <td>NVvxlQmyy</td>\n",
       "    </tr>\n",
       "    <tr>\n",
       "      <th>4</th>\n",
       "      <td>4</td>\n",
       "      <td>Hn8w98rwX</td>\n",
       "    </tr>\n",
       "    <tr>\n",
       "      <th>...</th>\n",
       "      <td>...</td>\n",
       "      <td>...</td>\n",
       "    </tr>\n",
       "    <tr>\n",
       "      <th>2995</th>\n",
       "      <td>2995</td>\n",
       "      <td>rO0dlQBnH</td>\n",
       "    </tr>\n",
       "    <tr>\n",
       "      <th>2996</th>\n",
       "      <td>2996</td>\n",
       "      <td>mObSt5Bpl</td>\n",
       "    </tr>\n",
       "    <tr>\n",
       "      <th>2997</th>\n",
       "      <td>2997</td>\n",
       "      <td>DJFWFhjJR</td>\n",
       "    </tr>\n",
       "    <tr>\n",
       "      <th>2998</th>\n",
       "      <td>2998</td>\n",
       "      <td>AbuRx8em3</td>\n",
       "    </tr>\n",
       "    <tr>\n",
       "      <th>2999</th>\n",
       "      <td>2999</td>\n",
       "      <td>LTmkmB0Nf</td>\n",
       "    </tr>\n",
       "  </tbody>\n",
       "</table>\n",
       "<p>3000 rows × 2 columns</p>\n",
       "</div>"
      ],
      "text/plain": [
       "        No     Course\n",
       "0        0  lzaECNUZk\n",
       "1        1  O5v1XGTCa\n",
       "2        2  rM7R2PYOB\n",
       "3        3  NVvxlQmyy\n",
       "4        4  Hn8w98rwX\n",
       "...    ...        ...\n",
       "2995  2995  rO0dlQBnH\n",
       "2996  2996  mObSt5Bpl\n",
       "2997  2997  DJFWFhjJR\n",
       "2998  2998  AbuRx8em3\n",
       "2999  2999  LTmkmB0Nf\n",
       "\n",
       "[3000 rows x 2 columns]"
      ]
     },
     "execution_count": 11,
     "metadata": {},
     "output_type": "execute_result"
    }
   ],
   "source": [
    "groups"
   ]
  },
  {
   "cell_type": "code",
   "execution_count": null,
   "metadata": {},
   "outputs": [],
   "source": []
  },
  {
   "cell_type": "code",
   "execution_count": 12,
   "metadata": {},
   "outputs": [],
   "source": [
    "group_user_rel = [\n",
    "    {\n",
    "        \"students\": list(set([users_raw[random.choice(range(total_users))][0] for i in range(random.choice(range(min_students, max_students + 1)))])),\n",
    "        \"tutors\": list(set([users_raw[random.choice(range(total_users))][0] for i in range(random.choice(range(min_tutors, max_tutors + 1)))]))\n",
    "    } for g_i in range(total_groups)\n",
    "]"
   ]
  },
  {
   "cell_type": "code",
   "execution_count": null,
   "metadata": {},
   "outputs": [],
   "source": []
  },
  {
   "cell_type": "code",
   "execution_count": 13,
   "metadata": {
    "scrolled": true
   },
   "outputs": [
    {
     "data": {
      "application/vnd.jupyter.widget-view+json": {
       "model_id": "cf152311550b452eb2e83fdf8a1ba7cd",
       "version_major": 2,
       "version_minor": 0
      },
      "text/plain": [
       "HBox(children=(FloatProgress(value=0.0, max=3000.0), HTML(value='')))"
      ]
     },
     "metadata": {},
     "output_type": "display_data"
    },
    {
     "name": "stdout",
     "output_type": "stream",
     "text": [
      "\n"
     ]
    }
   ],
   "source": [
    "assignments = [\n",
    "    {\n",
    "        \"author\": random.choice(group_user_rel[_][\"tutors\"]),\n",
    "        \"group\": group[0],\n",
    "        \"text\": ''.join([random.choice(alphanum + ' ,.!?()') for i in range(random.choice(range(min_text, max_text + 1)))]),\n",
    "        \"deadline\": np.random.randint(max_timestamp - offset, max_timestamp)\n",
    "    } for (_, group) in tqdm(groups.iterrows(), total=len(groups)) for i in range(random.choice(range(min_assignments, max_assignments + 1)))\n",
    "]\n",
    "for i,assignment in enumerate(assignments):\n",
    "    assignment['ID'] = i"
   ]
  },
  {
   "cell_type": "code",
   "execution_count": 14,
   "metadata": {},
   "outputs": [
    {
     "data": {
      "application/vnd.jupyter.widget-view+json": {
       "model_id": "e40808f1dd40419a928e31f2733357e9",
       "version_major": 2,
       "version_minor": 0
      },
      "text/plain": [
       "HBox(children=(FloatProgress(value=0.0, max=6041.0), HTML(value='')))"
      ]
     },
     "metadata": {},
     "output_type": "display_data"
    },
    {
     "name": "stdout",
     "output_type": "stream",
     "text": [
      "\n"
     ]
    }
   ],
   "source": [
    "tasks = [\n",
    "    {\n",
    "        \"assignment ID\": _,\n",
    "        \"text\": ''.join([random.choice(alphanum + ' ,.!?()') for i in range(random.choice(range(min_text, max_text + 1)))])\n",
    "    } for (_, assignment) in enumerate(tqdm(assignments)) for i in range(random.choice(range(min_tasks, max_tasks + 1)))\n",
    "]\n",
    "for i,task in enumerate(tasks):\n",
    "    task['task ID'] = i"
   ]
  },
  {
   "cell_type": "code",
   "execution_count": 15,
   "metadata": {},
   "outputs": [
    {
     "data": {
      "application/vnd.jupyter.widget-view+json": {
       "model_id": "b635367fdea0489598b58702d02de729",
       "version_major": 2,
       "version_minor": 0
      },
      "text/plain": [
       "HBox(children=(FloatProgress(value=0.0, max=18184.0), HTML(value='')))"
      ]
     },
     "metadata": {},
     "output_type": "display_data"
    },
    {
     "name": "stdout",
     "output_type": "stream",
     "text": [
      "\n"
     ]
    }
   ],
   "source": [
    "solutions = [\n",
    "    {\n",
    "        \"assignment ID\" : task[\"assignment ID\"],\n",
    "        \"task ID\": task[\"task ID\"],\n",
    "        \"student\": student,\n",
    "        \"datetime\": np.random.randint(\n",
    "            assignments[task[\"assignment ID\"]][\"deadline\"] - offset,\n",
    "            assignments[task[\"assignment ID\"]][\"deadline\"]),\n",
    "        \"text\": ''.join([random.choice(alphanum + ' ,.!?()') for i in range(random.choice(range(min_solution_text, max_solution_text + 1)))])\n",
    "    } for task in tqdm(tasks) for student in random.sample(group_user_rel[assignments[task[\"assignment ID\"]][\"group\"]][\"students\"], int(len(group_user_rel[assignments[task[\"assignment ID\"]][\"group\"]][\"students\"]) * average_solved))\n",
    "]\n",
    "for i, solution in enumerate(solutions):\n",
    "    solution['solution ID'] = i"
   ]
  },
  {
   "cell_type": "code",
   "execution_count": 16,
   "metadata": {},
   "outputs": [
    {
     "data": {
      "application/vnd.jupyter.widget-view+json": {
       "model_id": "f9ad9162a70743ba904e021baf33d412",
       "version_major": 2,
       "version_minor": 0
      },
      "text/plain": [
       "HBox(children=(FloatProgress(value=0.0, max=16452.0), HTML(value='')))"
      ]
     },
     "metadata": {},
     "output_type": "display_data"
    },
    {
     "name": "stdout",
     "output_type": "stream",
     "text": [
      "\n"
     ]
    }
   ],
   "source": [
    "grades = [\n",
    "    {\n",
    "        \"grader\": random.choice(group_user_rel[assignments[tasks[solution[\"task ID\"]][\"assignment ID\"]][\"group\"]][\"tutors\"]),\n",
    "        \"student\": solution[\"student\"],\n",
    "        \"task ID\": solution[\"task ID\"],\n",
    "        \"datetime\": np.random.randint(\n",
    "            solution[\"datetime\"],\n",
    "            max_timestamp),\n",
    "        \"comment\": ''.join([random.choice(alphanum + ' ,.!?()') for i in range(random.choice(range(min_comment, max_comment + 1)))]),\n",
    "        \"grade\": np.random.randint(10)\n",
    "    } for solution in tqdm(np.random.choice(solutions, size=int(len(solutions) * average_graded), replace=True))\n",
    "]\n",
    "for i, grade in enumerate(grades):\n",
    "    grade['grade ID'] = i"
   ]
  },
  {
   "cell_type": "markdown",
   "metadata": {},
   "source": [
    "## Приведение всего к DataFrame"
   ]
  },
  {
   "cell_type": "code",
   "execution_count": 17,
   "metadata": {},
   "outputs": [],
   "source": [
    "group_user_rel = pd.DataFrame(group_user_rel)\n",
    "assignments = pd.DataFrame(assignments)\n",
    "tasks = pd.DataFrame(tasks)\n",
    "solutions = pd.DataFrame(solutions)\n",
    "grades = pd.DataFrame(grades)"
   ]
  },
  {
   "cell_type": "code",
   "execution_count": 18,
   "metadata": {},
   "outputs": [],
   "source": [
    "timezone = pytz.timezone('Europe/Moscow')\n",
    "assignments['deadline'] = assignments['deadline'].apply(lambda x: datetime.datetime.fromtimestamp(x, timezone))\n",
    "solutions['datetime'] = solutions['datetime'].apply(lambda x: datetime.datetime.fromtimestamp(x, timezone))\n",
    "grades['datetime'] = grades['datetime'].apply(lambda x: datetime.datetime.fromtimestamp(x, timezone))"
   ]
  },
  {
   "cell_type": "code",
   "execution_count": 19,
   "metadata": {},
   "outputs": [
    {
     "name": "stdout",
     "output_type": "stream",
     "text": [
      "Table shapes:\n",
      "\tUsers: (100000, 8)\n",
      "\tGroups: (3000, 2)\n",
      "\tGroup/user rel: (3000, 2)\n",
      "\tAssignments: (6041, 5)\n",
      "\tTasks: (18184, 3)\n",
      "\tSolutions: (65809, 6)\n",
      "\tGrades: (16452, 7)\n"
     ]
    }
   ],
   "source": [
    "print(\"Table shapes:\")\n",
    "print(f\"\\tUsers: {users.shape}\")\n",
    "print(f\"\\tGroups: {groups.shape}\")\n",
    "print(f\"\\tGroup/user rel: {group_user_rel.shape}\")\n",
    "print(f\"\\tAssignments: {assignments.shape}\")\n",
    "print(f\"\\tTasks: {tasks.shape}\")\n",
    "print(f\"\\tSolutions: {solutions.shape}\")\n",
    "print(f\"\\tGrades: {grades.shape}\")"
   ]
  },
  {
   "cell_type": "markdown",
   "metadata": {},
   "source": [
    "## Создание sql файлов для загрузки данных"
   ]
  },
  {
   "cell_type": "markdown",
   "metadata": {},
   "source": [
    "### Users"
   ]
  },
  {
   "cell_type": "code",
   "execution_count": 20,
   "metadata": {},
   "outputs": [],
   "source": [
    "def create_sql_insert(row):\n",
    "    res_values = []\n",
    "    for x in row:\n",
    "        if x == True:\n",
    "            x = 1\n",
    "        elif x == False:\n",
    "            x = 0\n",
    "        if isinstance(x, datetime.datetime):\n",
    "            x = str(x)[:-6]\n",
    "        res_values.append('\\'' + str(x) + '\\'')\n",
    "    return f'({\",\".join(res_values)})'\n",
    "\n",
    "all_sql_inserts = users.apply(create_sql_insert, axis=1)"
   ]
  },
  {
   "cell_type": "code",
   "execution_count": 21,
   "metadata": {},
   "outputs": [
    {
     "data": {
      "application/vnd.jupyter.widget-view+json": {
       "model_id": "7b0b7924bf1549b383d19790c7bd8075",
       "version_major": 2,
       "version_minor": 0
      },
      "text/plain": [
       "HBox(children=(FloatProgress(value=0.0, max=196.0), HTML(value='')))"
      ]
     },
     "metadata": {},
     "output_type": "display_data"
    },
    {
     "name": "stdout",
     "output_type": "stream",
     "text": [
      "\n"
     ]
    }
   ],
   "source": [
    "batch_size = 512\n",
    "table_name = 'junk_users'\n",
    "starting_code = f\"\"\"\n",
    "DROP TABLE IF EXISTS {table_name};\n",
    "\n",
    "CREATE TABLE IF NOT EXISTS {table_name}\n",
    "(\n",
    "    login VARCHAR(40) NOT NULL,\n",
    "    `name` VARCHAR(120),\n",
    "    last_name VARCHAR(120),\n",
    "    middle_name VARCHAR(120),\n",
    "    password_hash VARCHAR(120),\n",
    "    password_salt CHARACTER(12),\n",
    "    active TINYINT(1),\n",
    "    super_user TINYINT(1),\n",
    "    PRIMARY KEY(login)\n",
    ");\n",
    "\"\"\"\n",
    "\n",
    "with open(f'{table_name}.sql', 'w') as f:\n",
    "    f.write(starting_code)\n",
    "    for i in tqdm(range(0, len(all_sql_inserts), batch_size)):\n",
    "        values = \",\\n\".join(all_sql_inserts[i:i+batch_size])\n",
    "        insert_code = f\"\"\"INSERT INTO {table_name} VALUES \\n{values};\\n\"\"\"\n",
    "        f.write(insert_code)"
   ]
  },
  {
   "cell_type": "markdown",
   "metadata": {},
   "source": [
    "### Groups"
   ]
  },
  {
   "cell_type": "code",
   "execution_count": 22,
   "metadata": {},
   "outputs": [],
   "source": [
    "all_sql_inserts = groups.apply(create_sql_insert, axis=1)"
   ]
  },
  {
   "cell_type": "code",
   "execution_count": 23,
   "metadata": {},
   "outputs": [
    {
     "data": {
      "application/vnd.jupyter.widget-view+json": {
       "model_id": "4232bc176b7343a08b464127c525a3cd",
       "version_major": 2,
       "version_minor": 0
      },
      "text/plain": [
       "HBox(children=(FloatProgress(value=0.0, max=6.0), HTML(value='')))"
      ]
     },
     "metadata": {},
     "output_type": "display_data"
    },
    {
     "name": "stdout",
     "output_type": "stream",
     "text": [
      "\n"
     ]
    }
   ],
   "source": [
    "table_name = 'junk_groups'\n",
    "starting_code = f\"\"\"\n",
    "DROP TABLE IF EXISTS {table_name};\n",
    "\n",
    "CREATE TABLE IF NOT EXISTS {table_name}\n",
    "(\n",
    "    group_key INTEGER NOT NULL,\n",
    "    discipline VARCHAR(120),\n",
    "    PRIMARY KEY(group_key)\n",
    ");\n",
    "\"\"\"\n",
    "\n",
    "with open(f'{table_name}.sql', 'w') as f:\n",
    "    f.write(starting_code)\n",
    "    for i in tqdm(range(0, len(all_sql_inserts), batch_size)):\n",
    "        values = \",\\n\".join(all_sql_inserts[i:i+batch_size])\n",
    "        insert_code = f\"\"\"INSERT INTO {table_name} VALUES \\n{values};\\n\"\"\"\n",
    "        f.write(insert_code)"
   ]
  },
  {
   "cell_type": "markdown",
   "metadata": {},
   "source": [
    "### Students"
   ]
  },
  {
   "cell_type": "code",
   "execution_count": 24,
   "metadata": {},
   "outputs": [],
   "source": [
    "all_sql_inserts = []\n",
    "for i, row in group_user_rel.iterrows():\n",
    "    for student in row['students']:\n",
    "        all_sql_inserts.append(f\"({i}, '{student}')\")"
   ]
  },
  {
   "cell_type": "code",
   "execution_count": 25,
   "metadata": {},
   "outputs": [
    {
     "data": {
      "application/vnd.jupyter.widget-view+json": {
       "model_id": "afe043ec08c546df8710110f79cfc62d",
       "version_major": 2,
       "version_minor": 0
      },
      "text/plain": [
       "HBox(children=(FloatProgress(value=0.0, max=35.0), HTML(value='')))"
      ]
     },
     "metadata": {},
     "output_type": "display_data"
    },
    {
     "name": "stdout",
     "output_type": "stream",
     "text": [
      "\n"
     ]
    }
   ],
   "source": [
    "table_name = 'junk_students'\n",
    "starting_code = f\"\"\"\n",
    "DROP TABLE IF EXISTS {table_name};\n",
    "\n",
    "CREATE TABLE IF NOT EXISTS {table_name}\n",
    "(\n",
    "    group_key INTEGER NOT NULL,\n",
    "    student_login VARCHAR(40) NOT NULL,\n",
    "    PRIMARY KEY(group_key, student_login)\n",
    ");\n",
    "\"\"\"\n",
    "\n",
    "with open(f'{table_name}.sql', 'w') as f:\n",
    "    f.write(starting_code)\n",
    "    for i in tqdm(range(0, len(all_sql_inserts), batch_size)):\n",
    "        values = \",\\n\".join(all_sql_inserts[i:i+batch_size])\n",
    "        insert_code = f\"\"\"INSERT INTO {table_name} VALUES \\n{values};\\n\"\"\"\n",
    "        f.write(insert_code)"
   ]
  },
  {
   "cell_type": "markdown",
   "metadata": {},
   "source": [
    "### Tutors"
   ]
  },
  {
   "cell_type": "code",
   "execution_count": 26,
   "metadata": {},
   "outputs": [],
   "source": [
    "all_sql_inserts = []\n",
    "for i, row in group_user_rel.iterrows():\n",
    "    for tutor in row['tutors']:\n",
    "        all_sql_inserts.append(f\"({i}, '{tutor}')\")"
   ]
  },
  {
   "cell_type": "code",
   "execution_count": 27,
   "metadata": {},
   "outputs": [
    {
     "data": {
      "application/vnd.jupyter.widget-view+json": {
       "model_id": "6190078abcb44d24b903413044673a6f",
       "version_major": 2,
       "version_minor": 0
      },
      "text/plain": [
       "HBox(children=(FloatProgress(value=0.0, max=18.0), HTML(value='')))"
      ]
     },
     "metadata": {},
     "output_type": "display_data"
    },
    {
     "name": "stdout",
     "output_type": "stream",
     "text": [
      "\n"
     ]
    }
   ],
   "source": [
    "table_name = 'junk_tutors'\n",
    "starting_code = f\"\"\"\n",
    "DROP TABLE IF EXISTS {table_name};\n",
    "\n",
    "CREATE TABLE IF NOT EXISTS {table_name}\n",
    "(\n",
    "    group_key INTEGER NOT NULL,\n",
    "    tutor_login VARCHAR(40) NOT NULL,\n",
    "    PRIMARY KEY(group_key, tutor_login)\n",
    ");\n",
    "\"\"\"\n",
    "\n",
    "with open(f'{table_name}.sql', 'w') as f:\n",
    "    f.write(starting_code)\n",
    "    for i in tqdm(range(0, len(all_sql_inserts), batch_size)):\n",
    "        values = \",\\n\".join(all_sql_inserts[i:i+batch_size])\n",
    "        insert_code = f\"\"\"INSERT INTO {table_name} VALUES \\n{values};\\n\"\"\"\n",
    "        f.write(insert_code)"
   ]
  },
  {
   "cell_type": "markdown",
   "metadata": {},
   "source": [
    "### Assignments"
   ]
  },
  {
   "cell_type": "code",
   "execution_count": 28,
   "metadata": {},
   "outputs": [],
   "source": [
    "all_sql_inserts = assignments.apply(create_sql_insert, axis=1)"
   ]
  },
  {
   "cell_type": "code",
   "execution_count": 29,
   "metadata": {},
   "outputs": [
    {
     "data": {
      "application/vnd.jupyter.widget-view+json": {
       "model_id": "61911040d9ce4d5eb2f45cc07cc0ff68",
       "version_major": 2,
       "version_minor": 0
      },
      "text/plain": [
       "HBox(children=(FloatProgress(value=0.0, max=12.0), HTML(value='')))"
      ]
     },
     "metadata": {},
     "output_type": "display_data"
    },
    {
     "name": "stdout",
     "output_type": "stream",
     "text": [
      "\n"
     ]
    }
   ],
   "source": [
    "table_name = 'junk_assignments'\n",
    "starting_code = f\"\"\"\n",
    "DROP TABLE IF EXISTS {table_name};\n",
    "\n",
    "CREATE TABLE IF NOT EXISTS {table_name}\n",
    "(\n",
    "    author VARCHAR(40) NOT NULL,\n",
    "    group_key INTEGER NOT NULL,\n",
    "    text VARCHAR(1000),\n",
    "    deadline TIMESTAMP,\n",
    "    assignment_id INTEGER,\n",
    "    PRIMARY KEY(assignment_id)\n",
    ");\n",
    "\"\"\"\n",
    "\n",
    "with open(f'{table_name}.sql', 'w') as f:\n",
    "    f.write(starting_code)\n",
    "    for i in tqdm(range(0, len(all_sql_inserts), batch_size)):\n",
    "        values = \",\\n\".join(all_sql_inserts[i:i+batch_size])\n",
    "        insert_code = f\"\"\"INSERT INTO {table_name} VALUES \\n{values};\\n\"\"\"\n",
    "        f.write(insert_code)"
   ]
  },
  {
   "cell_type": "markdown",
   "metadata": {},
   "source": [
    "### Tasks"
   ]
  },
  {
   "cell_type": "code",
   "execution_count": 30,
   "metadata": {},
   "outputs": [],
   "source": [
    "all_sql_inserts = tasks.apply(create_sql_insert, axis=1)"
   ]
  },
  {
   "cell_type": "code",
   "execution_count": 31,
   "metadata": {},
   "outputs": [
    {
     "data": {
      "application/vnd.jupyter.widget-view+json": {
       "model_id": "f3b64076300847169a3cacf82bebd182",
       "version_major": 2,
       "version_minor": 0
      },
      "text/plain": [
       "HBox(children=(FloatProgress(value=0.0, max=36.0), HTML(value='')))"
      ]
     },
     "metadata": {},
     "output_type": "display_data"
    },
    {
     "name": "stdout",
     "output_type": "stream",
     "text": [
      "\n"
     ]
    }
   ],
   "source": [
    "table_name = 'junk_tasks'\n",
    "starting_code = f\"\"\"\n",
    "DROP TABLE IF EXISTS {table_name};\n",
    "\n",
    "CREATE TABLE IF NOT EXISTS {table_name}\n",
    "(\n",
    "    assignment_id INTEGER NOT NULL,\n",
    "    text VARCHAR(1000),\n",
    "    task_id INTEGER,\n",
    "    PRIMARY KEY(task_id)\n",
    ");\n",
    "\"\"\"\n",
    "\n",
    "with open(f'{table_name}.sql', 'w') as f:\n",
    "    f.write(starting_code)\n",
    "    for i in tqdm(range(0, len(all_sql_inserts), batch_size)):\n",
    "        values = \",\\n\".join(all_sql_inserts[i:i+batch_size])\n",
    "        insert_code = f\"\"\"INSERT INTO {table_name} VALUES \\n{values};\\n\"\"\"\n",
    "        f.write(insert_code)"
   ]
  },
  {
   "cell_type": "markdown",
   "metadata": {},
   "source": [
    "### Solutions"
   ]
  },
  {
   "cell_type": "code",
   "execution_count": 32,
   "metadata": {},
   "outputs": [],
   "source": [
    "all_sql_inserts = solutions.apply(create_sql_insert, axis=1)"
   ]
  },
  {
   "cell_type": "code",
   "execution_count": 33,
   "metadata": {},
   "outputs": [
    {
     "data": {
      "application/vnd.jupyter.widget-view+json": {
       "model_id": "afa97b1a5e3a41ffb4514c87dec5aaf5",
       "version_major": 2,
       "version_minor": 0
      },
      "text/plain": [
       "HBox(children=(FloatProgress(value=0.0, max=129.0), HTML(value='')))"
      ]
     },
     "metadata": {},
     "output_type": "display_data"
    },
    {
     "name": "stdout",
     "output_type": "stream",
     "text": [
      "\n"
     ]
    }
   ],
   "source": [
    "table_name = 'junk_solutions'\n",
    "starting_code = f\"\"\"\n",
    "DROP TABLE IF EXISTS {table_name};\n",
    "\n",
    "CREATE TABLE IF NOT EXISTS {table_name}\n",
    "(\n",
    "    assignment_id INTEGER NOT NULL,\n",
    "    task_id INTEGER,\n",
    "    student VARCHAR(40),\n",
    "    date TIMESTAMP,\n",
    "    text VARCHAR(500),\n",
    "    solution_id INTEGER,\n",
    "    PRIMARY KEY(assignment_id, task_id, student)\n",
    ");\n",
    "\"\"\"\n",
    "\n",
    "with open(f'{table_name}.sql', 'w') as f:\n",
    "    f.write(starting_code)\n",
    "    for i in tqdm(range(0, len(all_sql_inserts), batch_size)):\n",
    "        values = \",\\n\".join(all_sql_inserts[i:i+batch_size])\n",
    "        insert_code = f\"\"\"INSERT INTO {table_name} VALUES \\n{values};\\n\"\"\"\n",
    "        f.write(insert_code)"
   ]
  },
  {
   "cell_type": "markdown",
   "metadata": {},
   "source": [
    "### Grades"
   ]
  },
  {
   "cell_type": "code",
   "execution_count": 34,
   "metadata": {},
   "outputs": [],
   "source": [
    "all_sql_inserts = grades.apply(create_sql_insert, axis=1)"
   ]
  },
  {
   "cell_type": "code",
   "execution_count": 35,
   "metadata": {},
   "outputs": [
    {
     "data": {
      "application/vnd.jupyter.widget-view+json": {
       "model_id": "652632e486034ba89e72421bb9eda798",
       "version_major": 2,
       "version_minor": 0
      },
      "text/plain": [
       "HBox(children=(FloatProgress(value=0.0, max=33.0), HTML(value='')))"
      ]
     },
     "metadata": {},
     "output_type": "display_data"
    },
    {
     "name": "stdout",
     "output_type": "stream",
     "text": [
      "\n"
     ]
    }
   ],
   "source": [
    "table_name = 'junk_grades'\n",
    "starting_code = f\"\"\"\n",
    "DROP TABLE IF EXISTS {table_name};\n",
    "\n",
    "CREATE TABLE IF NOT EXISTS {table_name}\n",
    "(\n",
    "    grader VARCHAR(40) NOT NULL,\n",
    "    student VARCHAR(40),\n",
    "    task_id INTEGER,\n",
    "    date TIMESTAMP,\n",
    "    comment VARCHAR(500),\n",
    "    grade INTEGER,\n",
    "    grade_id INTEGER,\n",
    "    PRIMARY KEY(grader, student, task_id, date)\n",
    ");\n",
    "\"\"\"\n",
    "\n",
    "with open(f'{table_name}.sql', 'w') as f:\n",
    "    f.write(starting_code)\n",
    "    for i in tqdm(range(0, len(all_sql_inserts), batch_size)):\n",
    "        values = \",\\n\".join(all_sql_inserts[i:i+batch_size])\n",
    "        insert_code = f\"\"\"INSERT INTO {table_name} VALUES \\n{values};\\n\"\"\"\n",
    "        f.write(insert_code)"
   ]
  }
 ],
 "metadata": {
  "kernelspec": {
   "display_name": "Python 3",
   "language": "python",
   "name": "python3"
  },
  "language_info": {
   "codemirror_mode": {
    "name": "ipython",
    "version": 3
   },
   "file_extension": ".py",
   "mimetype": "text/x-python",
   "name": "python",
   "nbconvert_exporter": "python",
   "pygments_lexer": "ipython3",
   "version": "3.7.4"
  }
 },
 "nbformat": 4,
 "nbformat_minor": 2
}
