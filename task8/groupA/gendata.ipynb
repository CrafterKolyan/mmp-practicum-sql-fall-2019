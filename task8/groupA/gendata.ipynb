{
 "cells": [
  {
   "cell_type": "code",
   "execution_count": 1,
   "metadata": {},
   "outputs": [],
   "source": [
    "import numpy as np\n",
    "import pandas as pd\n",
    "import hashlib\n",
    "import random\n",
    "import base64\n",
    "import string\n",
    "import datetime\n",
    "import pytz\n",
    "from tqdm.notebook import tqdm"
   ]
  },
  {
   "cell_type": "code",
   "execution_count": 2,
   "metadata": {},
   "outputs": [],
   "source": [
    "alphanum = string.ascii_letters + '0123456789'"
   ]
  },
  {
   "cell_type": "code",
   "execution_count": 3,
   "metadata": {},
   "outputs": [],
   "source": [
    "total_users = 100000\n",
    "\n",
    "total_names = 100\n",
    "total_last_names = 100\n",
    "total_middle_names = 100\n",
    "\n",
    "total_groups = 3000\n",
    "\n",
    "min_tutors = 1\n",
    "max_tutors = 5\n",
    "\n",
    "min_students = 0\n",
    "max_students = 25\n",
    "\n",
    "min_assignments = 0\n",
    "max_assignments = 8\n",
    "\n",
    "min_tasks = 1\n",
    "max_tasks = 10\n",
    "\n",
    "min_text = 120\n",
    "max_text = 1000\n",
    "\n",
    "min_comment = 0\n",
    "max_comment = 100\n",
    "\n",
    "average_solved = 2/3.\n",
    "average_graded = 0.75\n",
    "\n",
    "average_active = 0.999\n",
    "average_super_user = 1e-3"
   ]
  },
  {
   "cell_type": "code",
   "execution_count": 4,
   "metadata": {},
   "outputs": [],
   "source": [
    "names = [\"William\", \"Liam \", \"Noah\", \"Lucas\", \"Oliver \", \"Oscar\", \"Elias\", \"Hugo\", \"Adam\", \"Alexander \", \"Walter\", \"Axel \", \"Leo\", \"Nils \", \"Alfred\", \"Vincent\", \"Leon \", \"Ludvig \", \"Charlie \", \"Theo \", \"Gabriel\", \"Filip\", \"Elliot\", \"Arvid \", \"Isak \", \"Harry\", \"Matteo\", \"Adrian\", \"Melvin\", \"Theodor\", \"Benjamin\", \"August\", \"Mohamed\", \"Viktor\", \"Josef \", \"Olle \", \"Ebbe\", \"Edvin \", \"Loui\", \"Sam\", \"Gustav \", \"Malte\", \"Sixten \", \"Frank\", \"Love\", \"Albin \", \"Frans\", \"Henry\", \"Erik \", \"Viggo \", \"Elton\", \"Emil\", \"Jack\", \"Noel \", \"Jacob\", \"Melker\", \"Vidar\", \"Milo\", \"Colin\", \"Casper \", \"Otto\", \"Carl\", \"Loke \", \"Tage\", \"Wilmer \", \"Max \", \"Sigge\", \"Wilhelm\", \"Aron\", \"Milton\", \"Felix\", \"Julian\", \"Alvin\", \"Anton\", \"Ivar\", \"Samuel \", \"Kevin\", \"Nicolas\", \"Kian\", \"John \", \"Elis \", \"Levi\", \"Hjalmar\", \"Elvin\", \"David \", \"Jonathan\", \"Joel\", \"Ville\", \"Vilgot\", \"Daniel \", \"Folke\", \"Ture\", \"Amir\", \"Ali\", \"Vide\", \"Milian\", \"Thor\", \"Omar\", \"Maximilian \", \"Lias\"]\n",
    "surnames = [\"SMITH\", \"JONES\", \"BROWN\", \"JOHNSON\", \"WILLIAMS\", \"MILLER\", \"TAYLOR\", \"WILSON\", \"DAVIS\", \"WHITE\", \"CLARK\", \"HALL\", \"THOMAS\", \"THOMPSON\", \"MOORE\", \"HILL\", \"WALKER\", \"ANDERSON\", \"WRIGHT\", \"MARTIN\", \"WOOD\", \"ALLEN\", \"ROBINSON\", \"LEWIS\", \"SCOTT\", \"YOUNG\", \"JACKSON\", \"ADAMS\", \"TRYNISKI\", \"GREEN\", \"EVANS\", \"KING\", \"BAKER\", \"JOHN\", \"HARRIS\", \"ROBERTS\", \"CAMPBELL\", \"JAMES\", \"STEWART\", \"LEE\", \"COUNTY\", \"TURNER\", \"PARKER\", \"COOK\", \"MC\", \"EDWARDS\", \"MORRIS\", \"MITCHELL\", \"BELL\", \"WARD\", \"WATSON\", \"MORGAN\", \"DAVIES\", \"COOPER\", \"PHILLIPS\", \"ROGERS\", \"GRAY\", \"HUGHES\", \"HARRISON\", \"CARTER\", \"MURPHY\", \"COLLINS\", \"HENRY\", \"FOSTER\", \"RICHARDSON\", \"RUSSELL\", \"HAMILTON\", \"SHAW\", \"BENNETT\", \"HOWARD\", \"REED\", \"FISHER\", \"MARSHALL\", \"MAY\", \"CHURCH\", \"WASHINGTON\", \"KELLY\", \"PRICE\", \"MURRAY\", \"WILLIAM\", \"PALMER\", \"STEVENS\", \"COX\", \"ROBERTSON\", \"MISS\", \"CLARKE\", \"BAILEY\", \"GEORGE\", \"NELSON\", \"MASON\", \"BUTLER\", \"MILLS\", \"HUNT\", \"ISLAND\", \"SIMPSON\", \"GRAHAM\", \"HENDERSON\", \"ROSS\", \"STONE\", \"PORTER\"]\n",
    "surnames = [p[0] + p[1:].lower() for p in surnames]"
   ]
  },
  {
   "cell_type": "code",
   "execution_count": 5,
   "metadata": {},
   "outputs": [
    {
     "data": {
      "application/vnd.jupyter.widget-view+json": {
       "model_id": "1f6fea4349084c41a166bcce6a90aded",
       "version_major": 2,
       "version_minor": 0
      },
      "text/plain": [
       "HBox(children=(FloatProgress(value=0.0, max=100000.0), HTML(value='')))"
      ]
     },
     "metadata": {},
     "output_type": "display_data"
    },
    {
     "name": "stdout",
     "output_type": "stream",
     "text": [
      "\n"
     ]
    }
   ],
   "source": [
    "users_raw = [\n",
    "    [\n",
    "        ''.join([random.choice(string.ascii_letters)] + [random.choice(alphanum) for i in range(8)]),\n",
    "        names[min(np.random.zipf(1.4), total_names)-1],\n",
    "        surnames[min(np.random.zipf(1.4), total_last_names)-1],\n",
    "        names[min(np.random.zipf(1.4), total_middle_names)-1],\n",
    "        str(random.getrandbits(12*8)),\n",
    "        hex(random.getrandbits(12 * 4))[2:],\n",
    "        np.random.rand() < average_active,\n",
    "        np.random.rand() < average_super_user,\n",
    "    ] for i in tqdm(range(total_users))\n",
    "]"
   ]
  },
  {
   "cell_type": "code",
   "execution_count": 6,
   "metadata": {},
   "outputs": [],
   "source": [
    "users_raw = [\n",
    "    [u[0], u[1], u[2], u[3], hashlib.sha256((u[4] + u[5]).encode('utf-8')).hexdigest(), u[5], u[6], u[7]] for u in users_raw\n",
    "]"
   ]
  },
  {
   "cell_type": "code",
   "execution_count": 7,
   "metadata": {},
   "outputs": [],
   "source": [
    "users = pd.DataFrame(users_raw, columns = ['Login', 'Name', 'Last name', 'Middle name', 'Password hash', 'Salt', 'Active', 'SuperUser'])"
   ]
  },
  {
   "cell_type": "code",
   "execution_count": 8,
   "metadata": {},
   "outputs": [
    {
     "data": {
      "text/html": [
       "<div>\n",
       "<style scoped>\n",
       "    .dataframe tbody tr th:only-of-type {\n",
       "        vertical-align: middle;\n",
       "    }\n",
       "\n",
       "    .dataframe tbody tr th {\n",
       "        vertical-align: top;\n",
       "    }\n",
       "\n",
       "    .dataframe thead th {\n",
       "        text-align: right;\n",
       "    }\n",
       "</style>\n",
       "<table border=\"1\" class=\"dataframe\">\n",
       "  <thead>\n",
       "    <tr style=\"text-align: right;\">\n",
       "      <th></th>\n",
       "      <th>Login</th>\n",
       "      <th>Name</th>\n",
       "      <th>Last name</th>\n",
       "      <th>Middle name</th>\n",
       "      <th>Password hash</th>\n",
       "      <th>Salt</th>\n",
       "      <th>Active</th>\n",
       "      <th>SuperUser</th>\n",
       "    </tr>\n",
       "  </thead>\n",
       "  <tbody>\n",
       "    <tr>\n",
       "      <th>0</th>\n",
       "      <td>axEaWjr0H</td>\n",
       "      <td>William</td>\n",
       "      <td>Jones</td>\n",
       "      <td>Liam</td>\n",
       "      <td>ab854b71df650c70dfca862aefe4da91c58a11be57f356...</td>\n",
       "      <td>5dc8779944d5</td>\n",
       "      <td>True</td>\n",
       "      <td>False</td>\n",
       "    </tr>\n",
       "    <tr>\n",
       "      <th>1</th>\n",
       "      <td>jZicYal41</td>\n",
       "      <td>Milo</td>\n",
       "      <td>Thomas</td>\n",
       "      <td>William</td>\n",
       "      <td>1ab4d3e8f310522e22a87adc23e0bd628336818fbf0764...</td>\n",
       "      <td>d194b3ea9f90</td>\n",
       "      <td>True</td>\n",
       "      <td>False</td>\n",
       "    </tr>\n",
       "    <tr>\n",
       "      <th>2</th>\n",
       "      <td>KOolwDFYk</td>\n",
       "      <td>William</td>\n",
       "      <td>Smith</td>\n",
       "      <td>Lias</td>\n",
       "      <td>505946846ce461d386399da57c064f08977ee2eba996de...</td>\n",
       "      <td>6fd54000691e</td>\n",
       "      <td>True</td>\n",
       "      <td>False</td>\n",
       "    </tr>\n",
       "    <tr>\n",
       "      <th>3</th>\n",
       "      <td>HBsUiRkyM</td>\n",
       "      <td>William</td>\n",
       "      <td>Wood</td>\n",
       "      <td>William</td>\n",
       "      <td>732a2106df3cdf2f0523a4a0db01259dd58fcecc6f4786...</td>\n",
       "      <td>17ef6d7c09fe</td>\n",
       "      <td>True</td>\n",
       "      <td>False</td>\n",
       "    </tr>\n",
       "    <tr>\n",
       "      <th>4</th>\n",
       "      <td>djP2xHEuu</td>\n",
       "      <td>William</td>\n",
       "      <td>Brown</td>\n",
       "      <td>William</td>\n",
       "      <td>2cab480c36e39276777f4c7907e3bacce378a77fd831c5...</td>\n",
       "      <td>dccbe646d3f8</td>\n",
       "      <td>True</td>\n",
       "      <td>False</td>\n",
       "    </tr>\n",
       "    <tr>\n",
       "      <th>...</th>\n",
       "      <td>...</td>\n",
       "      <td>...</td>\n",
       "      <td>...</td>\n",
       "      <td>...</td>\n",
       "      <td>...</td>\n",
       "      <td>...</td>\n",
       "      <td>...</td>\n",
       "      <td>...</td>\n",
       "    </tr>\n",
       "    <tr>\n",
       "      <th>99995</th>\n",
       "      <td>spp77gUXx</td>\n",
       "      <td>Noah</td>\n",
       "      <td>Porter</td>\n",
       "      <td>Liam</td>\n",
       "      <td>309dd680ed4faced1b2bcdf2a5fdc2403021af9f2428f9...</td>\n",
       "      <td>a9208829865c</td>\n",
       "      <td>True</td>\n",
       "      <td>False</td>\n",
       "    </tr>\n",
       "    <tr>\n",
       "      <th>99996</th>\n",
       "      <td>b9KlimQ4M</td>\n",
       "      <td>William</td>\n",
       "      <td>Jones</td>\n",
       "      <td>Liam</td>\n",
       "      <td>4ecc368e422451aa7976aa295b23f8848b570582c47498...</td>\n",
       "      <td>4106a6654aee</td>\n",
       "      <td>True</td>\n",
       "      <td>False</td>\n",
       "    </tr>\n",
       "    <tr>\n",
       "      <th>99997</th>\n",
       "      <td>lWQfsZiAz</td>\n",
       "      <td>Lucas</td>\n",
       "      <td>Porter</td>\n",
       "      <td>Hugo</td>\n",
       "      <td>afe24cddfcaf520096a0883819b99edc3f7d67b07c1f53...</td>\n",
       "      <td>44a72f8963a2</td>\n",
       "      <td>True</td>\n",
       "      <td>False</td>\n",
       "    </tr>\n",
       "    <tr>\n",
       "      <th>99998</th>\n",
       "      <td>ip7dfJRk0</td>\n",
       "      <td>Lias</td>\n",
       "      <td>Jones</td>\n",
       "      <td>William</td>\n",
       "      <td>53392227ec4a48e1943cb66e6f8b00667f22f67a52d5cb...</td>\n",
       "      <td>23b9c4b3bdf9</td>\n",
       "      <td>True</td>\n",
       "      <td>False</td>\n",
       "    </tr>\n",
       "    <tr>\n",
       "      <th>99999</th>\n",
       "      <td>h5GDoa1sc</td>\n",
       "      <td>Liam</td>\n",
       "      <td>Porter</td>\n",
       "      <td>Oliver</td>\n",
       "      <td>2070ca313677947e815411725289383be23d9d1dafe118...</td>\n",
       "      <td>6f1339c969b4</td>\n",
       "      <td>True</td>\n",
       "      <td>False</td>\n",
       "    </tr>\n",
       "  </tbody>\n",
       "</table>\n",
       "<p>100000 rows × 8 columns</p>\n",
       "</div>"
      ],
      "text/plain": [
       "           Login     Name Last name Middle name  \\\n",
       "0      axEaWjr0H  William     Jones       Liam    \n",
       "1      jZicYal41     Milo    Thomas     William   \n",
       "2      KOolwDFYk  William     Smith        Lias   \n",
       "3      HBsUiRkyM  William      Wood     William   \n",
       "4      djP2xHEuu  William     Brown     William   \n",
       "...          ...      ...       ...         ...   \n",
       "99995  spp77gUXx     Noah    Porter       Liam    \n",
       "99996  b9KlimQ4M  William     Jones       Liam    \n",
       "99997  lWQfsZiAz    Lucas    Porter        Hugo   \n",
       "99998  ip7dfJRk0     Lias     Jones     William   \n",
       "99999  h5GDoa1sc    Liam     Porter     Oliver    \n",
       "\n",
       "                                           Password hash          Salt  \\\n",
       "0      ab854b71df650c70dfca862aefe4da91c58a11be57f356...  5dc8779944d5   \n",
       "1      1ab4d3e8f310522e22a87adc23e0bd628336818fbf0764...  d194b3ea9f90   \n",
       "2      505946846ce461d386399da57c064f08977ee2eba996de...  6fd54000691e   \n",
       "3      732a2106df3cdf2f0523a4a0db01259dd58fcecc6f4786...  17ef6d7c09fe   \n",
       "4      2cab480c36e39276777f4c7907e3bacce378a77fd831c5...  dccbe646d3f8   \n",
       "...                                                  ...           ...   \n",
       "99995  309dd680ed4faced1b2bcdf2a5fdc2403021af9f2428f9...  a9208829865c   \n",
       "99996  4ecc368e422451aa7976aa295b23f8848b570582c47498...  4106a6654aee   \n",
       "99997  afe24cddfcaf520096a0883819b99edc3f7d67b07c1f53...  44a72f8963a2   \n",
       "99998  53392227ec4a48e1943cb66e6f8b00667f22f67a52d5cb...  23b9c4b3bdf9   \n",
       "99999  2070ca313677947e815411725289383be23d9d1dafe118...  6f1339c969b4   \n",
       "\n",
       "       Active  SuperUser  \n",
       "0        True      False  \n",
       "1        True      False  \n",
       "2        True      False  \n",
       "3        True      False  \n",
       "4        True      False  \n",
       "...       ...        ...  \n",
       "99995    True      False  \n",
       "99996    True      False  \n",
       "99997    True      False  \n",
       "99998    True      False  \n",
       "99999    True      False  \n",
       "\n",
       "[100000 rows x 8 columns]"
      ]
     },
     "execution_count": 8,
     "metadata": {},
     "output_type": "execute_result"
    }
   ],
   "source": [
    "users"
   ]
  },
  {
   "cell_type": "code",
   "execution_count": null,
   "metadata": {},
   "outputs": [],
   "source": []
  },
  {
   "cell_type": "code",
   "execution_count": 9,
   "metadata": {},
   "outputs": [],
   "source": [
    "groups_raw = [\n",
    "    [\n",
    "        i,\n",
    "        ''.join([random.choice(string.ascii_letters)] + [random.choice(alphanum) for i in range(8)]),\n",
    "    ] for i in range(total_groups)\n",
    "]"
   ]
  },
  {
   "cell_type": "code",
   "execution_count": 10,
   "metadata": {},
   "outputs": [],
   "source": [
    "groups = pd.DataFrame(groups_raw, columns = ['No', 'Course'])"
   ]
  },
  {
   "cell_type": "code",
   "execution_count": 11,
   "metadata": {},
   "outputs": [
    {
     "data": {
      "text/html": [
       "<div>\n",
       "<style scoped>\n",
       "    .dataframe tbody tr th:only-of-type {\n",
       "        vertical-align: middle;\n",
       "    }\n",
       "\n",
       "    .dataframe tbody tr th {\n",
       "        vertical-align: top;\n",
       "    }\n",
       "\n",
       "    .dataframe thead th {\n",
       "        text-align: right;\n",
       "    }\n",
       "</style>\n",
       "<table border=\"1\" class=\"dataframe\">\n",
       "  <thead>\n",
       "    <tr style=\"text-align: right;\">\n",
       "      <th></th>\n",
       "      <th>No</th>\n",
       "      <th>Course</th>\n",
       "    </tr>\n",
       "  </thead>\n",
       "  <tbody>\n",
       "    <tr>\n",
       "      <th>0</th>\n",
       "      <td>0</td>\n",
       "      <td>hpUlkh218</td>\n",
       "    </tr>\n",
       "    <tr>\n",
       "      <th>1</th>\n",
       "      <td>1</td>\n",
       "      <td>U3u3JWqCW</td>\n",
       "    </tr>\n",
       "    <tr>\n",
       "      <th>2</th>\n",
       "      <td>2</td>\n",
       "      <td>f7hrUxKz5</td>\n",
       "    </tr>\n",
       "    <tr>\n",
       "      <th>3</th>\n",
       "      <td>3</td>\n",
       "      <td>L1qOPhBZV</td>\n",
       "    </tr>\n",
       "    <tr>\n",
       "      <th>4</th>\n",
       "      <td>4</td>\n",
       "      <td>Pcdkaka4v</td>\n",
       "    </tr>\n",
       "    <tr>\n",
       "      <th>...</th>\n",
       "      <td>...</td>\n",
       "      <td>...</td>\n",
       "    </tr>\n",
       "    <tr>\n",
       "      <th>2995</th>\n",
       "      <td>2995</td>\n",
       "      <td>wZezNkS0J</td>\n",
       "    </tr>\n",
       "    <tr>\n",
       "      <th>2996</th>\n",
       "      <td>2996</td>\n",
       "      <td>A8I2Rxv9H</td>\n",
       "    </tr>\n",
       "    <tr>\n",
       "      <th>2997</th>\n",
       "      <td>2997</td>\n",
       "      <td>rzKSGeX5Z</td>\n",
       "    </tr>\n",
       "    <tr>\n",
       "      <th>2998</th>\n",
       "      <td>2998</td>\n",
       "      <td>EXwq3N4JD</td>\n",
       "    </tr>\n",
       "    <tr>\n",
       "      <th>2999</th>\n",
       "      <td>2999</td>\n",
       "      <td>fucqIZIH5</td>\n",
       "    </tr>\n",
       "  </tbody>\n",
       "</table>\n",
       "<p>3000 rows × 2 columns</p>\n",
       "</div>"
      ],
      "text/plain": [
       "        No     Course\n",
       "0        0  hpUlkh218\n",
       "1        1  U3u3JWqCW\n",
       "2        2  f7hrUxKz5\n",
       "3        3  L1qOPhBZV\n",
       "4        4  Pcdkaka4v\n",
       "...    ...        ...\n",
       "2995  2995  wZezNkS0J\n",
       "2996  2996  A8I2Rxv9H\n",
       "2997  2997  rzKSGeX5Z\n",
       "2998  2998  EXwq3N4JD\n",
       "2999  2999  fucqIZIH5\n",
       "\n",
       "[3000 rows x 2 columns]"
      ]
     },
     "execution_count": 11,
     "metadata": {},
     "output_type": "execute_result"
    }
   ],
   "source": [
    "groups"
   ]
  },
  {
   "cell_type": "code",
   "execution_count": null,
   "metadata": {},
   "outputs": [],
   "source": []
  },
  {
   "cell_type": "code",
   "execution_count": 12,
   "metadata": {},
   "outputs": [],
   "source": [
    "group_user_rel = [\n",
    "    {\n",
    "        \"students\": list(set([users_raw[random.choice(range(total_users))][0] for i in range(random.choice(range(min_students, max_students + 1)))])),\n",
    "        \"tutors\": list(set([users_raw[random.choice(range(total_users))][0] for i in range(random.choice(range(min_tutors, max_tutors + 1)))]))\n",
    "    } for g_i in range(total_groups)\n",
    "]"
   ]
  },
  {
   "cell_type": "code",
   "execution_count": null,
   "metadata": {},
   "outputs": [],
   "source": []
  },
  {
   "cell_type": "code",
   "execution_count": 13,
   "metadata": {
    "scrolled": true
   },
   "outputs": [
    {
     "data": {
      "application/vnd.jupyter.widget-view+json": {
       "model_id": "5538c0a31c6d4d69868791de58a0493c",
       "version_major": 2,
       "version_minor": 0
      },
      "text/plain": [
       "HBox(children=(FloatProgress(value=0.0, max=3000.0), HTML(value='')))"
      ]
     },
     "metadata": {},
     "output_type": "display_data"
    },
    {
     "name": "stdout",
     "output_type": "stream",
     "text": [
      "\n"
     ]
    }
   ],
   "source": [
    "assignments = [\n",
    "    {\n",
    "        \"author\": random.choice(group_user_rel[_][\"tutors\"]),\n",
    "        \"group\": group[0],\n",
    "        \"text\": ''.join([random.choice(alphanum + ' ,.!?()') for i in range(random.choice(range(min_text, max_text + 1)))]),\n",
    "        \"deadline\": np.random.randint(0, 2**31-1)\n",
    "    } for (_, group) in tqdm(groups.iterrows(), total=len(groups)) for i in range(random.choice(range(min_assignments, max_assignments + 1)))\n",
    "]\n",
    "for i,assignment in enumerate(assignments):\n",
    "    assignment['ID'] = i"
   ]
  },
  {
   "cell_type": "code",
   "execution_count": null,
   "metadata": {},
   "outputs": [
    {
     "data": {
      "application/vnd.jupyter.widget-view+json": {
       "model_id": "0c96cffe5a5d49a4a7d4d25e19579904",
       "version_major": 2,
       "version_minor": 0
      },
      "text/plain": [
       "HBox(children=(FloatProgress(value=0.0, max=12040.0), HTML(value='')))"
      ]
     },
     "metadata": {},
     "output_type": "display_data"
    }
   ],
   "source": [
    "tasks = [\n",
    "    {\n",
    "        \"assignment ID\": _,\n",
    "        \"text\": ''.join([random.choice(alphanum + ' ,.!?()') for i in range(random.choice(range(min_text, max_text + 1)))])\n",
    "    } for (_, assignment) in enumerate(tqdm(assignments)) for i in range(random.choice(range(min_tasks, max_tasks + 1)))\n",
    "]\n",
    "for i,task in enumerate(tasks):\n",
    "    task['task ID'] = i"
   ]
  },
  {
   "cell_type": "code",
   "execution_count": null,
   "metadata": {},
   "outputs": [],
   "source": [
    "solutions = [\n",
    "    {\n",
    "        \"assignment ID\" : task[\"assignment ID\"],\n",
    "        \"task ID\": task[\"task ID\"],\n",
    "        \"student\": student,\n",
    "        \"datetime\": np.random.randint(\n",
    "            assignments[task[\"assignment ID\"]][\"deadline\"],\n",
    "            2**31-1)\n",
    "    } for task in tasks for student in tqdm(random.sample(group_user_rel[assignments[task[\"assignment ID\"]][\"group\"]][\"students\"], int(len(group_user_rel[assignments[task[\"assignment ID\"]][\"group\"]][\"students\"]) * average_solved)))\n",
    "]"
   ]
  },
  {
   "cell_type": "code",
   "execution_count": null,
   "metadata": {},
   "outputs": [],
   "source": [
    "grades = [\n",
    "    {\n",
    "        \"grader\": random.choice(group_user_rel[assignments[tasks[solution[\"task ID\"]][\"assignment ID\"]][\"group\"]][\"tutors\"]),\n",
    "        \"student\": solution[\"student\"],\n",
    "        \"task ID\": solution[\"task ID\"],\n",
    "        \"datetime\": np.random.randint(\n",
    "            solution[\"datetime\"],\n",
    "            2**31-1),\n",
    "        \"comment\": ''.join([random.choice(alphanum + ' ,.!?()') for i in range(random.choice(range(min_comment, max_comment + 1)))]),\n",
    "        \"grade\": np.random.randint(10)\n",
    "    } for solution in tqdm(random.sample(solutions, int(len(solutions) * average_graded)))\n",
    "]"
   ]
  },
  {
   "cell_type": "markdown",
   "metadata": {},
   "source": [
    "## Приведение всего к DataFrame"
   ]
  },
  {
   "cell_type": "code",
   "execution_count": null,
   "metadata": {},
   "outputs": [],
   "source": [
    "group_user_rel = pd.DataFrame(group_user_rel)\n",
    "assignments = pd.DataFrame(assignments)\n",
    "tasks = pd.DataFrame(tasks)\n",
    "solutions = pd.DataFrame(solutions)\n",
    "grades = pd.DataFrame(grades)"
   ]
  },
  {
   "cell_type": "code",
   "execution_count": null,
   "metadata": {},
   "outputs": [],
   "source": [
    "timezone = pytz.timezone('Europe/Moscow')\n",
    "assignments['deadline'] = assignments['deadline'].apply(lambda x: datetime.datetime.fromtimestamp(x, timezone))\n",
    "solutions['datetime'] = solutions['datetime'].apply(lambda x: datetime.datetime.fromtimestamp(x, timezone))\n",
    "grades['datetime'] = grades['datetime'].apply(lambda x: datetime.datetime.fromtimestamp(x, timezone))"
   ]
  },
  {
   "cell_type": "code",
   "execution_count": null,
   "metadata": {},
   "outputs": [],
   "source": [
    "print(\"Table shapes:\")\n",
    "print(f\"\\tUsers: {users.shape}\")\n",
    "print(f\"\\tGroups: {groups.shape}\")\n",
    "print(f\"\\tGroup/user rel: {group_user_rel.shape}\")\n",
    "print(f\"\\tAssignments: {assignments.shape}\")\n",
    "print(f\"\\tTasks: {tasks.shape}\")\n",
    "print(f\"\\tSolutions: {solutions.shape}\")\n",
    "print(f\"\\tGrades: {grades.shape}\")"
   ]
  },
  {
   "cell_type": "markdown",
   "metadata": {},
   "source": [
    "## Создание sql файлов для загрузки данных"
   ]
  },
  {
   "cell_type": "markdown",
   "metadata": {},
   "source": [
    "### Users"
   ]
  },
  {
   "cell_type": "code",
   "execution_count": null,
   "metadata": {},
   "outputs": [],
   "source": [
    "def create_sql_insert(row):\n",
    "    res_values = []\n",
    "    for x in row:\n",
    "        if x == True:\n",
    "            x = 1\n",
    "        elif x == False:\n",
    "            x = 0\n",
    "        if isinstance(x, datetime.datetime):\n",
    "            x = str(x)[:-6]\n",
    "        res_values.append('\\'' + str(x) + '\\'')\n",
    "    return f'({\",\".join(res_values)})'\n",
    "\n",
    "all_sql_inserts = users.apply(create_sql_insert, axis=1)"
   ]
  },
  {
   "cell_type": "code",
   "execution_count": null,
   "metadata": {},
   "outputs": [],
   "source": [
    "batch_size = 512\n",
    "table_name = 'junk_users'\n",
    "starting_code = f\"\"\"\n",
    "DROP TABLE IF EXISTS {table_name};\n",
    "\n",
    "CREATE TABLE IF NOT EXISTS {table_name}\n",
    "(\n",
    "    login VARCHAR(40) NOT NULL,\n",
    "    `name` VARCHAR(120),\n",
    "    last_name VARCHAR(120),\n",
    "    middle_name VARCHAR(120),\n",
    "    password_hash VARCHAR(120),\n",
    "    password_salt CHARACTER(12),\n",
    "    active TINYINT(1),\n",
    "    super_user TINYINT(1),\n",
    "    PRIMARY KEY(login)\n",
    ");\n",
    "\"\"\"\n",
    "\n",
    "with open(f'{table_name}.sql', 'w') as f:\n",
    "    f.write(starting_code)\n",
    "    for i in tqdm(range(0, len(all_sql_inserts), batch_size)):\n",
    "        values = \",\\n\".join(all_sql_inserts[i:i+batch_size])\n",
    "        insert_code = f\"\"\"INSERT INTO {table_name} VALUES \\n{values};\\n\"\"\"\n",
    "        f.write(insert_code)"
   ]
  },
  {
   "cell_type": "markdown",
   "metadata": {},
   "source": [
    "### Groups"
   ]
  },
  {
   "cell_type": "code",
   "execution_count": null,
   "metadata": {},
   "outputs": [],
   "source": [
    "all_sql_inserts = groups.apply(create_sql_insert, axis=1)"
   ]
  },
  {
   "cell_type": "code",
   "execution_count": null,
   "metadata": {},
   "outputs": [],
   "source": [
    "table_name = 'junk_groups'\n",
    "starting_code = f\"\"\"\n",
    "DROP TABLE IF EXISTS {table_name};\n",
    "\n",
    "CREATE TABLE IF NOT EXISTS {table_name}\n",
    "(\n",
    "    group_key INTEGER NOT NULL,\n",
    "    discipline VARCHAR(120),\n",
    "    PRIMARY KEY(group_key)\n",
    ");\n",
    "\"\"\"\n",
    "\n",
    "with open(f'{table_name}.sql', 'w') as f:\n",
    "    f.write(starting_code)\n",
    "    for i in tqdm(range(0, len(all_sql_inserts), batch_size)):\n",
    "        values = \",\\n\".join(all_sql_inserts[i:i+batch_size])\n",
    "        insert_code = f\"\"\"INSERT INTO {table_name} VALUES \\n{values};\\n\"\"\"\n",
    "        f.write(insert_code)"
   ]
  },
  {
   "cell_type": "markdown",
   "metadata": {},
   "source": [
    "### Students"
   ]
  },
  {
   "cell_type": "code",
   "execution_count": null,
   "metadata": {},
   "outputs": [],
   "source": [
    "all_sql_inserts = []\n",
    "for i, row in group_user_rel.iterrows():\n",
    "    for student in row['students']:\n",
    "        all_sql_inserts.append(f\"({i}, '{student}')\")"
   ]
  },
  {
   "cell_type": "code",
   "execution_count": null,
   "metadata": {},
   "outputs": [],
   "source": [
    "table_name = 'junk_students'\n",
    "starting_code = f\"\"\"\n",
    "DROP TABLE IF EXISTS {table_name};\n",
    "\n",
    "CREATE TABLE IF NOT EXISTS {table_name}\n",
    "(\n",
    "    group_key INTEGER NOT NULL,\n",
    "    student_login VARCHAR(40) NOT NULL,\n",
    "    PRIMARY KEY(group_key, student_login)\n",
    ");\n",
    "\"\"\"\n",
    "\n",
    "with open(f'{table_name}.sql', 'w') as f:\n",
    "    f.write(starting_code)\n",
    "    for i in tqdm(range(0, len(all_sql_inserts), batch_size)):\n",
    "        values = \",\\n\".join(all_sql_inserts[i:i+batch_size])\n",
    "        insert_code = f\"\"\"INSERT INTO {table_name} VALUES \\n{values};\\n\"\"\"\n",
    "        f.write(insert_code)"
   ]
  },
  {
   "cell_type": "markdown",
   "metadata": {},
   "source": [
    "### Tutors"
   ]
  },
  {
   "cell_type": "code",
   "execution_count": null,
   "metadata": {},
   "outputs": [],
   "source": [
    "all_sql_inserts = []\n",
    "for i, row in group_user_rel.iterrows():\n",
    "    for tutor in row['tutors']:\n",
    "        all_sql_inserts.append(f\"({i}, '{tutor}')\")"
   ]
  },
  {
   "cell_type": "code",
   "execution_count": null,
   "metadata": {},
   "outputs": [],
   "source": [
    "table_name = 'junk_tutors'\n",
    "starting_code = f\"\"\"\n",
    "DROP TABLE IF EXISTS {table_name};\n",
    "\n",
    "CREATE TABLE IF NOT EXISTS {table_name}\n",
    "(\n",
    "    group_key INTEGER NOT NULL,\n",
    "    tutor_login VARCHAR(40) NOT NULL,\n",
    "    PRIMARY KEY(group_key, tutor_login)\n",
    ");\n",
    "\"\"\"\n",
    "\n",
    "with open(f'{table_name}.sql', 'w') as f:\n",
    "    f.write(starting_code)\n",
    "    for i in tqdm(range(0, len(all_sql_inserts), batch_size)):\n",
    "        values = \",\\n\".join(all_sql_inserts[i:i+batch_size])\n",
    "        insert_code = f\"\"\"INSERT INTO {table_name} VALUES \\n{values};\\n\"\"\"\n",
    "        f.write(insert_code)"
   ]
  },
  {
   "cell_type": "markdown",
   "metadata": {},
   "source": [
    "### Assignments"
   ]
  },
  {
   "cell_type": "code",
   "execution_count": null,
   "metadata": {},
   "outputs": [],
   "source": [
    "all_sql_inserts = assignments.apply(create_sql_insert, axis=1)"
   ]
  },
  {
   "cell_type": "code",
   "execution_count": null,
   "metadata": {},
   "outputs": [],
   "source": [
    "table_name = 'junk_assignments'\n",
    "starting_code = f\"\"\"\n",
    "DROP TABLE IF EXISTS {table_name};\n",
    "\n",
    "CREATE TABLE IF NOT EXISTS {table_name}\n",
    "(\n",
    "    author VARCHAR(40) NOT NULL,\n",
    "    group_key INTEGER NOT NULL,\n",
    "    text VARCHAR(1000),\n",
    "    deadline TIMESTAMP,\n",
    "    assignment_id INTEGER,\n",
    "    PRIMARY KEY(assignment_id)\n",
    ");\n",
    "\"\"\"\n",
    "\n",
    "with open(f'{table_name}.sql', 'w') as f:\n",
    "    f.write(starting_code)\n",
    "    for i in tqdm(range(0, len(all_sql_inserts), batch_size)):\n",
    "        values = \",\\n\".join(all_sql_inserts[i:i+batch_size])\n",
    "        insert_code = f\"\"\"INSERT INTO {table_name} VALUES \\n{values};\\n\"\"\"\n",
    "        f.write(insert_code)"
   ]
  },
  {
   "cell_type": "markdown",
   "metadata": {},
   "source": [
    "### Tasks"
   ]
  },
  {
   "cell_type": "code",
   "execution_count": null,
   "metadata": {},
   "outputs": [],
   "source": [
    "all_sql_inserts = tasks.apply(create_sql_insert, axis=1)"
   ]
  },
  {
   "cell_type": "code",
   "execution_count": null,
   "metadata": {},
   "outputs": [],
   "source": [
    "table_name = 'junk_tasks'\n",
    "starting_code = f\"\"\"\n",
    "DROP TABLE IF EXISTS {table_name};\n",
    "\n",
    "CREATE TABLE IF NOT EXISTS {table_name}\n",
    "(\n",
    "    assignment_id INTEGER NOT NULL,\n",
    "    text VARCHAR(1000),\n",
    "    task_id INTEGER,\n",
    "    PRIMARY KEY(task_id)\n",
    ");\n",
    "\"\"\"\n",
    "\n",
    "with open(f'{table_name}.sql', 'w') as f:\n",
    "    f.write(starting_code)\n",
    "    for i in tqdm(range(0, len(all_sql_inserts), batch_size)):\n",
    "        values = \",\\n\".join(all_sql_inserts[i:i+batch_size])\n",
    "        insert_code = f\"\"\"INSERT INTO {table_name} VALUES \\n{values};\\n\"\"\"\n",
    "        f.write(insert_code)"
   ]
  },
  {
   "cell_type": "markdown",
   "metadata": {},
   "source": [
    "### Solutions"
   ]
  },
  {
   "cell_type": "code",
   "execution_count": null,
   "metadata": {},
   "outputs": [],
   "source": [
    "all_sql_inserts = solutions.apply(create_sql_insert, axis=1)"
   ]
  },
  {
   "cell_type": "code",
   "execution_count": null,
   "metadata": {},
   "outputs": [],
   "source": [
    "table_name = 'junk_solutions'\n",
    "starting_code = f\"\"\"\n",
    "DROP TABLE IF EXISTS {table_name};\n",
    "\n",
    "CREATE TABLE IF NOT EXISTS {table_name}\n",
    "(\n",
    "    assignment_id INTEGER NOT NULL,\n",
    "    task_id INTEGER,\n",
    "    student VARCHAR(40),\n",
    "    date TIMESTAMP,\n",
    "    PRIMARY KEY(assignment_id, task_id, student)\n",
    ");\n",
    "\"\"\"\n",
    "\n",
    "with open(f'{table_name}.sql', 'w') as f:\n",
    "    f.write(starting_code)\n",
    "    for i in tqdm(range(0, len(all_sql_inserts), batch_size)):\n",
    "        values = \",\\n\".join(all_sql_inserts[i:i+batch_size])\n",
    "        insert_code = f\"\"\"INSERT INTO {table_name} VALUES \\n{values};\\n\"\"\"\n",
    "        f.write(insert_code)"
   ]
  },
  {
   "cell_type": "markdown",
   "metadata": {},
   "source": [
    "### Grades"
   ]
  },
  {
   "cell_type": "code",
   "execution_count": null,
   "metadata": {},
   "outputs": [],
   "source": [
    "all_sql_inserts = grades.apply(create_sql_insert, axis=1)"
   ]
  },
  {
   "cell_type": "code",
   "execution_count": null,
   "metadata": {},
   "outputs": [],
   "source": [
    "table_name = 'junk_grades'\n",
    "starting_code = f\"\"\"\n",
    "DROP TABLE IF EXISTS {table_name};\n",
    "\n",
    "CREATE TABLE IF NOT EXISTS {table_name}\n",
    "(\n",
    "    grader VARCHAR(40) NOT NULL,\n",
    "    student VARCHAR(40),\n",
    "    task_id INTEGER,\n",
    "    date TIMESTAMP,\n",
    "    comment VARCHAR(500),\n",
    "    grade INTEGER\n",
    "    PRIMARY KEY(grader, task_id, date)\n",
    ");\n",
    "\"\"\"\n",
    "\n",
    "with open(f'{table_name}.sql', 'w') as f:\n",
    "    f.write(starting_code)\n",
    "    for i in tqdm(range(0, len(all_sql_inserts), batch_size)):\n",
    "        values = \",\\n\".join(all_sql_inserts[i:i+batch_size])\n",
    "        insert_code = f\"\"\"INSERT INTO {table_name} VALUES \\n{values};\\n\"\"\"\n",
    "        f.write(insert_code)"
   ]
  }
 ],
 "metadata": {
  "kernelspec": {
   "display_name": "Python 3",
   "language": "python",
   "name": "python3"
  },
  "language_info": {
   "codemirror_mode": {
    "name": "ipython",
    "version": 3
   },
   "file_extension": ".py",
   "mimetype": "text/x-python",
   "name": "python",
   "nbconvert_exporter": "python",
   "pygments_lexer": "ipython3",
   "version": "3.7.4"
  }
 },
 "nbformat": 4,
 "nbformat_minor": 2
}
